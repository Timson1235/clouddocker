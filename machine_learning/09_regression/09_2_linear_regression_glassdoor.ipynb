{
 "cells": [
  {
   "cell_type": "markdown",
   "id": "77edbc3f-54c1-43c5-8e5b-978577550198",
   "metadata": {
    "tags": []
   },
   "source": [
    "# Linear Regression\n",
    "<div class=\"alert alert-block alert-info\">\n",
    "<b>Content:</b> In this notebook we run linear regression for a couple of experiments\n",
    "    \n",
    "* analysis of data\n",
    "* prediction of data using the plain linear regression\n",
    "* prediction of data using modified versions\n",
    "</div>\n"
   ]
  },
  {
   "cell_type": "code",
   "execution_count": null,
   "id": "5ad53a2d-6636-40ae-8c1f-2c92b51759b1",
   "metadata": {
    "jupyter": {
     "source_hidden": true
    },
    "tags": []
   },
   "outputs": [],
   "source": [
    "import pandas as pd\n",
    "import numpy as np\n",
    "import time\n",
    "import matplotlib.pyplot as plt\n",
    "from sklearn.linear_model import LinearRegression\n",
    "from sklearn.metrics import r2_score\n",
    "from scipy.stats import pearsonr\n",
    "from sklearn.model_selection import GridSearchCV, cross_val_score, KFold\n",
    "from sklearn.base import BaseEstimator\n",
    "from sklearn.preprocessing import PolynomialFeatures"
   ]
  },
  {
   "cell_type": "markdown",
   "id": "8d663c62-8beb-4b31-b1d7-7b8a91df0ffa",
   "metadata": {
    "jupyter": {
     "source_hidden": true
    },
    "tags": []
   },
   "source": [
    "## The Dataset"
   ]
  },
  {
   "cell_type": "markdown",
   "id": "b34f4972-7248-449f-9e6d-265d62694244",
   "metadata": {
    "jupyter": {
     "source_hidden": true
    }
   },
   "source": [
    "The following uses a __hypothetical__ demo dataset provided by the company glassdoor. The dataset is suitable for analyzing gender gaps in populations, e.g. the employees of a company."
   ]
  },
  {
   "cell_type": "code",
   "execution_count": null,
   "id": "2a7d4f20-a00a-4824-9903-2d1f4e4ba398",
   "metadata": {
    "jupyter": {
     "source_hidden": true
    },
    "tags": []
   },
   "outputs": [],
   "source": [
    "raw_data=pd.read_csv(\"data/glassdoor.csv\")\n",
    "print(raw_data.shape)"
   ]
  },
  {
   "cell_type": "code",
   "execution_count": null,
   "id": "973ca23c-c1db-43d8-a2a5-f77f22b94b0f",
   "metadata": {
    "jupyter": {
     "source_hidden": true
    },
    "tags": []
   },
   "outputs": [],
   "source": [
    "raw_data.head()"
   ]
  },
  {
   "cell_type": "code",
   "execution_count": null,
   "id": "5c0e1610-f114-499c-91bb-f14a7a81be70",
   "metadata": {
    "jupyter": {
     "source_hidden": true
    },
    "tags": []
   },
   "outputs": [],
   "source": [
    "target=raw_data.basePay+raw_data.bonus\n",
    "raw_features =raw_data.drop([\"basePay\", \"jobTitle\", \"bonus\"], axis=1)\n",
    "features=pd.get_dummies(raw_features, drop_first=True)"
   ]
  },
  {
   "cell_type": "code",
   "execution_count": null,
   "id": "96595062-4861-4192-aa82-3381df10df04",
   "metadata": {
    "jupyter": {
     "source_hidden": true
    },
    "tags": []
   },
   "outputs": [],
   "source": [
    "features.head()"
   ]
  },
  {
   "cell_type": "markdown",
   "id": "3dd0cdf5-0f12-485d-a894-7518a1cab618",
   "metadata": {
    "jupyter": {
     "source_hidden": true
    },
    "tags": []
   },
   "source": [
    "## Descriptive Data Analysis"
   ]
  },
  {
   "cell_type": "markdown",
   "id": "d9035804-bc73-4ad8-9d6b-9442f3927214",
   "metadata": {
    "jupyter": {
     "source_hidden": true
    },
    "tags": []
   },
   "source": [
    "### Checking for Correlation"
   ]
  },
  {
   "cell_type": "code",
   "execution_count": null,
   "id": "59b7b5e7-e9db-43e6-ad89-4be2b6ad2963",
   "metadata": {
    "jupyter": {
     "source_hidden": true
    },
    "tags": []
   },
   "outputs": [],
   "source": [
    "print(\"age:\", pearsonr(target, features.age)) # returns correlation and p-value (smaller means more indication of a non-coincidental result)\n",
    "print(\"perfEval:\", pearsonr(target, features.perfEval))\n",
    "print(\"seniority:\", pearsonr(target, features.seniority))\n",
    "print(\"gender_Male:\", pearsonr(target, features.gender_Male))"
   ]
  },
  {
   "cell_type": "code",
   "execution_count": null,
   "id": "2aeb5b7d-23c9-4909-aac0-87884d8bf1b8",
   "metadata": {
    "jupyter": {
     "source_hidden": true
    }
   },
   "outputs": [],
   "source": [
    "def pearson(i):\n",
    "    a=pearsonr(target, features[i])\n",
    "    return [a.statistic, a.pvalue]\n",
    "    \n",
    "d=pd.DataFrame(columns=[\"feature\", \"pearson\", \"p-value\"], \n",
    "               data=[[i]+pearson(i) for i in features.columns])\n",
    "d.round(2).sort_values(\"pearson\")"
   ]
  },
  {
   "cell_type": "markdown",
   "id": "a433c6c9-9d75-4b31-9b31-9c9d937670c4",
   "metadata": {
    "jupyter": {
     "source_hidden": true
    }
   },
   "source": [
    "* We observe significant high correlation between\n",
    "    * target and age and\n",
    "    * target and seniority.\n",
    "\n",
    "There is also a (less strong yet significant) correlation between target and gender!"
   ]
  },
  {
   "cell_type": "code",
   "execution_count": null,
   "id": "64b1fabf-2044-4e99-bfe0-4fb654d10b0d",
   "metadata": {
    "jupyter": {
     "source_hidden": true
    },
    "tags": []
   },
   "outputs": [],
   "source": [
    "plt.scatter(raw_data.age, target)"
   ]
  },
  {
   "cell_type": "code",
   "execution_count": null,
   "id": "57c47a06-ee10-422b-b7f7-9ec8f52a1baa",
   "metadata": {
    "jupyter": {
     "source_hidden": true
    },
    "tags": []
   },
   "outputs": [],
   "source": [
    "plt.scatter(raw_data.perfEval, target)"
   ]
  },
  {
   "cell_type": "code",
   "execution_count": null,
   "id": "e0c05563-ef65-465c-8cba-8139c43760a3",
   "metadata": {
    "jupyter": {
     "source_hidden": true
    },
    "tags": []
   },
   "outputs": [],
   "source": [
    "plt.scatter(raw_data.seniority, target)"
   ]
  },
  {
   "cell_type": "markdown",
   "id": "86430ec9-27e2-4a92-b54f-e0b3d59009b8",
   "metadata": {
    "jupyter": {
     "source_hidden": true
    },
    "tags": []
   },
   "source": [
    "Plots are nice, but often deceptive. Even though the two above plots look similar, the correlation they are supposed to show is absolutely not similar!"
   ]
  },
  {
   "cell_type": "markdown",
   "id": "fa358534-4895-4add-8414-02691f87dd81",
   "metadata": {
    "jupyter": {
     "source_hidden": true
    },
    "tags": []
   },
   "source": [
    "### Analysis By Linear Regression on the Full Dataset\n",
    "Linear Regression as an Exploratory Tool"
   ]
  },
  {
   "cell_type": "code",
   "execution_count": null,
   "id": "d95e3c89-6e62-4bcf-b847-3e69cbea63d9",
   "metadata": {
    "jupyter": {
     "source_hidden": true
    },
    "tags": []
   },
   "outputs": [],
   "source": [
    "reg_full= LinearRegression()\n",
    "reg_full.fit(np.array(features), target)"
   ]
  },
  {
   "cell_type": "code",
   "execution_count": null,
   "id": "6d88b533-14da-4477-8fb0-0ce357e5e64d",
   "metadata": {
    "jupyter": {
     "source_hidden": true
    },
    "tags": []
   },
   "outputs": [],
   "source": [
    "reg_full_r2=r2_score(target, reg_full.predict(np.array(features)))\n",
    "reg_full_r2"
   ]
  },
  {
   "cell_type": "markdown",
   "id": "0724ccff-fdee-4f8a-8803-55d3428d4ce0",
   "metadata": {
    "jupyter": {
     "source_hidden": true
    },
    "tags": []
   },
   "source": [
    "The linear regression model explains some part (64%) of the variance. There is also some unexplained variance in the data."
   ]
  },
  {
   "cell_type": "code",
   "execution_count": null,
   "id": "3ce90fa2-2811-40cd-a1ae-bede20d426b4",
   "metadata": {
    "jupyter": {
     "source_hidden": true
    },
    "tags": []
   },
   "outputs": [],
   "source": [
    "w=reg_full.coef_\n",
    "w"
   ]
  },
  {
   "cell_type": "code",
   "execution_count": null,
   "id": "a7b469f7-0f87-482a-9323-7ab919da89ef",
   "metadata": {
    "jupyter": {
     "source_hidden": true
    },
    "tags": []
   },
   "outputs": [],
   "source": [
    "for i in range(0, len(features.columns)): \n",
    "    print(features.columns[i], w[i])"
   ]
  },
  {
   "cell_type": "markdown",
   "id": "3fab1287-3e2f-4084-afa5-488be8560eed",
   "metadata": {
    "jupyter": {
     "source_hidden": true
    },
    "tags": []
   },
   "source": [
    "Interpretation Examples of the model: Ceteris Paribus\n",
    "* aging a year correlates with a total pay increase of 693 dollars\n",
    "* with high school as highest education (instead of college) decreases total pay by -2012 dollars, wheras a PhD increases the total py by 6463 dollars\n",
    "* departments Engineering and Management lead to higher sallaries than Operations and Sales\n",
    "* males receive 6352 dollars more than females\n",
    "\n",
    "These numbers assume that the learned model fully describes the data and they are not to be misunderstood as mathematical properties!\n",
    "\n",
    "The population parameters are NO measure for correlation (compare e.g. age and perfEval!)\n",
    "\n",
    "The results say nothing about causation. Thus it would not be reasonable to assume that generally simply getting older increases your pay."
   ]
  },
  {
   "cell_type": "markdown",
   "id": "91bab3e8-cbff-450f-81f8-4f0b69797828",
   "metadata": {
    "jupyter": {
     "source_hidden": true
    },
    "tags": []
   },
   "source": [
    "# Plotting Residuals"
   ]
  },
  {
   "cell_type": "code",
   "execution_count": null,
   "id": "02d2fd24-fac1-418d-bf7b-a228617cc642",
   "metadata": {
    "jupyter": {
     "source_hidden": true
    }
   },
   "outputs": [],
   "source": [
    "plt.scatter(target, target-reg_full.predict(np.array(features)))\n",
    "plt.xlabel(\"Target\")\n",
    "plt.ylabel(\"Residual\")\n",
    "plt.savefig('results/target-residuals.pdf')"
   ]
  },
  {
   "cell_type": "raw",
   "id": "e4469fbd-da57-4b0f-acd4-27957ac71af1",
   "metadata": {
    "jupyter": {
     "source_hidden": true
    }
   },
   "source": [
    "Lower values are overestimated, higher values are underestimated."
   ]
  },
  {
   "cell_type": "code",
   "execution_count": null,
   "id": "8d312c0a-bea7-455e-82be-dcea680bb139",
   "metadata": {
    "jupyter": {
     "source_hidden": true
    },
    "tags": []
   },
   "outputs": [],
   "source": [
    "plt.scatter(features.age, target-reg_full.predict(np.array(features)))\n",
    "plt.xlabel(\"Age\")\n",
    "plt.ylabel(\"Residual\")\n",
    "plt.savefig('results/residuals.pdf')"
   ]
  },
  {
   "cell_type": "markdown",
   "id": "7e0b7166-4e89-420f-8dac-f9731b6ce181",
   "metadata": {
    "jupyter": {
     "source_hidden": true
    },
    "tags": []
   },
   "source": [
    "* The residuals plot reveals high residuals.\n",
    "* This suggests that not enough information is given in the features to fully explain the target.\n",
    "* There is no obvious dependence of residuals on age."
   ]
  },
  {
   "cell_type": "markdown",
   "id": "20cf09bf-c3ef-401f-8620-f9a58fe498a5",
   "metadata": {
    "jupyter": {
     "source_hidden": true
    },
    "tags": []
   },
   "source": [
    "### Using Linear Regression to Investigate Specific Variables"
   ]
  },
  {
   "cell_type": "code",
   "execution_count": null,
   "id": "5b387706-6cd5-441f-9c88-0d8ac93b3618",
   "metadata": {
    "jupyter": {
     "source_hidden": true
    },
    "tags": []
   },
   "outputs": [],
   "source": [
    "reg_age = LinearRegression()\n",
    "reg_age.fit(np.expand_dims(np.array(raw_data.age), axis=1), target)\n",
    "w=reg_age.coef_\n",
    "b=reg_age.intercept_\n",
    "age_space=np.arange(0,70,1)\n",
    "y=reg_age.predict(age_space.reshape(-1,1))"
   ]
  },
  {
   "cell_type": "code",
   "execution_count": null,
   "id": "add41912-02ea-40d9-8340-209265cb35a2",
   "metadata": {
    "jupyter": {
     "source_hidden": true
    },
    "tags": []
   },
   "outputs": [],
   "source": [
    "r2_score(target, reg_age.predict(np.array(raw_data[[\"age\"]])))"
   ]
  },
  {
   "cell_type": "markdown",
   "id": "d0783c70-2c13-4c63-a0de-ad337d2b9a70",
   "metadata": {
    "jupyter": {
     "source_hidden": true
    },
    "tags": []
   },
   "source": [
    "There is (of cause) much more unexplained variance."
   ]
  },
  {
   "cell_type": "code",
   "execution_count": null,
   "id": "7bbf4ac2-1271-4699-bcd9-33e6f4844f57",
   "metadata": {
    "jupyter": {
     "source_hidden": true
    },
    "tags": []
   },
   "outputs": [],
   "source": [
    "plt.scatter(raw_data.age, target)\n",
    "plt.plot(age_space, y, c='black')"
   ]
  },
  {
   "cell_type": "markdown",
   "id": "1a022bbb-4499-4a98-9192-2c1de386b7f4",
   "metadata": {
    "jupyter": {
     "source_hidden": true
    },
    "tags": []
   },
   "source": [
    "### Investigate Two Variables\n",
    "Equal-Slopes method (assumption: both features are independent)"
   ]
  },
  {
   "cell_type": "code",
   "execution_count": null,
   "id": "691607ef-188e-4cb4-9a3e-15e725b9617e",
   "metadata": {
    "jupyter": {
     "source_hidden": true
    },
    "tags": []
   },
   "outputs": [],
   "source": [
    "reg_age_sen = LinearRegression()\n",
    "reg_age_sen.fit(np.array(raw_data[[\"age\", \"seniority\"]]), target)"
   ]
  },
  {
   "cell_type": "code",
   "execution_count": null,
   "id": "1c98e0f5-3c96-414a-8390-bdf42ba5c59c",
   "metadata": {
    "jupyter": {
     "source_hidden": true
    },
    "tags": []
   },
   "outputs": [],
   "source": [
    "reg_age_sen.coef_"
   ]
  },
  {
   "cell_type": "code",
   "execution_count": null,
   "id": "33ef8231-94b8-41b0-a252-63f72cd34bc8",
   "metadata": {
    "jupyter": {
     "source_hidden": true
    },
    "tags": []
   },
   "outputs": [],
   "source": [
    "r2_score(target, reg_age_sen.predict(np.array(raw_data[[\"age\", \"seniority\"]])))"
   ]
  },
  {
   "cell_type": "code",
   "execution_count": null,
   "id": "1417e528-c35f-4258-ac97-54b3c1734339",
   "metadata": {
    "jupyter": {
     "source_hidden": true
    },
    "tags": []
   },
   "outputs": [],
   "source": [
    "age_space=np.arange(0,70,1)\n",
    "seniority_space=np.arange(1,6,1)"
   ]
  },
  {
   "cell_type": "code",
   "execution_count": null,
   "id": "1951d306-d45b-430d-b6f3-80fd8a541ddb",
   "metadata": {
    "jupyter": {
     "source_hidden": true
    },
    "tags": []
   },
   "outputs": [],
   "source": [
    "plt.scatter(raw_data.age, target)\n",
    "for s in range(0,len(seniority_space), 1):\n",
    "    grid=np.stack((age_space, seniority_space[s]*np.ones_like(age_space)), axis=1)\n",
    "    y=reg_age_sen.predict(grid)\n",
    "    plt.plot(age_space, y, label=seniority_space[s])\n",
    "plt.legend()"
   ]
  },
  {
   "cell_type": "markdown",
   "id": "4b044546-48db-4d41-ac01-28f8f4eea992",
   "metadata": {
    "jupyter": {
     "source_hidden": true
    },
    "tags": []
   },
   "source": [
    "higher age and higher seniority correlate positively with higher total pay\n",
    "Linear model -> parallel slopes. Alterantive: Compute own models for each seniority level (treat different seniorities as different populations)"
   ]
  },
  {
   "cell_type": "markdown",
   "id": "222f4385-3c15-4635-ac11-2744c09f7a83",
   "metadata": {
    "jupyter": {
     "source_hidden": true
    },
    "tags": []
   },
   "source": [
    "# Evaluation of Machine Learning Models"
   ]
  },
  {
   "cell_type": "code",
   "execution_count": null,
   "id": "d4a48188-c731-4eee-ad9d-0678f7301b28",
   "metadata": {
    "jupyter": {
     "source_hidden": true
    },
    "tags": []
   },
   "outputs": [],
   "source": [
    "inner_cv = KFold(n_splits=10, shuffle=True, random_state=0)\n",
    "outer_cv = KFold(n_splits=10, shuffle=True, random_state=1)\n",
    "\n",
    "def print_eval(result):\n",
    "    #print(result, 3)\n",
    "    print(\"RMSE: {:,.2f}\".format(np.round(np.sqrt(-1*res.mean()), 3)))\n",
    "    print(\" MSE: {:,.2f}\".format(-1*np.round(res.mean(), 3)), \"±\", \"{:,.2f}\".format(np.round(res.std(), 3)))"
   ]
  },
  {
   "cell_type": "markdown",
   "id": "be52f69b-6ad9-41fc-aa4b-48541e30dbb8",
   "metadata": {
    "jupyter": {
     "source_hidden": true
    },
    "tags": []
   },
   "source": [
    "## Linear Regression"
   ]
  },
  {
   "cell_type": "code",
   "execution_count": null,
   "id": "3134aa16-2cc5-40fd-ac35-81fd9dad5703",
   "metadata": {
    "jupyter": {
     "source_hidden": true
    },
    "tags": []
   },
   "outputs": [],
   "source": [
    "res=cross_val_score(LinearRegression(), np.array(features), target, cv=outer_cv, n_jobs=5, scoring='neg_mean_squared_error')\n",
    "print_eval(res)"
   ]
  },
  {
   "cell_type": "markdown",
   "id": "8a44ebd5-c6ce-4688-bbed-29d170d71373",
   "metadata": {
    "jupyter": {
     "source_hidden": true
    },
    "tags": []
   },
   "source": [
    "## Polynomial Regression"
   ]
  },
  {
   "cell_type": "code",
   "execution_count": null,
   "id": "0ae5b05e-41b4-49c9-b74e-7bebae623c7c",
   "metadata": {
    "jupyter": {
     "source_hidden": true
    },
    "tags": []
   },
   "outputs": [],
   "source": [
    "poly=PolynomialFeatures(degree=4)\n",
    "X_poly=poly.fit_transform(np.array(features))\n",
    "print(features.shape)\n",
    "print(X_poly.shape)\n",
    "reg=LinearRegression()\n",
    "reg.fit(X_poly,target)"
   ]
  },
  {
   "cell_type": "code",
   "execution_count": null,
   "id": "41957037-a6ba-4770-b772-b9bb3359b1be",
   "metadata": {
    "jupyter": {
     "source_hidden": true
    },
    "tags": []
   },
   "outputs": [],
   "source": [
    "r2_score(target, reg.predict(X_poly))"
   ]
  },
  {
   "cell_type": "code",
   "execution_count": null,
   "id": "74b26729-c8f4-4087-972a-ebf7851d82f3",
   "metadata": {
    "jupyter": {
     "source_hidden": true
    }
   },
   "outputs": [],
   "source": [
    "reg_full_r2 # for comparison the respective value of the linear fit"
   ]
  },
  {
   "cell_type": "markdown",
   "id": "59de967d-eb1e-4dab-a7c6-dada20984b64",
   "metadata": {
    "jupyter": {
     "source_hidden": true
    },
    "tags": []
   },
   "source": [
    "The significantly(!) more complex model explains the variance better. But, does it lead to better predictive performance or rather to overfitting? -> Proper ML Evaluation"
   ]
  },
  {
   "cell_type": "code",
   "execution_count": null,
   "id": "bfd0648c-9ccf-494c-bb40-2204ba7fe251",
   "metadata": {
    "jupyter": {
     "source_hidden": true
    },
    "tags": []
   },
   "outputs": [],
   "source": [
    "class PolynomialRegression(BaseEstimator):\n",
    "    def __init__(self, degree=1):\n",
    "        self.degree = degree\n",
    "    \n",
    "    def fit(self, X, y):\n",
    "        self.model = LinearRegression(fit_intercept=False) # polynomial features create a feature with degree 0: 1\n",
    "        self.poly_feature=PolynomialFeatures(degree=self.degree)\n",
    "        X_poly=self.poly_feature.fit_transform(X)\n",
    "        self.model.fit(X_poly, y)\n",
    "    \n",
    "    def predict(self, X):\n",
    "        return self.model.predict(self.poly_feature.transform(X))\n",
    "    \n",
    "    def coef_(self):\n",
    "        return self.model.coef_\n"
   ]
  },
  {
   "cell_type": "code",
   "execution_count": null,
   "id": "ac4008a1-3b1c-42f4-a362-fb27cdbb39d0",
   "metadata": {
    "jupyter": {
     "source_hidden": true
    },
    "tags": []
   },
   "outputs": [],
   "source": [
    "poly_reg=PolynomialRegression()\n",
    "\n",
    "poly_reg_grid={\n",
    "    'degree':[2,3,4]\n",
    "}\n",
    "poly_reg_grid_cv = GridSearchCV(\n",
    "    estimator=poly_reg, param_grid=poly_reg_grid, cv=inner_cv, n_jobs=5, scoring='neg_mean_squared_error')\n",
    "res=cross_val_score(poly_reg_grid_cv, np.array(features), target, cv=outer_cv, n_jobs=5, scoring='neg_mean_squared_error')\n",
    "\n",
    "print_eval(res)"
   ]
  },
  {
   "cell_type": "code",
   "execution_count": null,
   "id": "2f8c3d40-34e2-4e4a-bea4-73be0634ef2d",
   "metadata": {
    "jupyter": {
     "source_hidden": true
    },
    "tags": []
   },
   "outputs": [],
   "source": [
    "poly_reg_grid_cv.fit(features,target)\n",
    "poly_reg_grid_cv.best_params_"
   ]
  },
  {
   "cell_type": "markdown",
   "id": "12bedac2-544d-47f7-9f22-f6475346da6d",
   "metadata": {
    "jupyter": {
     "source_hidden": true
    },
    "tags": []
   },
   "source": [
    "* Interpretation of polynomial regression is much more difficult.\n",
    "* However, additional non-linear variable allow a better fit to the data (more explained variance)\n",
    "* HOWEVER: This did not translate into a boost of predictive performance!"
   ]
  },
  {
   "cell_type": "markdown",
   "id": "9dc5adad-1ca7-480d-a539-078d35be6192",
   "metadata": {
    "jupyter": {
     "source_hidden": true
    },
    "tags": []
   },
   "source": [
    "<div class=\"alert alert-block alert-info\">\n",
    "<b>Take Aways:</b> \n",
    "\n",
    "* Running Linear Regression.\n",
    "* Linear Regression Coefficients can be interpreted (ceteris paribus)\n",
    "* The interpretation is however limited.\n",
    "* The residuals can and should be investigated.\n",
    "* Similar to the kernel trick of SVMs, we can turn linear regression into non-linear regression, here polynomial regression.\n",
    "</div>"
   ]
  },
  {
   "cell_type": "markdown",
   "id": "453f4350-ebd0-45d3-b680-abbc21a31637",
   "metadata": {
    "jupyter": {
     "source_hidden": true
    },
    "tags": []
   },
   "source": [
    "Remarks on the observed gender pay gap evidence:\n",
    "* Data ignores non-binary gender.\n",
    "* Data taken from https://research.glassdoor.com/site-us/wp-content/uploads/sites/2/2019/03/GD_Report_AnalyzingGenderPayGap_v2-2.pdf\n",
    "\n",
    "* It represents __hypothetical__ data, thus __no real evidence__.\n",
    "\n",
    "__If__ the data __was__ real, our analysis would have revealed, that a gender pay gap does exist -- within the considered data. (This is a topic with potentially vastly different results in different countries and different industries).\n",
    "\n",
    "* Multiple factors might lead directly or indirectly to a pay gap\n",
    "     * directly: individuals of a group get payed less, despite the same education/job-title/seniority/... \n",
    "     * indirectly:\n",
    "         * a group works more often in less-well payed jobs\n",
    "         * a group is underrepresented in the higher educational\n",
    "         * a group does not reach the same seniority levels as others (usually seniority is correlated with long-term full-time employment)\n",
    "\n",
    "To investigate such factors, one can gather first evidence:"
   ]
  },
  {
   "cell_type": "code",
   "execution_count": null,
   "id": "1435cf44-b20e-4bc7-af3b-4809fef24a06",
   "metadata": {
    "jupyter": {
     "source_hidden": true
    }
   },
   "outputs": [],
   "source": [
    "raw_data"
   ]
  },
  {
   "cell_type": "code",
   "execution_count": null,
   "id": "7e7aabf6-70d6-4d7e-810d-aef834109d50",
   "metadata": {
    "jupyter": {
     "source_hidden": true
    }
   },
   "outputs": [],
   "source": [
    "raw_data[\"total\"] = raw_data.basePay+raw_data.bonus"
   ]
  },
  {
   "cell_type": "code",
   "execution_count": null,
   "id": "975c334d-ceb7-445a-9b3a-bb03469d2187",
   "metadata": {
    "jupyter": {
     "source_hidden": true
    }
   },
   "outputs": [],
   "source": [
    "gender_avg=raw_data[['gender', 'total']].groupby('gender').aggregate(['min', 'max', 'mean'])\n",
    "gender_avg"
   ]
  },
  {
   "cell_type": "code",
   "execution_count": null,
   "id": "c74d9508-9ab9-4441-828c-e60b79059c3c",
   "metadata": {
    "jupyter": {
     "source_hidden": true
    }
   },
   "outputs": [],
   "source": [
    "def gap(a,b):\n",
    "    return (b-a)/b*100"
   ]
  },
  {
   "cell_type": "code",
   "execution_count": null,
   "id": "d63acbf2-3114-4587-a502-7b3986e30fa2",
   "metadata": {
    "jupyter": {
     "source_hidden": true
    }
   },
   "outputs": [],
   "source": [
    "gap(gender_avg[('total', 'mean')]['Female'], gender_avg[('total', 'mean')]['Male'])"
   ]
  },
  {
   "cell_type": "code",
   "execution_count": null,
   "id": "d02cf380-daf1-47b0-9db7-f95ec8923d17",
   "metadata": {
    "jupyter": {
     "source_hidden": true
    }
   },
   "outputs": [],
   "source": [
    "mean_per_jobtitle=raw_data[['jobTitle', 'total']].groupby(['jobTitle']).aggregate(mean=('total', 'mean'))\n",
    "mean_per_jobtitle"
   ]
  },
  {
   "cell_type": "code",
   "execution_count": null,
   "id": "36e32452-bbc1-4421-a3c1-50a56cae3d65",
   "metadata": {
    "jupyter": {
     "source_hidden": true
    }
   },
   "outputs": [],
   "source": [
    "def get_gender_table_for_criterion(raw_data, criterion):\n",
    "    mean_per_criterion=raw_data[[criterion, 'total']].groupby([criterion]).aggregate(mean=('total', 'mean'))\n",
    "\n",
    "    a=raw_data[['gender', criterion, 'total']].groupby(['gender', criterion]).aggregate(mean=('total', 'mean'), count=('total', 'count'))\n",
    "    a=a.reset_index()\n",
    "    b=a.pivot(index=criterion, columns='gender')\n",
    "    b.columns = ['_'.join(col) for col in b.columns]\n",
    "    \n",
    "    b['gap']=b.apply(lambda x: gap(a = x['mean_Female'], b = x['mean_Male']), axis=1)\n",
    "    \n",
    "    b = pd.concat([b,mean_per_criterion], axis=1) \n",
    "    b=b.sort_values('mean')\n",
    "    return b"
   ]
  },
  {
   "cell_type": "code",
   "execution_count": null,
   "id": "5ee468f0-ac9a-4a25-b635-edef8f6ecce9",
   "metadata": {
    "jupyter": {
     "source_hidden": true
    }
   },
   "outputs": [],
   "source": [
    "get_gender_table_for_criterion(raw_data, 'jobTitle').round(2)"
   ]
  },
  {
   "cell_type": "code",
   "execution_count": null,
   "id": "e7093bf4-4bb3-41de-b813-03aad58fb43c",
   "metadata": {
    "jupyter": {
     "source_hidden": true
    }
   },
   "outputs": [],
   "source": [
    "get_gender_table_for_criterion(raw_data, 'seniority')"
   ]
  },
  {
   "cell_type": "code",
   "execution_count": null,
   "id": "bd06e196-6fb8-48f6-a29b-68ad54c1ef9e",
   "metadata": {
    "jupyter": {
     "source_hidden": true
    }
   },
   "outputs": [],
   "source": [
    "get_gender_table_for_criterion(raw_data, 'edu')"
   ]
  },
  {
   "cell_type": "markdown",
   "id": "52419c4b-1085-4640-a77b-37d3eefd2feb",
   "metadata": {
    "jupyter": {
     "source_hidden": true
    }
   },
   "source": [
    "__Technical Remarks___\n",
    "All these investigations could be conducted by grouping by more than just one entity (e.g. combinations of edu/seniority/jobTitle/dept.\n",
    "* Generally very many subgroups to investigate separately, no overall impression.\n",
    "* Often small groups (statistical significance problematic).\n",
    "* Other ideas include \"corrections\" - adjustments to account for the influcences of other groups.\n",
    "* Uneven Distribution over different fields often leads to counter-intuitive results. Look up \"Simpson's Paradox\".\n",
    "\n",
    "__General Remarks__\n",
    "* No matter which influences create the pay gap (direkt or indirect influences), it is still a pay gap. The analysis of the factors does not change that, however, depending on the factors, different levers are needed to fix it.\n",
    "* While this data is hypothetical, the gender pay gap is a well-known statistically proven phenomenon. E.g. a comparison on European countries here: https://www.destatis.de/Europa/EN/Topic/Population-Labour-Social-Issues/Labour-market/gender_pay_gap.html\n"
   ]
  },
  {
   "cell_type": "markdown",
   "id": "062673bb-4dd3-4ff0-ae00-4b5584ffab3d",
   "metadata": {
    "jupyter": {
     "source_hidden": true
    }
   },
   "source": [
    "<div class=\"alert alert-block alert-success\">\n",
    "<b>Play with:</b> \n",
    "    \n",
    "* change the target attribute (e.g. square the values, use the logarithm)\n",
    "* use linear regression on that and compare to polynomial regression\n",
    "</div>\n"
   ]
  },
  {
   "cell_type": "code",
   "execution_count": null,
   "id": "549c49cf-0fff-4659-abaa-1cf609481594",
   "metadata": {
    "jupyter": {
     "source_hidden": true
    }
   },
   "outputs": [],
   "source": []
  }
 ],
 "metadata": {
  "kernelspec": {
   "display_name": "envML24sose",
   "language": "python",
   "name": "envml24sose"
  },
  "language_info": {
   "codemirror_mode": {
    "name": "ipython",
    "version": 3
   },
   "file_extension": ".py",
   "mimetype": "text/x-python",
   "name": "python",
   "nbconvert_exporter": "python",
   "pygments_lexer": "ipython3",
   "version": "3.12.2"
  },
  "widgets": {
   "application/vnd.jupyter.widget-state+json": {
    "state": {},
    "version_major": 2,
    "version_minor": 0
   }
  }
 },
 "nbformat": 4,
 "nbformat_minor": 5
}
