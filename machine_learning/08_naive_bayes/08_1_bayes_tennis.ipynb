{
 "cells": [
  {
   "cell_type": "markdown",
   "id": "97692a0b-c53d-459b-9baf-228084864679",
   "metadata": {},
   "source": [
    "# Naive Bayes\n",
    "<div class=\"alert alert-block alert-info\">\n",
    "<b>Content:</b> In this notebook, \n",
    "    we demonstrate the simplest version of the Naive Bayes classifier on the tennis dataset.\n",
    "</div>\n"
   ]
  },
  {
   "cell_type": "code",
   "execution_count": null,
   "id": "057a3ff7-ede4-43cc-a988-302dc6a00ad9",
   "metadata": {
    "jupyter": {
     "source_hidden": true
    },
    "tags": []
   },
   "outputs": [],
   "source": [
    "import pandas as pd\n",
    "import numpy as np\n",
    "\n",
    "from sklearn.preprocessing import OrdinalEncoder\n",
    "from sklearn.model_selection import GridSearchCV, RepeatedStratifiedKFold, StratifiedKFold, cross_validate\n",
    "from sklearn.pipeline import Pipeline\n",
    "\n",
    "from sklearn.naive_bayes import CategoricalNB\n",
    "from sklearn.metrics import accuracy_score"
   ]
  },
  {
   "cell_type": "code",
   "execution_count": null,
   "id": "96abafd0-f7c2-4dd6-92fa-35cfa07daaa2",
   "metadata": {
    "jupyter": {
     "source_hidden": true
    },
    "tags": []
   },
   "outputs": [],
   "source": [
    "df=pd.read_csv(\"data/play_tennis.csv\", sep=',')"
   ]
  },
  {
   "cell_type": "code",
   "execution_count": null,
   "id": "0bbe28cf-c6da-4cba-a57d-f7d97de2f1b6",
   "metadata": {
    "jupyter": {
     "source_hidden": true
    },
    "tags": []
   },
   "outputs": [],
   "source": [
    "df"
   ]
  },
  {
   "cell_type": "code",
   "execution_count": null,
   "id": "5f3e92b0-f661-42ef-a613-948287e341d3",
   "metadata": {
    "jupyter": {
     "source_hidden": true
    },
    "tags": []
   },
   "outputs": [],
   "source": [
    "df=df.drop(\"day\", axis='columns')\n",
    "X_df=df.drop(\"play\", axis='columns')\n",
    "y_df=df.loc[:, ['play']]\n",
    "\n",
    "X_raw=X_df.to_numpy()\n",
    "y_raw=y_df.to_numpy()\n",
    "X_raw, y_raw"
   ]
  },
  {
   "cell_type": "markdown",
   "id": "cd48340f-3854-41cf-a111-79a3df5f7975",
   "metadata": {
    "jupyter": {
     "source_hidden": true
    },
    "tags": []
   },
   "source": [
    "We can safely use an ordinal encoder, because Naive Bayes is ignorant towards relations among the class labels.\n",
    "\n",
    "<div class=\"alert alert-block alert-warning\">\n",
    "<b>Warning:</b> The same is not true for other classification algorithms.\n",
    "</div>\n"
   ]
  },
  {
   "cell_type": "code",
   "execution_count": null,
   "id": "48bf3ec4-fbd4-43f0-a5b9-f4807606c32c",
   "metadata": {
    "jupyter": {
     "source_hidden": true
    },
    "tags": []
   },
   "outputs": [],
   "source": [
    "target_enc = OrdinalEncoder()\n",
    "y=target_enc.fit_transform(y_df)[:,-1]\n",
    "y"
   ]
  },
  {
   "cell_type": "code",
   "execution_count": null,
   "id": "52e28e73-caa6-404e-a124-ade1a7c8dd16",
   "metadata": {
    "jupyter": {
     "source_hidden": true
    },
    "tags": []
   },
   "outputs": [],
   "source": [
    "clf = Pipeline([('encoder', OrdinalEncoder()), ('classifier', CategoricalNB())])\n",
    "\n",
    "outer_cv = RepeatedStratifiedKFold(n_splits=3, n_repeats=10, random_state=1)\n",
    "cv_result=cross_validate(clf, X=X_raw, y=y, cv=outer_cv, scoring=(\"balanced_accuracy\"), n_jobs=8)\n",
    "print(f\"The mean balanced acc is {cv_result['test_score'].mean():.2f} with std {cv_result['test_score'].std():.2f}.\")"
   ]
  },
  {
   "cell_type": "code",
   "execution_count": null,
   "id": "4440a106-d26b-4fb9-82b3-d8776973db11",
   "metadata": {
    "jupyter": {
     "source_hidden": true
    },
    "tags": []
   },
   "outputs": [],
   "source": [
    "clf.fit(X_raw, y)"
   ]
  },
  {
   "cell_type": "code",
   "execution_count": null,
   "id": "cec71340-adc5-4a65-942d-0ad50b74609b",
   "metadata": {
    "jupyter": {
     "source_hidden": true
    },
    "tags": []
   },
   "outputs": [],
   "source": [
    "clf['classifier'].category_count_ #feature, class, category"
   ]
  },
  {
   "cell_type": "markdown",
   "id": "f4f8d7d8-c9a0-4f68-962f-dedcbbd1bd4a",
   "metadata": {
    "jupyter": {
     "source_hidden": true
    },
    "tags": []
   },
   "source": [
    "We see the different distributions per feature and class"
   ]
  },
  {
   "cell_type": "code",
   "execution_count": null,
   "id": "a11b62f4-8d80-46a2-b030-1bbf26304519",
   "metadata": {
    "jupyter": {
     "source_hidden": true
    },
    "tags": []
   },
   "outputs": [],
   "source": [
    "new_instances=np.array([\n",
    "    [\"Sunny\", \"Hot\", \"High\", \"Strong\"],\n",
    "    [\"Overcast\", \"Hot\", \"High\", \"Strong\"]\n",
    "])"
   ]
  },
  {
   "cell_type": "code",
   "execution_count": null,
   "id": "4bf2340b-bae8-4dc2-a168-f1d7849d808d",
   "metadata": {
    "jupyter": {
     "source_hidden": true
    },
    "tags": []
   },
   "outputs": [],
   "source": [
    "pred=clf.predict(new_instances)\n",
    "pred"
   ]
  },
  {
   "cell_type": "code",
   "execution_count": null,
   "id": "550f2c9a-df17-4c94-8f91-c2a63bc9f5b4",
   "metadata": {
    "jupyter": {
     "source_hidden": true
    },
    "tags": []
   },
   "outputs": [],
   "source": [
    "target_enc.inverse_transform(pred.reshape(-1,1))"
   ]
  },
  {
   "cell_type": "code",
   "execution_count": null,
   "id": "98e32daf-b24c-4fa0-a3c8-52d10cb13bf6",
   "metadata": {
    "jupyter": {
     "source_hidden": true
    },
    "tags": []
   },
   "outputs": [],
   "source": [
    "probas = clf.predict_proba(new_instances)\n",
    "probas"
   ]
  },
  {
   "cell_type": "markdown",
   "id": "9b1e67b1-12a2-49cf-9de5-501aed43ed82",
   "metadata": {
    "jupyter": {
     "source_hidden": true
    },
    "tags": []
   },
   "source": [
    "<div class=\"alert alert-block alert-info\">\n",
    "<b>Take Aways:</b> \n",
    "\n",
    "* Run Naive Bayes\n",
    "* Interpret the results and the probabilities.\n",
    "</div>\n",
    "\n",
    "<div class=\"alert alert-block alert-success\">\n",
    "<b>Play with:</b> \n",
    "    \n",
    "* create further weather situations ans classify them\n",
    "</div>"
   ]
  },
  {
   "cell_type": "code",
   "execution_count": null,
   "id": "23eaa9b8-fb73-4696-86c1-a7b46a2d838f",
   "metadata": {
    "jupyter": {
     "source_hidden": true
    }
   },
   "outputs": [],
   "source": []
  }
 ],
 "metadata": {
  "kernelspec": {
   "display_name": "envML24sose",
   "language": "python",
   "name": "envml24sose"
  },
  "language_info": {
   "codemirror_mode": {
    "name": "ipython",
    "version": 3
   },
   "file_extension": ".py",
   "mimetype": "text/x-python",
   "name": "python",
   "nbconvert_exporter": "python",
   "pygments_lexer": "ipython3",
   "version": "3.12.2"
  },
  "widgets": {
   "application/vnd.jupyter.widget-state+json": {
    "state": {},
    "version_major": 2,
    "version_minor": 0
   }
  }
 },
 "nbformat": 4,
 "nbformat_minor": 5
}
