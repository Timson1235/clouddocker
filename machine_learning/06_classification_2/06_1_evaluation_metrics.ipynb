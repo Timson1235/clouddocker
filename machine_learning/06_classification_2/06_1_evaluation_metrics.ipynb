{
 "cells": [
  {
   "cell_type": "markdown",
   "id": "5bfeb0ae-5347-4678-907d-da3428105f12",
   "metadata": {},
   "source": [
    "# Evaluation Metrics of Classifiers\n",
    "<div class=\"alert alert-block alert-info\">\n",
    "<b>Content:</b> In this notebook, we play with different evaluation metrics of classifiers.\n",
    "\n",
    "* For that purpose, we consider toy examples, where we have 10 instances with their correct and their \"predicted\" label.\n",
    "* We run different metrics and analyses on these samples and discuss the output.\n",
    "</div>\n"
   ]
  },
  {
   "cell_type": "code",
   "execution_count": null,
   "id": "4e01762b-1957-4f0e-804c-feb4ca5a70b2",
   "metadata": {
    "jupyter": {
     "source_hidden": true
    },
    "tags": []
   },
   "outputs": [],
   "source": [
    "import sklearn.metrics as ms\n",
    "import matplotlib.pyplot as plt\n",
    "import numpy as np"
   ]
  },
  {
   "cell_type": "code",
   "execution_count": null,
   "id": "cd8c0b2c-ffac-4717-a645-5e8362ffb9e2",
   "metadata": {
    "jupyter": {
     "source_hidden": true
    },
    "tags": []
   },
   "outputs": [],
   "source": [
    "bin_y =      [0,0,0,1,1,1,1,1,1,1]\n",
    "bin_y_pred = [0,1,1,1,1,1,1,0,0,0]"
   ]
  },
  {
   "cell_type": "code",
   "execution_count": null,
   "id": "26aea641-0dba-4e88-a25b-307dd8fc74d3",
   "metadata": {
    "jupyter": {
     "source_hidden": true
    },
    "tags": []
   },
   "outputs": [],
   "source": [
    "multi_y =      [0,0,0,1,1,1,2,2,2,2]\n",
    "multi_y_pred = [0,0,1,1,1,1,2,2,0,1]"
   ]
  },
  {
   "cell_type": "code",
   "execution_count": null,
   "id": "d00e9cf6-903d-4d59-ad77-e650ef55a9cc",
   "metadata": {
    "jupyter": {
     "source_hidden": true
    },
    "tags": []
   },
   "outputs": [],
   "source": [
    "def plot_confusion(task='both'):\n",
    "    if (task=='bin'):\n",
    "        ms.ConfusionMatrixDisplay.from_predictions(bin_y, bin_y_pred)\n",
    "    if (task=='multi'):\n",
    "        ms.ConfusionMatrixDisplay.from_predictions(multi_y, multi_y_pred)\n",
    "    if (task=='both'):\n",
    "        fig, axes = plt.subplots(nrows=1, ncols=2, figsize=(15,6))\n",
    "        ms.ConfusionMatrixDisplay.from_predictions(bin_y, bin_y_pred, ax=axes[0])\n",
    "        ms.ConfusionMatrixDisplay.from_predictions(multi_y, multi_y_pred, ax=axes[1])"
   ]
  },
  {
   "cell_type": "markdown",
   "id": "9d7b66b0-014d-4c53-a0d5-34d8b4ee23cc",
   "metadata": {
    "jupyter": {
     "source_hidden": true
    },
    "tags": []
   },
   "source": [
    "# Accuracy"
   ]
  },
  {
   "cell_type": "markdown",
   "id": "329bb253-cfe5-4d79-b64a-4e0ff394c110",
   "metadata": {
    "jupyter": {
     "source_hidden": true
    },
    "tags": []
   },
   "source": [
    "$$acc=\\frac{\\text{\\#correctly classified instances}}{\\text{\\#instances}}$$\n",
    "\n",
    "* summarize quality in a single score\n",
    "* intuitive formula\n",
    "* ignorant towards imbalanced classes or differences in costs      of missclassification for different classes\n"
   ]
  },
  {
   "cell_type": "code",
   "execution_count": null,
   "id": "3793a566-4876-40b5-9c0b-c1e9effd4855",
   "metadata": {
    "jupyter": {
     "source_hidden": true
    },
    "tags": []
   },
   "outputs": [],
   "source": [
    "plot_confusion()"
   ]
  },
  {
   "cell_type": "code",
   "execution_count": null,
   "id": "de89a90b-eba1-4da7-8717-2c05fb8b1130",
   "metadata": {
    "jupyter": {
     "source_hidden": true
    },
    "tags": []
   },
   "outputs": [],
   "source": [
    "ms.accuracy_score(bin_y, bin_y_pred), \\\n",
    "ms.accuracy_score(multi_y, multi_y_pred)"
   ]
  },
  {
   "cell_type": "code",
   "execution_count": null,
   "id": "834ef4d2-131e-4d8b-8ae4-7113e89da61b",
   "metadata": {
    "jupyter": {
     "source_hidden": true
    },
    "tags": []
   },
   "outputs": [],
   "source": [
    "(1+4)/10, (2+3+2)/10"
   ]
  },
  {
   "cell_type": "markdown",
   "id": "4a8dc46e-63f4-43c1-aa3d-e1d70145837e",
   "metadata": {
    "jupyter": {
     "source_hidden": true
    },
    "tags": []
   },
   "source": [
    "# Balanced Accuracy"
   ]
  },
  {
   "cell_type": "markdown",
   "id": "6f3d1d2c-5cfa-46e0-9092-df5a89217e4f",
   "metadata": {
    "jupyter": {
     "source_hidden": true
    },
    "tags": []
   },
   "source": [
    "$$bacc=\\frac{1}{k}\\sum_{i=1}^k{\\frac{\\text{\\#correctly classified instances of class } C_i}{|C_i|}}$$\n",
    "* average accuracy over all classes\n",
    "* each class has the same weight\n",
    "* average of recall per class"
   ]
  },
  {
   "cell_type": "code",
   "execution_count": null,
   "id": "d9615a49-bf27-47bb-b50d-c2ab20fd95e6",
   "metadata": {
    "jupyter": {
     "source_hidden": true
    },
    "tags": []
   },
   "outputs": [],
   "source": [
    "plot_confusion()"
   ]
  },
  {
   "cell_type": "code",
   "execution_count": null,
   "id": "51f910c1-52c9-4efc-8a43-3fe8a91d3007",
   "metadata": {
    "jupyter": {
     "source_hidden": true
    },
    "tags": []
   },
   "outputs": [],
   "source": [
    "ms.balanced_accuracy_score(bin_y, bin_y_pred), \\\n",
    "ms.balanced_accuracy_score(multi_y, multi_y_pred)"
   ]
  },
  {
   "cell_type": "code",
   "execution_count": null,
   "id": "89c083dc-123a-426c-9745-651561b4d71c",
   "metadata": {
    "jupyter": {
     "source_hidden": true
    },
    "tags": []
   },
   "outputs": [],
   "source": [
    "( 1/(1+2) + 4/(3+4) ) / 2    ,    ( 2/(2+1+0) + 3/(0+3+0) + 2/(1+1+2) ) / 3"
   ]
  },
  {
   "cell_type": "markdown",
   "id": "8140f31f-82a1-48f1-b795-e7a1a460b2b0",
   "metadata": {
    "jupyter": {
     "source_hidden": true
    },
    "tags": []
   },
   "source": [
    "# Precision and Recall ... and F1\n",
    "* focus usually on the detection of one class (the positive class) among many elements of the other\n",
    "* e.g. spam: find the few good mails among the massive amounts of spam\n",
    "* recommenders: find the few items a user is interested in within the vast set of available products"
   ]
  },
  {
   "cell_type": "markdown",
   "id": "e31c7099-7082-4c13-adc7-ca739a6b54ae",
   "metadata": {
    "jupyter": {
     "source_hidden": true
    },
    "tags": []
   },
   "source": [
    "## Precision\n",
    "\n",
    "$$precision(C_i)=\\frac{\\text{\\#correctly classified instances of class }C_i}{\\text{\\#instances classified as } C_i}$$\n",
    "\n",
    "* $0\\le precision(C_i)\\le 1$\n",
    "* in binary classification: $\\frac{tp}{(tp+fp)}$\n",
    "* How many of the elements identified as class $C_i$ are actually $C_i$?"
   ]
  },
  {
   "cell_type": "markdown",
   "id": "309af468-cb60-49aa-852d-79498d3bfbcf",
   "metadata": {
    "jupyter": {
     "source_hidden": true
    },
    "tags": []
   },
   "source": [
    "## Recall (Sensitivity)\n",
    "$$recall(C_i)=\\frac{\\text{\\#correctly classified instances of class }C_i}{\\text{\\#instances of class } C_i}$$\n",
    "* $0\\le recall(C_i)\\le 1$\n",
    "* in binary classification: $\\frac{tp}{(tp+fn)}$\n",
    "* How many of the elements of class $C_i$ have been recognized as $C_i$?"
   ]
  },
  {
   "cell_type": "code",
   "execution_count": null,
   "id": "c5b3c5d5-e2e5-44a3-8d9e-566a5eb95e94",
   "metadata": {
    "jupyter": {
     "source_hidden": true
    },
    "tags": []
   },
   "outputs": [],
   "source": [
    "plot_confusion('bin')"
   ]
  },
  {
   "cell_type": "code",
   "execution_count": null,
   "id": "44f012d7-48a5-4268-b10e-82f72a488fad",
   "metadata": {
    "jupyter": {
     "source_hidden": true
    },
    "tags": []
   },
   "outputs": [],
   "source": [
    "precision=ms.precision_score(bin_y, bin_y_pred)\n",
    "precision, 4/(2+4)"
   ]
  },
  {
   "cell_type": "code",
   "execution_count": null,
   "id": "2d81a200-215f-4394-bbb8-1db7fa815613",
   "metadata": {
    "jupyter": {
     "source_hidden": true
    },
    "tags": []
   },
   "outputs": [],
   "source": [
    "recall=ms.recall_score(bin_y, bin_y_pred)\n",
    "recall, 4/(3+4)"
   ]
  },
  {
   "cell_type": "markdown",
   "id": "5d04b9a2-abee-441e-a7af-804b31f0c93b",
   "metadata": {
    "jupyter": {
     "source_hidden": true
    },
    "tags": []
   },
   "source": [
    "### Problems\n",
    "1. Precision alone is no useful metric.\n",
    "2. Recall alone is no useful metric.\n",
    "\n",
    "Why? Examples:\n",
    "If we classify everything as class $1$, then the recall of class $1$ will be $1$, precision will be very low.\n",
    "If we classify only one element of class $1$ correctly and everything as class $0$, then precision will be $1$, recall will be very low.\n",
    "\n",
    "Only when both metrics are high, the classification is good. Therefore: f1-measure"
   ]
  },
  {
   "cell_type": "markdown",
   "id": "47abe1ef-2c29-482a-a111-7bc519350559",
   "metadata": {
    "jupyter": {
     "source_hidden": true
    },
    "tags": []
   },
   "source": [
    "## F1 measure\n",
    "$$f1(C_i)=\\frac{2}{\\frac{1}{precision(C_i)} + \\frac{1}{recall(C_i)}}$$\n",
    "* $0\\le f1(C_i)\\le 1$\n",
    "* f1 is high when both, recall and precision are high"
   ]
  },
  {
   "cell_type": "code",
   "execution_count": null,
   "id": "3edb87fa-d7ba-4537-a3fd-2382b99e1576",
   "metadata": {
    "jupyter": {
     "source_hidden": true
    },
    "tags": []
   },
   "outputs": [],
   "source": [
    "ms.f1_score(bin_y, bin_y_pred), (2/(1/precision + 1/recall))"
   ]
  },
  {
   "cell_type": "markdown",
   "id": "58a4cc6f-7d6e-47f5-9ee9-b48df95b7ab9",
   "metadata": {
    "jupyter": {
     "source_hidden": true
    },
    "tags": []
   },
   "source": [
    "# Multiclass Precision and Recall ... and F1\n",
    "* the binary measures focus on one class against another\n",
    "* there are several ways to transport this idea to multiclass problems"
   ]
  },
  {
   "cell_type": "markdown",
   "id": "da599d50-66c0-4fa7-9f6f-1a3ea9ac9a12",
   "metadata": {
    "jupyter": {
     "source_hidden": true
    },
    "tags": []
   },
   "source": [
    "## Macro Averages\n",
    "* compute precision/recall per class\n",
    "* average precision/recalls scores over all classes"
   ]
  },
  {
   "cell_type": "code",
   "execution_count": null,
   "id": "3ddac3d0-1055-4888-9338-8ba4a46e6ae9",
   "metadata": {
    "jupyter": {
     "source_hidden": true
    },
    "tags": []
   },
   "outputs": [],
   "source": [
    "plot_confusion('multi')"
   ]
  },
  {
   "cell_type": "code",
   "execution_count": null,
   "id": "69df392e-8dd0-47b6-aa7a-c0cae3c82004",
   "metadata": {
    "jupyter": {
     "source_hidden": true
    },
    "tags": []
   },
   "outputs": [],
   "source": [
    "precision=ms.precision_score(multi_y, multi_y_pred, average='macro')\n",
    "precision, 1/3*(2/(2+0+1) + 3/(3+1+1) + 2/(2+0+0))"
   ]
  },
  {
   "cell_type": "code",
   "execution_count": null,
   "id": "2444e2be-5f89-419c-8aa7-4de7d3cfbf2e",
   "metadata": {
    "jupyter": {
     "source_hidden": true
    },
    "tags": []
   },
   "outputs": [],
   "source": [
    "recall=ms.recall_score(multi_y, multi_y_pred, average='macro')\n",
    "recall, 1/3*(2/(2+1+0) + 3/(0+3+0) + 2/(1+1+2))"
   ]
  },
  {
   "cell_type": "code",
   "execution_count": null,
   "id": "f559106c-ba9e-4952-9b6a-67b50056f13c",
   "metadata": {
    "jupyter": {
     "source_hidden": true
    },
    "tags": []
   },
   "outputs": [],
   "source": [
    "ms.f1_score(multi_y, multi_y_pred, average='macro'), \\\n",
    "1/3 * ( 2/(1/(2/(2+0+1))+1/(2/(2+1+0))) + 2/(1/(3/(3+1+1))+1/(3/(0+3+0))) + 2/(1/(2/(2+0+0))+1/(2/(1+1+2))) ) "
   ]
  },
  {
   "cell_type": "markdown",
   "id": "8320b983-5d9d-47f3-a2b2-90488ba11a89",
   "metadata": {
    "jupyter": {
     "source_hidden": true
    },
    "tags": []
   },
   "source": [
    "## Micro Average\n",
    "* create an overall \"global\" binary task by pooling one confusion matrix per class"
   ]
  },
  {
   "cell_type": "code",
   "execution_count": null,
   "id": "d880dd1f-83d6-4478-be82-2526c1bd6904",
   "metadata": {
    "jupyter": {
     "source_hidden": true
    },
    "tags": []
   },
   "outputs": [],
   "source": [
    "multi_y, multi_y_pred"
   ]
  },
  {
   "cell_type": "code",
   "execution_count": null,
   "id": "61ef6e5b-10fa-46ec-9cbf-9a062854fbc9",
   "metadata": {
    "jupyter": {
     "source_hidden": true
    },
    "tags": []
   },
   "outputs": [],
   "source": [
    "multi_y_0    =[1, 1, 1, 0, 0, 0, 0, 0, 0, 0]\n",
    "multi_y_pred_0=[1, 1, 0, 0, 0, 0, 0, 0, 1, 0]\n",
    "multi_y_1    =[0, 0, 0, 1, 1, 1, 0, 0, 0, 0]\n",
    "multi_y_pred_1=[0, 0, 1, 1, 1, 1, 0, 0, 0, 1]\n",
    "multi_y_2    =[0, 0, 0, 0, 0, 0, 1, 1, 1, 1]\n",
    "multi_y_pred_2=[0, 0, 0, 0, 0, 0, 1, 1, 0, 0]\n",
    "multi_y_pooled=np.concatenate([multi_y_0, multi_y_1, multi_y_2])\n",
    "multi_y_pred_pooled=np.concatenate([multi_y_pred_0, multi_y_pred_1, multi_y_pred_2])"
   ]
  },
  {
   "cell_type": "code",
   "execution_count": null,
   "id": "1716c01c-a1bc-40e7-9317-536daf4ae0cd",
   "metadata": {
    "jupyter": {
     "source_hidden": true
    },
    "tags": []
   },
   "outputs": [],
   "source": [
    "precision=ms.precision_score(multi_y, multi_y_pred, average='micro')\n",
    "precision, ms.precision_score(multi_y_pooled, multi_y_pred_pooled)"
   ]
  },
  {
   "cell_type": "code",
   "execution_count": null,
   "id": "21200d47-fe30-45c4-affc-4096e1fcb83a",
   "metadata": {
    "jupyter": {
     "source_hidden": true
    },
    "tags": []
   },
   "outputs": [],
   "source": [
    "recall=ms.recall_score(multi_y, multi_y_pred, average='micro')\n",
    "recall, ms.recall_score(multi_y_pooled, multi_y_pred_pooled)"
   ]
  },
  {
   "cell_type": "code",
   "execution_count": null,
   "id": "244368db-6c1c-4ef3-a855-9bf0d9152c53",
   "metadata": {
    "jupyter": {
     "source_hidden": true
    }
   },
   "outputs": [],
   "source": [
    "ms.f1_score(multi_y, multi_y_pred, average='micro')"
   ]
  },
  {
   "cell_type": "markdown",
   "id": "05b765b8-756d-4c36-b528-20a7037d6d25",
   "metadata": {
    "jupyter": {
     "source_hidden": true
    },
    "tags": []
   },
   "source": [
    "# ROC (Receiver Operator Characteristics)\n",
    "* for binary predictions with probabilities\n",
    "* reward classifiers that are sure with high probability\n",
    "* contains the true positives rate (recall) and the false positives rate (false alarms) for different probability levels\n",
    "* level $p$ means: Compute the classification metric after using $p$ as threshold and classifying everything as $1$ where the probability is higher or equal to $p$\n",
    "* starts at (0,0), ends at (1,1)\n",
    "* curve steps up for correctly classified members of the positive class, moves to the right for misclassified actual negatives "
   ]
  },
  {
   "cell_type": "code",
   "execution_count": null,
   "id": "19a3e4bb-7683-4611-8a99-56340111cfc6",
   "metadata": {
    "jupyter": {
     "source_hidden": true
    },
    "tags": []
   },
   "outputs": [],
   "source": [
    "bin_y"
   ]
  },
  {
   "cell_type": "code",
   "execution_count": null,
   "id": "f18b3fbb-b513-47f0-a24a-e2a0c614684c",
   "metadata": {
    "jupyter": {
     "source_hidden": true
    },
    "tags": []
   },
   "outputs": [],
   "source": [
    "# probabilities for the positive class (1)\n",
    "bin_proba        =[0.1, 0.55, 0.6, 0.9, 0.7, 0.7, 0.6, 0.4, 0.4, 0.2]\n",
    "\n",
    "bin_proba_random =[0.5, 0.5, 0.5, 0.5, 0.5, 0.5, 0.5, 0.5, 0.5, 0.5]\n",
    "\n",
    "bin_proba_best   =[0.1, 0.1, 0.2, 0.9, 0.8, 0.7, 0.6, 0.9, 0.9, 0.7]\n"
   ]
  },
  {
   "cell_type": "code",
   "execution_count": null,
   "id": "1695647b-264f-40d1-84b2-359661785ea0",
   "metadata": {
    "jupyter": {
     "source_hidden": true
    },
    "tags": []
   },
   "outputs": [],
   "source": [
    "roc=ms.roc_curve(bin_y, bin_proba)\n",
    "roc"
   ]
  },
  {
   "cell_type": "markdown",
   "id": "4b0032b8-0f75-4c6a-90b6-388290d88f9e",
   "metadata": {
    "jupyter": {
     "source_hidden": true
    },
    "tags": []
   },
   "source": [
    "(false-positives-rate, true-positives-rate, thresholds)"
   ]
  },
  {
   "cell_type": "code",
   "execution_count": null,
   "id": "ae5f4a99-beae-49d3-beda-108ae8170d18",
   "metadata": {
    "jupyter": {
     "source_hidden": true
    },
    "tags": []
   },
   "outputs": [],
   "source": [
    "roc_random=ms.roc_curve(bin_y, bin_proba_random)\n",
    "roc_random"
   ]
  },
  {
   "cell_type": "code",
   "execution_count": null,
   "id": "589a4955-c669-457e-b6ae-392395a34e18",
   "metadata": {
    "jupyter": {
     "source_hidden": true
    },
    "tags": []
   },
   "outputs": [],
   "source": [
    "roc_best=ms.roc_curve(bin_y, bin_proba_best)\n",
    "roc_best"
   ]
  },
  {
   "cell_type": "code",
   "execution_count": null,
   "id": "ad0dd95a-579c-41bc-8558-c251053f874e",
   "metadata": {
    "jupyter": {
     "source_hidden": true
    },
    "tags": []
   },
   "outputs": [],
   "source": [
    "plt.plot(roc[0], roc[1], c='black')\n",
    "plt.xlabel('fp rate') # fp/(tn+fp) (false alarm rate)\n",
    "plt.ylabel('tp rate') # tp/(tp+fp) (precision)\n",
    "plt.plot(roc_random[0], roc_random[1], c='red')\n",
    "plt.plot(roc_best[0], roc_best[1], c='blue')\n",
    "#plt.plot(roc_test[0], roc_test[1])\n",
    "#plt.plot([0,1], [0,1], c='green')"
   ]
  },
  {
   "cell_type": "markdown",
   "id": "41b680a9-d658-4c87-8ca1-7a18c8588056",
   "metadata": {
    "jupyter": {
     "source_hidden": true
    },
    "tags": []
   },
   "source": [
    "## Area under the ROC Curve\n",
    "* Integral under the ROC Curve\n",
    "* higher is better\n",
    "* should be higher than 0.5 (= random guessing)\n",
    "* 1 means each positive instance has a higher probability than each negative instance"
   ]
  },
  {
   "cell_type": "code",
   "execution_count": null,
   "id": "d8d66437-f8e3-4cf5-bce4-e7669133bfc9",
   "metadata": {
    "jupyter": {
     "source_hidden": true
    },
    "tags": []
   },
   "outputs": [],
   "source": [
    "ms.roc_auc_score(bin_y, bin_proba_best)"
   ]
  },
  {
   "cell_type": "code",
   "execution_count": null,
   "id": "74296304-318f-4768-abcc-5eef9a186b36",
   "metadata": {
    "jupyter": {
     "source_hidden": true
    },
    "tags": []
   },
   "outputs": [],
   "source": [
    "ms.roc_auc_score(bin_y, bin_proba)"
   ]
  },
  {
   "cell_type": "code",
   "execution_count": null,
   "id": "f4263b8d-f575-4975-a849-0a4f2607f96c",
   "metadata": {
    "jupyter": {
     "source_hidden": true
    },
    "tags": []
   },
   "outputs": [],
   "source": [
    "ms.roc_auc_score(bin_y, bin_proba_random)"
   ]
  },
  {
   "cell_type": "markdown",
   "id": "66f0f4f1-2c9d-4252-9651-23646de06492",
   "metadata": {
    "jupyter": {
     "source_hidden": true
    },
    "tags": []
   },
   "source": [
    "<div class=\"alert alert-block alert-info\">\n",
    "<b>Take Aways:</b> \n",
    "\n",
    "* A large variety of classification evaluation metrics.\n",
    "* Confusion Matrixes for a class-wise investigation.\n",
    "</div>\n",
    "\n",
    "<div class=\"alert alert-block alert-success\">\n",
    "<b>Play with:</b> \n",
    "    \n",
    "* a different ficticious toy example\n",
    "* apply various measures to previous notebooks to assess the performance from different perspectives\n",
    "</div>"
   ]
  },
  {
   "cell_type": "code",
   "execution_count": null,
   "id": "cfeaad70-85f4-4601-a4ea-bc0bb48b943c",
   "metadata": {
    "jupyter": {
     "source_hidden": true
    },
    "tags": []
   },
   "outputs": [],
   "source": []
  }
 ],
 "metadata": {
  "kernelspec": {
   "display_name": "envML24sose",
   "language": "python",
   "name": "envml24sose"
  },
  "language_info": {
   "codemirror_mode": {
    "name": "ipython",
    "version": 3
   },
   "file_extension": ".py",
   "mimetype": "text/x-python",
   "name": "python",
   "nbconvert_exporter": "python",
   "pygments_lexer": "ipython3",
   "version": "3.12.2"
  },
  "widgets": {
   "application/vnd.jupyter.widget-state+json": {
    "state": {},
    "version_major": 2,
    "version_minor": 0
   }
  }
 },
 "nbformat": 4,
 "nbformat_minor": 5
}
