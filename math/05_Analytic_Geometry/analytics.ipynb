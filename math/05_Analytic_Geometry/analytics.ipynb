{
 "cells": [
  {
   "cell_type": "markdown",
   "metadata": {},
   "source": [
    "Exercise 1. \n",
    "\n",
    "Consider the vectors p1, 2, 3, 4q and p1.37, 2.74, 4.11, 5.48q. Compute for both their Manhattan and\n",
    "their Euclidean norm. Compute the unit vectors (same orientation but length 1). What do you\n",
    "observe?"
   ]
  },
  {
   "cell_type": "code",
   "execution_count": 1,
   "metadata": {},
   "outputs": [
    {
     "name": "stdout",
     "output_type": "stream",
     "text": [
      "Manhattan norm of v1: 10\n",
      "Manhattan norm of v2: 13.700000000000001\n",
      "Euclidean norm of v1: 5.477225575051661\n",
      "Euclidean norm of v2: 7.503799037820777\n",
      "Unit vector of v1: [0.18257419 0.36514837 0.54772256 0.73029674]\n",
      "Unit vector of v2: [0.18257419 0.36514837 0.54772256 0.73029674]\n"
     ]
    }
   ],
   "source": [
    "import numpy as np\n",
    "\n",
    "# Define the vectors\n",
    "v1 = np.array([1, 2, 3, 4])\n",
    "v2 = np.array([1.37, 2.74, 4.11, 5.48])\n",
    "\n",
    "# Compute the Manhattan (L1) norm\n",
    "manhattan_norm_v1 = np.sum(np.abs(v1))\n",
    "manhattan_norm_v2 = np.sum(np.abs(v2))\n",
    "\n",
    "# Compute the Euclidean (L2) norm\n",
    "euclidean_norm_v1 = np.linalg.norm(v1)\n",
    "euclidean_norm_v2 = np.linalg.norm(v2)\n",
    "\n",
    "# Compute the unit vectors\n",
    "unit_vector_v1 = v1 / euclidean_norm_v1\n",
    "unit_vector_v2 = v2 / euclidean_norm_v2\n",
    "\n",
    "# Print the results\n",
    "print(f\"Manhattan norm of v1: {manhattan_norm_v1}\")\n",
    "print(f\"Manhattan norm of v2: {manhattan_norm_v2}\")\n",
    "print(f\"Euclidean norm of v1: {euclidean_norm_v1}\")\n",
    "print(f\"Euclidean norm of v2: {euclidean_norm_v2}\")\n",
    "\n",
    "print(f\"Unit vector of v1: {unit_vector_v1}\")\n",
    "print(f\"Unit vector of v2: {unit_vector_v2}\")\n"
   ]
  },
  {
   "cell_type": "code",
   "execution_count": 2,
   "metadata": {},
   "outputs": [
    {
     "name": "stdout",
     "output_type": "stream",
     "text": [
      "Manhattan Norm (L1): 7\n",
      "Euclidean Norm (L2): 5.0\n",
      "Maximum Norm (L∞): 4\n"
     ]
    }
   ],
   "source": [
    "# Define the vector\n",
    "v = np.array([4, 3, 0])\n",
    "\n",
    "# Compute the Manhattan (L1) norm\n",
    "manhattan_norm = np.sum(np.abs(v))\n",
    "\n",
    "# Compute the Euclidean (L2) norm\n",
    "euclidean_norm = np.linalg.norm(v)\n",
    "\n",
    "# Compute the Maximum (L∞) norm\n",
    "maximum_norm = np.max(np.abs(v))\n",
    "\n",
    "# Print the results\n",
    "print(f\"Manhattan Norm (L1): {manhattan_norm}\")\n",
    "print(f\"Euclidean Norm (L2): {euclidean_norm}\")\n",
    "print(f\"Maximum Norm (L∞): {maximum_norm}\")"
   ]
  },
  {
   "cell_type": "markdown",
   "metadata": {},
   "source": [
    "Exercise 3. \n",
    "\n",
    "Consider the sets 𝐴 “ t1, 2, 3, 4, 5u, 𝐵 “ t2, 3, 5u, 𝐶 “ t1, 3, 4, 5, 6u, 𝐷 “ t4, 5, 6u.\n",
    "1. Compute the Jaccard-Distance between any two pairs. Which are the most similar sets?\n",
    "2. Create a representation of the sets as boolean vectors. Compute the Hamming distance between\n",
    "any two pairs. Which are the most similar sets?"
   ]
  },
  {
   "cell_type": "code",
   "execution_count": 14,
   "metadata": {},
   "outputs": [
    {
     "name": "stdout",
     "output_type": "stream",
     "text": [
      "Jaccard Distances:\n",
      "A-B: 0.4000\n",
      "A-C: 0.3333\n",
      "A-D: 0.6667\n",
      "B-C: 0.6667\n",
      "B-D: 0.8000\n",
      "C-D: 0.4000\n",
      "[1, 1, 1, 1, 1, 0] [0, 1, 1, 0, 1, 0] [1, 0, 1, 1, 1, 1] [0, 0, 0, 1, 1, 1]\n",
      "\n",
      "Hamming Distances:\n",
      "A-B: 2\n",
      "A-C: 2\n",
      "A-D: 4\n",
      "B-C: 4\n",
      "B-D: 4\n",
      "C-D: 2\n"
     ]
    }
   ],
   "source": [
    "# Define the sets\n",
    "A = {1, 2, 3, 4, 5}\n",
    "B = {2, 3, 5}\n",
    "C = {1, 3, 4, 5, 6}\n",
    "D = {4, 5, 6}\n",
    "\n",
    "# Function to calculate Jaccard Distance\n",
    "def jaccard_distance(set1, set2):\n",
    "    intersection = len(set1.intersection(set2))\n",
    "    union = len(set1.union(set2))\n",
    "    return 1 - (intersection / union)\n",
    "\n",
    "# Compute Jaccard Distances\n",
    "jaccard_distances = {\n",
    "    'A-B': jaccard_distance(A, B),\n",
    "    'A-C': jaccard_distance(A, C),\n",
    "    'A-D': jaccard_distance(A, D),\n",
    "    'B-C': jaccard_distance(B, C),\n",
    "    'B-D': jaccard_distance(B, D),\n",
    "    'C-D': jaccard_distance(C, D),\n",
    "}\n",
    "\n",
    "print(\"Jaccard Distances:\")\n",
    "for pair, distance in jaccard_distances.items():\n",
    "    print(f\"{pair}: {distance:.4f}\")\n",
    "\n",
    "# Create boolean vectors based on the universal set\n",
    "universal_set = {1, 2, 3, 4, 5, 6}\n",
    "\n",
    "def create_boolean_vector(s):\n",
    "    return [1 if element in s else 0 for element in universal_set]\n",
    "\n",
    "# Create boolean vectors for each set\n",
    "vector_A = create_boolean_vector(A)\n",
    "vector_B = create_boolean_vector(B)\n",
    "vector_C = create_boolean_vector(C)\n",
    "vector_D = create_boolean_vector(D)\n",
    "\n",
    "print(vector_A,vector_B,vector_C,vector_D)\n",
    "# Compute Hamming Distance\n",
    "def hamming_distance(vec1, vec2):\n",
    "    return sum(el1 != el2 for el1, el2 in zip(vec1, vec2))\n",
    "\n",
    "# Compute Hamming Distances\n",
    "hamming_distances = {\n",
    "    'A-B': hamming_distance(vector_A, vector_B),\n",
    "    'A-C': hamming_distance(vector_A, vector_C),\n",
    "    'A-D': hamming_distance(vector_A, vector_D),\n",
    "    'B-C': hamming_distance(vector_B, vector_C),\n",
    "    'B-D': hamming_distance(vector_B, vector_D),\n",
    "    'C-D': hamming_distance(vector_C, vector_D),\n",
    "}\n",
    "\n",
    "print(\"\\nHamming Distances:\")\n",
    "for pair, distance in hamming_distances.items():\n",
    "    print(f\"{pair}: {distance}\")\n"
   ]
  },
  {
   "cell_type": "markdown",
   "metadata": {},
   "source": [
    "Exercise 4. \n",
    "Find a function for the dot product in Python.\n",
    "1. Verify that the vectors p1, 0, 0q, p0, 1, 0q, p0, 0, 1q are pairwise orthogonal\n",
    "2. Compute the angle between p1, 0, 0q and p2, 0, 0q\n",
    "3. Compute the angle between p1, 1, 1q and p1, 0, 0q"
   ]
  },
  {
   "cell_type": "code",
   "execution_count": 15,
   "metadata": {},
   "outputs": [
    {
     "name": "stdout",
     "output_type": "stream",
     "text": [
      "Verifying Orthogonality:\n",
      "v1 · v2: 0 (Expected: 0)\n",
      "v1 · v3: 0 (Expected: 0)\n",
      "v2 · v3: 0 (Expected: 0)\n",
      "\n",
      "Computing Angles:\n",
      "Angle between v1 and [2, 0, 0]: 0.0000 radians, 0.0000 degrees\n",
      "Angle between v1 and [1, 1, 1]: 0.9553 radians, 54.7356 degrees\n"
     ]
    }
   ],
   "source": [
    "# Function to compute the dot product\n",
    "def dot_product(u, v):\n",
    "    return np.dot(u, v)\n",
    "\n",
    "# Function to compute the angle between two vectors\n",
    "def angle_between(u, v):\n",
    "    # Calculate the dot product\n",
    "    dot_prod = dot_product(u, v)\n",
    "    # Calculate the norms (lengths) of the vectors\n",
    "    norm_u = np.linalg.norm(u)\n",
    "    norm_v = np.linalg.norm(v)\n",
    "    # Calculate the cosine of the angle\n",
    "    cos_theta = dot_prod / (norm_u * norm_v)\n",
    "    # Calculate the angle in radians\n",
    "    angle_rad = np.arccos(cos_theta)\n",
    "    # Convert the angle to degrees\n",
    "    angle_deg = np.degrees(angle_rad)\n",
    "    return angle_rad, angle_deg\n",
    "\n",
    "# Define the vectors\n",
    "v1 = np.array([1, 0, 0])  # Vector 1\n",
    "v2 = np.array([0, 1, 0])  # Vector 2\n",
    "v3 = np.array([0, 0, 1])  # Vector 3\n",
    "\n",
    "# Verify orthogonality\n",
    "print(\"Verifying Orthogonality:\")\n",
    "print(f\"v1 · v2: {dot_product(v1, v2)} (Expected: 0)\")\n",
    "print(f\"v1 · v3: {dot_product(v1, v3)} (Expected: 0)\")\n",
    "print(f\"v2 · v3: {dot_product(v2, v3)} (Expected: 0)\")\n",
    "\n",
    "# Compute angles\n",
    "print(\"\\nComputing Angles:\")\n",
    "angle_v1_v2_rad, angle_v1_v2_deg = angle_between(v1, np.array([2, 0, 0]))  # v2 = [2, 0, 0]\n",
    "print(f\"Angle between v1 and [2, 0, 0]: {angle_v1_v2_rad:.4f} radians, {angle_v1_v2_deg:.4f} degrees\")\n",
    "\n",
    "angle_v1_v3_rad, angle_v1_v3_deg = angle_between(v1, np.array([1, 1, 1]))  # v2 = [1, 1, 1]\n",
    "print(f\"Angle between v1 and [1, 1, 1]: {angle_v1_v3_rad:.4f} radians, {angle_v1_v3_deg:.4f} degrees\")\n"
   ]
  },
  {
   "cell_type": "markdown",
   "metadata": {},
   "source": [
    "Exercise 5. \n",
    "\n",
    "A movie streaming service wants to cluster their users. Similar users are users who have a similar\n",
    "taste in movies. This is approximated by looking at the movies, users have rated.\n",
    "Alice: Matrix (6 stars), Star Wars (9 stars)\n",
    "Bob: Matrix (3 stars), Star Wars (4.5 stars)\n",
    "Carol: Matrix (5 stars), Star Wars (5 stars)\n",
    "1. Compare the Manhattan, Euclidean, Maximum and Cosine distance for pairwise comparisons\n",
    "of users.\n",
    "2. Which metric would be the best choice for the use-case?"
   ]
  },
  {
   "cell_type": "code",
   "execution_count": null,
   "metadata": {},
   "outputs": [
    {
     "name": "stdout",
     "output_type": "stream",
     "text": [
      "Comparing Alice and Bob:\n",
      "Manhattan distance: 7.5\n",
      "Euclidean distance: 5.408326913195984\n",
      "Maximum distance: 4.5\n",
      "Cosine distance: 1.1102230246251565e-16\n",
      "\n",
      "Comparing Alice and Carol:\n",
      "Manhattan distance: 5.0\n",
      "Euclidean distance: 4.123105625617661\n",
      "Maximum distance: 4.0\n",
      "Cosine distance: 0.01941932430908\n",
      "\n",
      "Comparing Bob and Carol:\n",
      "Manhattan distance: 2.5\n",
      "Euclidean distance: 2.0615528128088303\n",
      "Maximum distance: 2.0\n",
      "Cosine distance: 0.01941932430908\n",
      "\n"
     ]
    }
   ],
   "source": [
    "# Define the ratings matrixss\n",
    "ratings = np.matrix([[6, 9], [3, 4.5], [5, 5]])\n",
    "\n",
    "# Manhattan distance function\n",
    "def manhattan(x, y):\n",
    "    return np.sum(abs(x - y))\n",
    "\n",
    "# Euclidean distance function\n",
    "def euclidean(x, y):\n",
    "    return np.linalg.norm(x - y)\n",
    "\n",
    "# Maximum (Infinity) norm distance function\n",
    "def max_norm(x, y):\n",
    "    return np.max(abs(x - y))\n",
    "\n",
    "# Cosine distance function\n",
    "def cosine_distance(x, y):\n",
    "    cos_sim = np.dot(x, y.T) / (np.linalg.norm(x) * np.linalg.norm(y))\n",
    "    return 1 - cos_sim\n",
    "\n",
    "# Compare users pairwise\n",
    "users = ['Alice', 'Bob', 'Carol']\n",
    "for i in range(3):\n",
    "    for j in range(i + 1, 3):\n",
    "        print(f\"Comparing {users[i]} and {users[j]}:\")\n",
    "        \n",
    "        # Extract row vectors for each user\n",
    "        user_i = ratings[i, :]\n",
    "        user_j = ratings[j, :]\n",
    "\n",
    "        # Manhattan distance\n",
    "        print(f\"Manhattan distance: {manhattan(user_i, user_j)}\")\n",
    "\n",
    "        # Euclidean distance\n",
    "        print(f\"Euclidean distance: {euclidean(user_i, user_j)}\")\n",
    "\n",
    "        # Maximum norm distance\n",
    "        print(f\"Maximum distance: {max_norm(user_i, user_j)}\")\n",
    "\n",
    "        # Cosine distance\n",
    "        print(f\"Cosine distance: {cosine_distance(user_i, user_j)[0, 0]}\\n\")\n"
   ]
  },
  {
   "cell_type": "markdown",
   "metadata": {},
   "source": [
    "Consider a dataset where the instances are people and the features are age and height: Alice (18y,\n",
    "192cm), Bob (24y, 180cm), Carol (25y, 165cm)\n",
    "1. Compute the Euclidean distance.\n",
    "2. Compute the Euclidean distance when you measure the height in 𝑚 instead of 𝑐𝑚.\n",
    "3. Discuss the difference of the results.\n",
    "4. How can we solve this issue?\n",
    "2"
   ]
  },
  {
   "cell_type": "code",
   "execution_count": 34,
   "metadata": {},
   "outputs": [
    {
     "name": "stdout",
     "output_type": "stream",
     "text": [
      "Euclidean distances (height in cm):\n",
      "Alice - Bob: 13.4164\n",
      "Alice - Carol: 27.8927\n",
      "Bob - Carol: 15.0333\n"
     ]
    }
   ],
   "source": [
    "# Data in (age, height) format (height in cm)\n",
    "alice = np.array([18, 192])\n",
    "bob = np.array([24, 180])\n",
    "carol = np.array([25, 165])\n",
    "\n",
    "# Compute Euclidean distances between Alice, Bob, and Carol (height in cm)\n",
    "print(\"Euclidean distances (height in cm):\")\n",
    "print(f\"Alice - Bob: {euclidean(alice, bob):.4f}\")\n",
    "print(f\"Alice - Carol: {euclidean(alice, carol):.4f}\")\n",
    "print(f\"Bob - Carol: {euclidean(bob, carol):.4f}\")\n"
   ]
  },
  {
   "cell_type": "code",
   "execution_count": 35,
   "metadata": {},
   "outputs": [
    {
     "name": "stdout",
     "output_type": "stream",
     "text": [
      "\n",
      "Euclidean distances (height in meters):\n",
      "Alice - Bob: 6.0012\n",
      "Alice - Carol: 7.0052\n",
      "Bob - Carol: 1.0112\n"
     ]
    }
   ],
   "source": [
    "# Data in (age, height) format (height in meters)\n",
    "alice_m = np.array([18, 1.92])\n",
    "bob_m = np.array([24, 1.80])\n",
    "carol_m = np.array([25, 1.65])\n",
    "\n",
    "# Compute Euclidean distances between Alice, Bob, and Carol (height in meters)\n",
    "print(\"\\nEuclidean distances (height in meters):\")\n",
    "print(f\"Alice - Bob: {euclidean(alice_m, bob_m):.4f}\")\n",
    "print(f\"Alice - Carol: {euclidean(alice_m, carol_m):.4f}\")\n",
    "print(f\"Bob - Carol: {euclidean(bob_m, carol_m):.4f}\")\n"
   ]
  },
  {
   "cell_type": "code",
   "execution_count": 40,
   "metadata": {},
   "outputs": [
    {
     "name": "stdout",
     "output_type": "stream",
     "text": [
      "\n",
      "Euclidean distances (standardized):\n",
      "Alice - Bob: 2.2244\n",
      "Alice - Carol: 3.3322\n",
      "Bob - Carol: 1.3960\n"
     ]
    }
   ],
   "source": [
    "from sklearn.preprocessing import StandardScaler\n",
    "\n",
    "# Combine data into a single matrix\n",
    "data = np.array([[18, 192], [24, 180], [25, 165]])\n",
    "\n",
    "# Standardize the data\n",
    "scaler = StandardScaler()\n",
    "standardized_data = scaler.fit_transform(data)\n",
    "\n",
    "# Compute Euclidean distances on standardized data\n",
    "print(\"\\nEuclidean distances (standardized):\")\n",
    "print(f\"Alice - Bob: {euclidean(standardized_data[0], standardized_data[1]):.4f}\")\n",
    "print(f\"Alice - Carol: {euclidean(standardized_data[0], standardized_data[2]):.4f}\")\n",
    "print(f\"Bob - Carol: {euclidean(standardized_data[1], standardized_data[2]):.4f}\")\n"
   ]
  }
 ],
 "metadata": {
  "kernelspec": {
   "display_name": "Python 3",
   "language": "python",
   "name": "python3"
  },
  "language_info": {
   "codemirror_mode": {
    "name": "ipython",
    "version": 3
   },
   "file_extension": ".py",
   "mimetype": "text/x-python",
   "name": "python",
   "nbconvert_exporter": "python",
   "pygments_lexer": "ipython3",
   "version": "3.12.4"
  }
 },
 "nbformat": 4,
 "nbformat_minor": 2
}
