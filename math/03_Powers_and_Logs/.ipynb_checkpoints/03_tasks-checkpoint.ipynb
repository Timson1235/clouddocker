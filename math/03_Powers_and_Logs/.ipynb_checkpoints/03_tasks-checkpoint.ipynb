{
 "cells": [
  {
   "cell_type": "markdown",
   "metadata": {},
   "source": [
    "### Exercise 4: Equation with Logarithms  \n",
    "\n",
    "Solve for \\( x \\) analytically and by plotting the solution in Python:  \n",
    "\n",
    "\\[\n",
    "2 \\log x = \\log 2 + \\log (3x - 4)\n",
    "\\]\n",
    "\n",
    "For plotting the functions, use the `numpy` command `arange` to create a list of \\( x \\)-values.\n"
   ]
  },
  {
   "cell_type": "markdown",
   "metadata": {},
   "source": [
    "### Exercise 4: Equation with Logarithms  \n",
    "\n",
    "Solve for \\( x \\) analytically and by plotting the solution in Python:  \n",
    "\n",
    "\\[\n",
    "2 \\log x = \\log 2 + \\log (3x - 4)\n",
    "\\]\n",
    "\n",
    "For plotting the functions, use the `numpy` command `arange` to create a list of \\( x \\)-values.\n"
   ]
  },
  {
   "cell_type": "code",
   "execution_count": null,
   "metadata": {
    "vscode": {
     "languageId": "plaintext"
    }
   },
   "outputs": [],
   "source": []
  }
 ],
 "metadata": {
  "language_info": {
   "name": "python"
  }
 },
 "nbformat": 4,
 "nbformat_minor": 2
}
