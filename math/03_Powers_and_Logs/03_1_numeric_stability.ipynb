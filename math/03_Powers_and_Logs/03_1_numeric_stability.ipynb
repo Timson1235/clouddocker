{
 "cells": [
  {
   "cell_type": "markdown",
   "id": "399e6001-e5a5-4d6b-96dd-6517010a40dd",
   "metadata": {
    "tags": []
   },
   "source": [
    "# An experiment on numerical stability\n",
    "<div class=\"alert alert-block alert-success\">\n",
    "<b>Goals:</b> \n",
    "\n",
    "* Use a toy example to demonstrate how certain operations can yield unstable or null results.\n",
    "* Use logarithms to transform the same computation to yield a stable execution.\n",
    "</div>\n",
    "\n",
    "<div class=\"alert alert-block alert-info\">\n",
    "<b>Content:</b> In this notebook, we demonstrate how logarithms can be used to make computations stable.\n",
    "</div>\n",
    "\n",
    "Think of a product of small values (e.g. probabilities).\n",
    "\n",
    "For example in Naive Bayes, we multiply many such small values.\n",
    "\n",
    "Here, we use a toy example (instead of many small numbers, we use few very small numbers) to demonstrate an effect: \n",
    "\n",
    "Compute $a=2 * 10^{(-100)} * 9^{(-100)} * 8^{(-100)} * \n",
    "7^{(-100)}$.\n",
    "\n",
    "__Toy Example Idea__\n",
    "\n",
    "* Think of this value $a$ as a product of \n",
    "    * a factor ($2$) and \n",
    "    * four (small) probabilities. \n",
    "* This value $a$ occured during the execution of an algorithms. \n",
    "* Since we know the four probabilities, we want to retrieve the factor $2$ from $a$.\n",
    "* Basically, we want to compute:\n",
    "$$b=\\frac{a}{10^{(-100)} * 9^{(-100)} * 8^{(-100)} * \n",
    "7^{(-100)}}$$.\n",
    "* The result should be $b=2$.\n"
   ]
  },
  {
   "cell_type": "markdown",
   "id": "75cdf9f0-c455-4d1a-b10c-6b544c99061b",
   "metadata": {
    "jupyter": {
     "source_hidden": true
    },
    "tags": []
   },
   "source": [
    "## Create Small Values (probabilities)"
   ]
  },
  {
   "cell_type": "code",
   "execution_count": 1,
   "id": "f115804f-adf3-4e21-abbd-15f0096400bd",
   "metadata": {
    "jupyter": {
     "source_hidden": true
    },
    "tags": []
   },
   "outputs": [
    {
     "data": {
      "text/plain": [
       "(1e-100, 3.764861949599026e-96, 4.909093465297727e-91, 3.091690408090221e-85)"
      ]
     },
     "execution_count": 1,
     "metadata": {},
     "output_type": "execute_result"
    }
   ],
   "source": [
    "# create the small probabilities\n",
    "p_10=10**-100\n",
    "p_9=9**-100\n",
    "p_8=8**-100\n",
    "p_7=7**-100\n",
    "\n",
    "p_10, p_9, p_8, p_7"
   ]
  },
  {
   "cell_type": "markdown",
   "id": "f2ba8aed-4d37-4f60-ba19-5e1f2a4d7557",
   "metadata": {
    "jupyter": {
     "source_hidden": true
    },
    "tags": []
   },
   "source": [
    "## Let's do some Computations"
   ]
  },
  {
   "cell_type": "code",
   "execution_count": 2,
   "id": "eff1a7cd-6190-41eb-967c-7119100236db",
   "metadata": {
    "jupyter": {
     "source_hidden": true
    },
    "tags": []
   },
   "outputs": [
    {
     "data": {
      "text/plain": [
       "0.0"
      ]
     },
     "execution_count": 2,
     "metadata": {},
     "output_type": "execute_result"
    }
   ],
   "source": [
    "a=2*p_10 * p_9 * p_8 * p_7 # should be a small value larger than 0\n",
    "a"
   ]
  },
  {
   "cell_type": "code",
   "execution_count": 3,
   "id": "aa0ee3cc-570e-4399-8758-7249e52df99b",
   "metadata": {
    "jupyter": {
     "source_hidden": true
    },
    "tags": []
   },
   "outputs": [
    {
     "data": {
      "text/plain": [
       "0.0"
      ]
     },
     "execution_count": 3,
     "metadata": {},
     "output_type": "execute_result"
    }
   ],
   "source": [
    "a/(p_10 * p_9 * p_8) # should yield 2*p_7"
   ]
  },
  {
   "cell_type": "code",
   "execution_count": null,
   "id": "da551ddc-5982-45d5-9c25-6760d93cfef0",
   "metadata": {
    "jupyter": {
     "source_hidden": true
    },
    "tags": []
   },
   "outputs": [
    {
     "ename": "ZeroDivisionError",
     "evalue": "float division by zero",
     "output_type": "error",
     "traceback": [
      "\u001b[1;31m---------------------------------------------------------------------------\u001b[0m",
      "\u001b[1;31mZeroDivisionError\u001b[0m                         Traceback (most recent call last)",
      "Cell \u001b[1;32mIn[4], line 1\u001b[0m\n\u001b[1;32m----> 1\u001b[0m b\u001b[38;5;241m=\u001b[39m\u001b[43ma\u001b[49m\u001b[38;5;241;43m/\u001b[39;49m\u001b[43m(\u001b[49m\u001b[43mp_10\u001b[49m\u001b[43m \u001b[49m\u001b[38;5;241;43m*\u001b[39;49m\u001b[43m \u001b[49m\u001b[43mp_9\u001b[49m\u001b[43m \u001b[49m\u001b[38;5;241;43m*\u001b[39;49m\u001b[43m \u001b[49m\u001b[43mp_8\u001b[49m\u001b[43m \u001b[49m\u001b[38;5;241;43m*\u001b[39;49m\u001b[43m \u001b[49m\u001b[43mp_7\u001b[49m\u001b[43m)\u001b[49m \u001b[38;5;66;03m# should yield 2\u001b[39;00m\n",
      "\u001b[1;31mZeroDivisionError\u001b[0m: float division by zero"
     ]
    }
   ],
   "source": [
    "#b=a/(p_10 * p_9 * p_8 * p_7) # should yield 2"
   ]
  },
  {
   "cell_type": "code",
   "execution_count": 5,
   "id": "05288665-7c87-4e53-8b31-d7af555e73b5",
   "metadata": {
    "jupyter": {
     "source_hidden": true
    },
    "tags": []
   },
   "outputs": [
    {
     "name": "stdout",
     "output_type": "stream",
     "text": [
      "Due to rounding, the denominator is actually 0.\n"
     ]
    }
   ],
   "source": [
    "try:\n",
    "    b=a/(p_10 * p_9 * p_8 * p_7) # should yield 2\n",
    "    print(b)\n",
    "except ZeroDivisionError:\n",
    "    print(\"Due to rounding, the denominator is actually 0.\")"
   ]
  },
  {
   "cell_type": "markdown",
   "id": "006f7e4e-8e14-4390-abcf-5d8a10826515",
   "metadata": {
    "jupyter": {
     "source_hidden": true
    },
    "tags": []
   },
   "source": [
    "## Let's try the same with logarithms\n",
    "log(10^(-100)) = -100* log(10)"
   ]
  },
  {
   "cell_type": "code",
   "execution_count": 6,
   "id": "3f9fe376-acdc-4757-a029-804b0eb89c56",
   "metadata": {
    "jupyter": {
     "source_hidden": true
    },
    "tags": []
   },
   "outputs": [],
   "source": [
    "import math"
   ]
  },
  {
   "cell_type": "markdown",
   "id": "7f25b6af-bd90-41ac-99f7-23a4e7728da8",
   "metadata": {
    "jupyter": {
     "source_hidden": true
    },
    "tags": []
   },
   "source": [
    "Instead of computing the probabilities directly, we use their logarithms:\n",
    "$$\\log(a)=\\log(2 \\cdot p_{10} \\cdot p_9 \\cdot p_8 \\cdot p_7) = \\log(2)+\\log(p_{10}) + \\log(p_9) + \\log(p_8) + \\log(p_7) $$\n",
    "\n",
    "Hereby, we use $ \\log(7^{-100}) = -100*\\log(7)$"
   ]
  },
  {
   "cell_type": "code",
   "execution_count": 7,
   "id": "33bf723d-a128-4960-85eb-4ccc3a60bfe2",
   "metadata": {
    "jupyter": {
     "source_hidden": true
    },
    "tags": []
   },
   "outputs": [],
   "source": [
    "log_p_10=-100*math.log(10)\n",
    "log_p_9=-100*math.log(9)\n",
    "log_p_8=-100*math.log(8)\n",
    "log_p_7=-100*math.log(7) "
   ]
  },
  {
   "cell_type": "code",
   "execution_count": 8,
   "id": "86a2c1a5-74d8-4a81-93b9-f0cd995ac14b",
   "metadata": {
    "jupyter": {
     "source_hidden": true
    },
    "tags": []
   },
   "outputs": [
    {
     "data": {
      "text/plain": [
       "-851.8229889259815"
      ]
     },
     "execution_count": 8,
     "metadata": {},
     "output_type": "execute_result"
    }
   ],
   "source": [
    "#a=2*p_10 * p_9 * p_8 * p_7 # should be a small value larger than 0\n",
    "\n",
    "log_a=math.log(2) + log_p_10 + log_p_9 + log_p_8 + log_p_7\n",
    "log_a"
   ]
  },
  {
   "cell_type": "markdown",
   "id": "7f32a22c-b235-42e6-83f5-28d9cb050b9e",
   "metadata": {
    "jupyter": {
     "source_hidden": true
    },
    "tags": []
   },
   "source": [
    "We get a non-zero result. \n",
    "Now lets try retrieving the factor 2 from the product by \"dividing\" by the other factors"
   ]
  },
  {
   "cell_type": "code",
   "execution_count": 9,
   "id": "244d7561-3ff1-4dd6-81fa-71c24ca0c242",
   "metadata": {
    "jupyter": {
     "source_hidden": true
    },
    "tags": []
   },
   "outputs": [
    {
     "data": {
      "text/plain": [
       "0.693147180560004"
      ]
     },
     "execution_count": 9,
     "metadata": {},
     "output_type": "execute_result"
    }
   ],
   "source": [
    "#b=a/(p_10 * p_9 * p_8 * p_7)\n",
    "\n",
    "log_b = log_a - (log_p_10 + log_p_9 + log_p_8 + log_p_7)\n",
    "log_b"
   ]
  },
  {
   "cell_type": "code",
   "execution_count": 10,
   "id": "cbafdcfa-5568-48c7-8cd4-16626376e595",
   "metadata": {
    "jupyter": {
     "source_hidden": true
    },
    "tags": []
   },
   "outputs": [
    {
     "data": {
      "text/plain": [
       "2.0000000000001172"
      ]
     },
     "execution_count": 10,
     "metadata": {},
     "output_type": "execute_result"
    }
   ],
   "source": [
    "math.e**log_b # should yield 2"
   ]
  },
  {
   "cell_type": "markdown",
   "id": "9ce5bfbb-5859-4335-9417-2063ff6e827d",
   "metadata": {
    "jupyter": {
     "source_hidden": true
    },
    "tags": []
   },
   "source": [
    "We can retrieve the orginal value of 2 almost precisely."
   ]
  },
  {
   "cell_type": "markdown",
   "id": "e324a7ec-701d-42a9-8826-1709f57e075c",
   "metadata": {
    "jupyter": {
     "source_hidden": true
    },
    "tags": []
   },
   "source": [
    "<div class=\"alert alert-block alert-info\">\n",
    "<b>Take Aways:</b> \n",
    "\n",
    "* Using logarithms, we use sums of logarithms instead of products.\n",
    "* Using logarithms, we can compute with small numbers instead of extremely small numbers, thus avoiding precision loss.\n",
    "</div>\n",
    "\n",
    "<div class=\"alert alert-block alert-success\">\n",
    "<b>Play with:</b> \n",
    "\n",
    "* Change the values of the probabilities.\n",
    "* Observe different behavior in the results of the plain computation (without logs).\n",
    "* Verify that the log-based computation still yields the same result (up to some small rounding errors).\n",
    "</div>\n"
   ]
  },
  {
   "cell_type": "markdown",
   "id": "19caab02",
   "metadata": {},
   "source": [
    "Exercise 1. ( \u001eComputing Powers, Roots, Logarithms)\n",
    "Solve the following problems:\n",
    "1. 1.65\n",
    "2. log2 2048\n",
    "3. log3 243\n",
    "4. 4?81\n",
    "5. log8\n",
    "5\n",
    "10.48576"
   ]
  },
  {
   "cell_type": "code",
   "execution_count": 19,
   "id": "a117197a",
   "metadata": {},
   "outputs": [],
   "source": [
    "import numpy as np\n"
   ]
  },
  {
   "cell_type": "code",
   "execution_count": 28,
   "id": "2174cb99-d7e2-456b-89cc-1fc22b99ee58",
   "metadata": {},
   "outputs": [
    {
     "name": "stdout",
     "output_type": "stream",
     "text": [
      "(10.485760000000003, 11.0, 4.999999999999999, 3.0, 5.0)\n"
     ]
    }
   ],
   "source": [
    "results = (\n",
    "    1.6 ** 5,                      # 1. 1.6 to the power of 5\n",
    "    np.log2(2048),                 # 2. log2 of 2048\n",
    "    np.log(243) / np.log(3),       # 3. log3 of 243\n",
    "    81 ** (1/4),                   # 4. 4th root of 81\n",
    "    np.log(10.48576) / np.log(8/5) # 5. log(10.48576) / log(8/5)\n",
    ")\n",
    "\n",
    "# Print the results\n",
    "print(results)\n"
   ]
  },
  {
   "cell_type": "markdown",
   "id": "c43cbb66",
   "metadata": {},
   "source": [
    "Exercise 2. (\u001ePower and Logarithm Computation Rules)\n",
    "Express the following terms using log 𝑥, log 𝑦, and log 𝑧.\n",
    "Note: In situations like this, we do not specifically denote the base. It is implicitly assumed, that all\n",
    "logarithms have the same base.\n",
    "1. log 𝑥𝑦𝑧\n",
    "2. log 5a𝑥4𝑦 ́2"
   ]
  },
  {
   "cell_type": "code",
   "execution_count": 32,
   "id": "0eacf7fc",
   "metadata": {},
   "outputs": [
    {
     "name": "stdout",
     "output_type": "stream",
     "text": [
      "3.1780538303479453 3.1780538303479458\n",
      "0.0\n"
     ]
    }
   ],
   "source": [
    "x=2\n",
    "y=3\n",
    "z=4\n",
    "\n",
    "print(\n",
    "    np.log(x) + np.log(y) + np.log(z),\n",
    "    np.log(x*y*z))\n",
    "\n",
    "print(\n",
    "    (1/5)*(4*np.log(x)+(-2*np.log(z)))\n",
    ")"
   ]
  },
  {
   "cell_type": "markdown",
   "id": "86a05985",
   "metadata": {},
   "source": [
    "Exercise 3. (\u001eEquations with Logarithms)\n",
    "\u001eSolve for 𝑥!\n",
    "1. 22𝑥 ́1 “ 512\n",
    "2. log𝑎 1\n",
    "𝑎 “ 𝑥\n",
    "3. log9 𝑥 “  ́1\n",
    "2\n",
    "4. log3p𝑥 `25q ́log3p𝑥  ́1q “ 3\n",
    "\n",
    "Exercise 4. (\u001e\u0002Equation with Logarithms)\n",
    "Solve for 𝑥, analytically and by plotting the solution in Python: 2 log 𝑥 “ log 2 `logp3𝑥  ́4q\n",
    "For plotting the functions, use the numpy command arange to create a list of 𝑥-values.\n",
    "Exercise 5. (\u001e\u0002Epidemic Spreading Model)\n",
    "Consider the following simplified model of epidemic spreading:\n",
    "• For a disease, the value 𝑅 determines the number of persons, a sick person will infect on\n",
    "average.\n",
    "• In every new step, each currently infected person infects 𝑅 further persons and then stops\n",
    "being contagious.\n",
    "• Assume that the disease is discovered, when 100 patients are in their contagious state.\n",
    "1. Create a mathematical model for the above spreading process – a function for the number of\n",
    "new infections in each step.\n",
    "2. Plot the number of new infections with every step for different values of 𝑅.\n",
    "3. Describe three qualitatively different behaviors depending on the value for 𝑅.\n",
    "4. Describe the influence of small modifications to 𝑅, e.g. 1.7 vs. 1.75.\n"
   ]
  },
  {
   "cell_type": "code",
   "execution_count": 46,
   "id": "c7cccee4",
   "metadata": {},
   "outputs": [
    {
     "data": {
      "image/png": "[encoded data removed]",
      "text/plain": [
       "<Figure size 1000x600 with 1 Axes>"
      ]
     },
     "metadata": {},
     "output_type": "display_data"
    }
   ],
   "source": [
    "import numpy as np\n",
    "import matplotlib.pyplot as plt\n",
    "\n",
    "# Define the initial number of infected individuals\n",
    "I0 = 100\n",
    "\n",
    "# Define a function to model the spread of infection\n",
    "def infection_model(R, steps):\n",
    "    return [I0 * (R ** n) for n in range(steps)]\n",
    "\n",
    "# Plot the number of infections for different values of R\n",
    "def plot_infections(R_values, steps):\n",
    "    plt.figure(figsize=(10, 6))\n",
    "    for R in R_values:\n",
    "        infections = infection_model(R, steps)\n",
    "        plt.plot(range(steps), infections, label=f'R = {R}')\n",
    "    \n",
    "    plt.xlabel('Steps')\n",
    "    plt.ylabel('New Infections')\n",
    "    plt.title('Disease Spread over Time for Different R Values')\n",
    "    plt.legend()\n",
    "    plt.grid(True)\n",
    "    plt.show()\n",
    "\n",
    "# Define different R values to visualize the behavior\n",
    "R_values = [0.9, 1.8, 2.0]\n",
    "steps = 6\n",
    "\n",
    "# Plot the infections for the chosen R values\n",
    "plot_infections(R_values, steps)\n"
   ]
  },
  {
   "cell_type": "code",
   "execution_count": null,
   "id": "3fdf2df2",
   "metadata": {},
   "outputs": [],
   "source": []
  }
 ],
 "metadata": {
  "kernelspec": {
   "display_name": "Python 3",
   "language": "python",
   "name": "python3"
  },
  "language_info": {
   "codemirror_mode": {
    "name": "ipython",
    "version": 3
   },
   "file_extension": ".py",
   "mimetype": "text/x-python",
   "name": "python",
   "nbconvert_exporter": "python",
   "pygments_lexer": "ipython3",
   "version": "3.12.4"
  }
 },
 "nbformat": 4,
 "nbformat_minor": 5
}
