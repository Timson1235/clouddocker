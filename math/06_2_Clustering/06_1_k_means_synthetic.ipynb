{
 "cells": [
  {
   "cell_type": "markdown",
   "id": "7824e47c-a250-4334-b38b-a94f17b3fe2b",
   "metadata": {
    "tags": []
   },
   "source": [
    "# $k$-Means on a Synthetic Dataset\n",
    "\n",
    "<div class=\"alert alert-block alert-success\">\n",
    "<b>Goals:</b> \n",
    "\n",
    "* Demonstrate $k$-means clusterings.\n",
    "* Application of artificial data.\n",
    "* Focus on technical aspects rather than results and interpretation.\n",
    "</div>\n",
    "\n",
    "\n",
    "<div class=\"alert alert-block alert-info\">\n",
    "<b>Content:</b> In this notebook, we test different k-clusterings on a synthetic dataset.\n",
    "</div>\n",
    "\n",
    "\n",
    "__Goals__\n",
    "* run different versions of k-Means on a synthetic dataset\n",
    "* analyze outcome and performance with different parametrizations\n",
    "\n",
    "__Attribution__\n",
    "* Experiments are based on the [k-means demo](https://scikit-learn.org/stable/auto_examples/cluster/plot_kmeans_assumptions.html) by author: Author: Phil Roth <mr.phil.roth@gmail.com> under License BSD 3 clause\n",
    "* Parts of the code have been modified and extended to fit the context of the lecture"
   ]
  },
  {
   "cell_type": "code",
   "execution_count": null,
   "id": "f0455f22-5261-4887-8abf-62a1c963b888",
   "metadata": {
    "jupyter": {
     "source_hidden": true
    },
    "tags": []
   },
   "outputs": [],
   "source": [
    "# Original Licence Remark (k-Means)\n",
    "# Author: Phil Roth <mr.phil.roth@gmail.com>\n",
    "# License: BSD 3 claus"
   ]
  },
  {
   "cell_type": "markdown",
   "id": "3c296ac1-640d-48b1-a590-c4af466ce4d7",
   "metadata": {
    "jupyter": {
     "source_hidden": true
    },
    "tags": []
   },
   "source": [
    "## Create a Synthetic Dataset"
   ]
  },
  {
   "cell_type": "code",
   "execution_count": null,
   "id": "ad48bbdc-e5e8-4485-bd2c-4d37965c25c1",
   "metadata": {
    "jupyter": {
     "source_hidden": true
    },
    "tags": []
   },
   "outputs": [],
   "source": [
    "import time   # measure the run time of k-Means\n",
    "import numpy as np # handle arrays/vectors\n",
    "import matplotlib.pyplot as plt # plot\n",
    "import pandas as pd\n",
    "\n",
    "from sklearn.datasets import make_blobs  # create an artificial dataset\n",
    "from sklearn.cluster import KMeans  # k-Means\n",
    "from sklearn.cluster import MiniBatchKMeans # A sometimes faster version of k-Means"
   ]
  },
  {
   "cell_type": "code",
   "execution_count": null,
   "id": "1733259f-a187-4e41-8fda-83b168f4c4ca",
   "metadata": {
    "jupyter": {
     "source_hidden": true
    },
    "tags": []
   },
   "outputs": [],
   "source": [
    "n_samples = 1500\n",
    "random_state = 170\n",
    "X, y = make_blobs(n_samples=n_samples, random_state=random_state, center_box=(-5.0, 5.0))"
   ]
  },
  {
   "cell_type": "code",
   "execution_count": null,
   "id": "6579d0c4-89c4-4362-90cf-75dee0e5b3fc",
   "metadata": {
    "jupyter": {
     "source_hidden": true
    },
    "tags": []
   },
   "outputs": [],
   "source": [
    "X"
   ]
  },
  {
   "cell_type": "code",
   "execution_count": null,
   "id": "f538d08d-07e3-42ab-8fb3-c45ee9451c13",
   "metadata": {
    "jupyter": {
     "source_hidden": true
    },
    "tags": []
   },
   "outputs": [],
   "source": [
    "X.shape"
   ]
  },
  {
   "cell_type": "code",
   "execution_count": null,
   "id": "a1551b9e-aea4-4ce1-94ce-c7ac29a89dfb",
   "metadata": {
    "jupyter": {
     "source_hidden": true
    },
    "tags": []
   },
   "outputs": [],
   "source": [
    "y.shape"
   ]
  },
  {
   "cell_type": "code",
   "execution_count": null,
   "id": "cd5b06e7-49fc-40ff-b5fa-c27f1dc3072c",
   "metadata": {
    "jupyter": {
     "source_hidden": true
    },
    "tags": []
   },
   "outputs": [],
   "source": [
    "plt.scatter(X[:,0], X[:,1])"
   ]
  },
  {
   "cell_type": "markdown",
   "id": "a74f03ab-5037-4ac8-8c64-7bf2fa2299dc",
   "metadata": {
    "jupyter": {
     "source_hidden": true
    },
    "tags": []
   },
   "source": [
    "## Run k-Means++"
   ]
  },
  {
   "cell_type": "code",
   "execution_count": null,
   "id": "b716539f-bfa4-4574-b60f-e05886d233b5",
   "metadata": {
    "jupyter": {
     "source_hidden": true
    },
    "tags": []
   },
   "outputs": [],
   "source": [
    "kmeans_pp = KMeans(\n",
    "    n_clusters=3, # find 3 clusters\n",
    "    random_state=random_state, # make experiments replicable\n",
    "    n_init=20, # find the best clustering out of 20 tries with different initialization\n",
    "    init='k-means++', # use k-means++ initialization\n",
    "    max_iter=300, tol=0.0001) ## abort after 300 iterations or if the cost function does not change more than tol"
   ]
  },
  {
   "cell_type": "markdown",
   "id": "1c9cd441-2a04-47e0-9215-853c37f53ac7",
   "metadata": {
    "jupyter": {
     "source_hidden": true
    },
    "tags": []
   },
   "source": [
    "While we run the algorithm, we will also measure the runtime."
   ]
  },
  {
   "cell_type": "code",
   "execution_count": null,
   "id": "28684dec-e236-43e4-95b9-d8e0a47b5396",
   "metadata": {
    "jupyter": {
     "source_hidden": true
    },
    "tags": []
   },
   "outputs": [],
   "source": [
    "time.time()"
   ]
  },
  {
   "cell_type": "code",
   "execution_count": null,
   "id": "e3081186-8686-49db-95e6-be920ee63929",
   "metadata": {
    "jupyter": {
     "source_hidden": true
    },
    "tags": []
   },
   "outputs": [],
   "source": [
    "time.time()/60/60/24/365 # time.time() returns the seconds passed since 01.01.1970 0:00:00 (epoch time)"
   ]
  },
  {
   "cell_type": "markdown",
   "id": "fb674b29-3e03-41ab-91cf-826907e08ce0",
   "metadata": {
    "jupyter": {
     "source_hidden": true
    },
    "tags": []
   },
   "source": [
    "<div class=\"alert alert-block alert-info\">\n",
    "<b>Technical Remark:</b> Time can be measured using the time module. Time is always measured in reference to 01.01.1970.\n",
    "    \n",
    "Keep in mind: measuring runtimes is difficult due to\n",
    "* the multiple processes running in (pseudo-)parallel on a computer\n",
    "* the influence of the datasets properties\n",
    "* the influence of random in the algorithm\n",
    "\n",
    "Remedies:\n",
    "* run on isolated machines (to the extent that isolation is possible)\n",
    "* count time over multiple runs (e.g. using different random-seeds)\n",
    "* count time over different datasets (e.g. created using different random-seeds)\n",
    "* repeat the exact same experiment (same parameter, same data) and use the __lowest__ time\n",
    "</div>"
   ]
  },
  {
   "cell_type": "code",
   "execution_count": null,
   "id": "f82fa0c3-3446-4d38-8468-71a0347810ea",
   "metadata": {
    "jupyter": {
     "source_hidden": true
    },
    "tags": []
   },
   "outputs": [],
   "source": [
    "start_time=time.time()\n",
    "cluster_assignments=kmeans_pp.fit_predict(X)\n",
    "print(time.time()-start_time)"
   ]
  },
  {
   "cell_type": "code",
   "execution_count": null,
   "id": "8b4fde4b-0c6f-422e-8bcc-21f3ac630e0b",
   "metadata": {
    "jupyter": {
     "source_hidden": true
    },
    "tags": []
   },
   "outputs": [],
   "source": [
    "def k_means_report(kmeans):\n",
    "    print(f'k-means \\n * has seen {kmeans.n_features_in_} features,\\n \\\n",
    "* used {kmeans.n_iter_} iterations, and \\n \\\n",
    "* resulted in an inertia of {kmeans.inertia_}.')"
   ]
  },
  {
   "cell_type": "code",
   "execution_count": null,
   "id": "83da5894-7752-4f77-86a2-5abd82fccf37",
   "metadata": {
    "jupyter": {
     "source_hidden": true
    },
    "tags": []
   },
   "outputs": [],
   "source": [
    "k_means_report(kmeans_pp)"
   ]
  },
  {
   "cell_type": "markdown",
   "id": "69afa25d-8db4-4ac3-a863-0b8fb1adc2df",
   "metadata": {
    "jupyter": {
     "source_hidden": true
    },
    "tags": []
   },
   "source": [
    "<div class=\"alert alert-block alert-info\">\n",
    "<b>Technical Remark:</b> Is the resulting inertia high or low? - Inertia is only useful for comparing two clusterings on the same data using the same number of clusters!\n",
    "</div>"
   ]
  },
  {
   "cell_type": "markdown",
   "id": "0c5ec1c1-2080-4147-8962-2b67085278d9",
   "metadata": {
    "jupyter": {
     "source_hidden": true
    },
    "tags": []
   },
   "source": [
    "## Inspect the Resulting Clustering"
   ]
  },
  {
   "cell_type": "code",
   "execution_count": null,
   "id": "329a47c1-ff9d-4cc1-8b47-ded6ec6f089c",
   "metadata": {
    "jupyter": {
     "source_hidden": true
    },
    "tags": []
   },
   "outputs": [],
   "source": [
    "kmeans_pp.cluster_centers_"
   ]
  },
  {
   "cell_type": "code",
   "execution_count": null,
   "id": "2faf25c6-666e-4fd4-96c1-b4e670b53696",
   "metadata": {
    "jupyter": {
     "source_hidden": true
    },
    "tags": []
   },
   "outputs": [],
   "source": [
    "cluster_assignments"
   ]
  },
  {
   "cell_type": "code",
   "execution_count": null,
   "id": "9915996c-ba1c-4ddc-9480-bf9638da4924",
   "metadata": {
    "jupyter": {
     "source_hidden": true
    },
    "tags": []
   },
   "outputs": [],
   "source": [
    "\n",
    "colors=['darkorange', 'darkmagenta', 'dodgerblue']\n",
    "\n",
    "def print_clustering(X, kmeans, cluster_assignments):\n",
    "    plt.figure(figsize=(8, 8))\n",
    "\n",
    "#    for i in range(0,len(np.unique(cluster_assignments))):\n",
    "    for i in np.unique(cluster_assignments):\n",
    "        X_sub=X[cluster_assignments==i, :]\n",
    "        plt.scatter(X_sub[:, 0], X_sub[:, 1], c=colors[i], label=i)\n",
    "    \n",
    "    plt.scatter(\n",
    "        kmeans.cluster_centers_[:, 0], \n",
    "        kmeans.cluster_centers_[:, 1],\n",
    "        s=350, marker='*', c='crimson', edgecolor='black'\n",
    "    )\n",
    "\n",
    "    plt.legend()\n",
    "    \n",
    "print_clustering(X, kmeans_pp, cluster_assignments)"
   ]
  },
  {
   "cell_type": "markdown",
   "id": "2a32f592-4eb9-49ae-95e4-7f70d7eca832",
   "metadata": {
    "jupyter": {
     "source_hidden": true
    },
    "tags": []
   },
   "source": [
    "## Interpretation\n",
    "* k-means was used to create 3 clusters\n",
    "* the three clusters can be visualized (after all our data has only two features)\n",
    "* the three clusters appear as compact shapes around their centers\n",
    "* we do not see a clear separation between the clusters"
   ]
  },
  {
   "cell_type": "markdown",
   "id": "de2a2d96-336a-4681-8696-1b0a624ea098",
   "metadata": {
    "jupyter": {
     "source_hidden": true
    }
   },
   "source": [
    "## Evaluation\n",
    "In the rare case where we already know a valid grouping of the data, we can check wether a clustering algorithm -- unaware of that grouping -- would retrieve the same groups.\n",
    "\n",
    "Note: This is by definition not an exploratory task. However, it is a way to test clustering algorithms on known data to determine whether they are suitable for exploration of unknown data."
   ]
  },
  {
   "cell_type": "code",
   "execution_count": null,
   "id": "f288e2d0-5857-4724-9f44-e7ee88fa703e",
   "metadata": {
    "jupyter": {
     "source_hidden": true
    },
    "scrolled": true,
    "tags": []
   },
   "outputs": [],
   "source": [
    "crosstab=pd.crosstab(y, cluster_assignments)\n",
    "crosstab.index.name=\"y\"\n",
    "crosstab.columns.name=\"clusters\"\n",
    "crosstab"
   ]
  },
  {
   "cell_type": "markdown",
   "id": "366e4e55-46c9-4dd5-a73f-cc4e79f5fe50",
   "metadata": {
    "jupyter": {
     "source_hidden": true
    },
    "tags": []
   },
   "source": [
    "## Compare k-Means Versions\n",
    "Let's compare k-means++ to the k-means without sophisticated init"
   ]
  },
  {
   "cell_type": "code",
   "execution_count": null,
   "id": "c208af51-1fdf-4776-bcc0-5cb9e405cee5",
   "metadata": {
    "jupyter": {
     "source_hidden": true
    },
    "tags": []
   },
   "outputs": [],
   "source": [
    "kmeans_random = KMeans(\n",
    "    n_clusters=3, \n",
    "    random_state=random_state, \n",
    "    n_init=20, \n",
    "    init='random',  # the only difference: Random initialization instead of k-means++\n",
    "    max_iter=300, tol=0.0001)"
   ]
  },
  {
   "cell_type": "code",
   "execution_count": null,
   "id": "871e2e6f-5bd0-4c6d-a7d3-a641d6cb2630",
   "metadata": {
    "jupyter": {
     "source_hidden": true
    },
    "tags": []
   },
   "outputs": [],
   "source": [
    "start_time=time.time()\n",
    "cluster_assignments=kmeans_random.fit_predict(X)\n",
    "print(time.time()-start_time)"
   ]
  },
  {
   "cell_type": "code",
   "execution_count": null,
   "id": "6e8aa3e6-ab33-40fb-b99e-cc23bab940b0",
   "metadata": {
    "jupyter": {
     "source_hidden": true
    },
    "tags": []
   },
   "outputs": [],
   "source": [
    "print(f'k-means has seen {kmeans_random.n_features_in_} features,\\n \\\n",
    "used {kmeans_random.n_iter_} iterations, and \\n \\\n",
    "resulted in an inertia (TDˆ2) of {kmeans_random.inertia_}.')"
   ]
  },
  {
   "cell_type": "code",
   "execution_count": null,
   "id": "23d5ed93-7b64-4104-b93d-fe4b84280867",
   "metadata": {
    "jupyter": {
     "source_hidden": true
    },
    "tags": []
   },
   "outputs": [],
   "source": [
    "kmeans_random.cluster_centers_"
   ]
  },
  {
   "cell_type": "code",
   "execution_count": null,
   "id": "8444340b-a750-452b-9fa3-06da011627d4",
   "metadata": {
    "jupyter": {
     "source_hidden": true
    },
    "tags": []
   },
   "outputs": [],
   "source": [
    "print_clustering(X, kmeans_random, cluster_assignments)"
   ]
  },
  {
   "cell_type": "markdown",
   "id": "f511c7c3-f8ff-4207-8f8c-9c8685da3875",
   "metadata": {
    "jupyter": {
     "source_hidden": true
    },
    "tags": []
   },
   "source": [
    "Observation: The clustering looks similar, the colors are different. Why?"
   ]
  },
  {
   "cell_type": "markdown",
   "id": "e5c93e1c-f901-4244-afd6-95c95b73b30a",
   "metadata": {
    "jupyter": {
     "source_hidden": true
    },
    "tags": []
   },
   "source": [
    "The initial clusterings are determined at random. Thus the cluster indexes (0,1,2) are also randomly distributed."
   ]
  },
  {
   "cell_type": "markdown",
   "id": "7ffc997c-081f-47aa-8737-ca8e02bd880d",
   "metadata": {
    "jupyter": {
     "source_hidden": true
    },
    "tags": []
   },
   "source": [
    "## Alternative (sometimes faster) Version\n",
    "MiniBatchKMeans - instead of centroid updates after each sample, centroids are updated after a batch of samples."
   ]
  },
  {
   "cell_type": "code",
   "execution_count": null,
   "id": "22ec5879-f49a-4518-8c70-291be1bf5c83",
   "metadata": {
    "jupyter": {
     "source_hidden": true
    },
    "tags": []
   },
   "outputs": [],
   "source": [
    "mbk=MiniBatchKMeans(n_clusters=3, init='k-means++', max_iter=100, batch_size=100, random_state=1, n_init=20)"
   ]
  },
  {
   "cell_type": "code",
   "execution_count": null,
   "id": "1bd20d3b-d199-4825-930d-1935b00c0c56",
   "metadata": {
    "jupyter": {
     "source_hidden": true
    },
    "tags": []
   },
   "outputs": [],
   "source": [
    "start_time=time.time()\n",
    "cluster_assignments=mbk.fit_predict(X)\n",
    "print(time.time()-start_time)"
   ]
  },
  {
   "cell_type": "code",
   "execution_count": null,
   "id": "d1d2f71a-fc73-4c71-a151-4fd7e0ad1512",
   "metadata": {
    "jupyter": {
     "source_hidden": true
    },
    "tags": []
   },
   "outputs": [],
   "source": [
    "mbk.get_params()"
   ]
  },
  {
   "cell_type": "code",
   "execution_count": null,
   "id": "53ff8661-add3-46c8-b32d-9eb26027e822",
   "metadata": {
    "jupyter": {
     "source_hidden": true
    },
    "tags": []
   },
   "outputs": [],
   "source": [
    "mbk.n_iter_"
   ]
  },
  {
   "cell_type": "code",
   "execution_count": null,
   "id": "779ab7d3-2022-436a-b5c3-143f41b1cb2c",
   "metadata": {
    "jupyter": {
     "source_hidden": true
    },
    "tags": []
   },
   "outputs": [],
   "source": [
    "mbk.inertia_"
   ]
  },
  {
   "cell_type": "code",
   "execution_count": null,
   "id": "97d79ec1-fe22-45ef-b9bb-c4099d99db42",
   "metadata": {
    "jupyter": {
     "source_hidden": true
    },
    "tags": []
   },
   "outputs": [],
   "source": [
    "print_clustering(X, mbk, cluster_assignments)"
   ]
  },
  {
   "cell_type": "markdown",
   "id": "bdb6e5cd-4702-4a63-abc5-cb90265c1a16",
   "metadata": {
    "jupyter": {
     "source_hidden": true
    },
    "tags": []
   },
   "source": [
    "<div class=\"alert alert-block alert-info\">\n",
    "<b>Take Aways:</b> \n",
    "\n",
    "* In this notebook, we have tested different versions of k-means clusterings.\n",
    "* The difference was mostly in terms of run time.\n",
    "* Proper visualization is difficult, we were lucky that our data was two-dimensional.\n",
    "</div>"
   ]
  },
  {
   "cell_type": "markdown",
   "id": "e6ae04f3-2abc-46fa-8cd5-0aa783dbcc32",
   "metadata": {
    "jupyter": {
     "source_hidden": true
    },
    "tags": []
   },
   "source": [
    "<div class=\"alert alert-block alert-warning\">\n",
    "<b>Note:</b> \n",
    "In this notebook, the interpretation of the clusters is missing (makes little sense for artificial data).\n",
    "</div>\n",
    "\n",
    "\n",
    "<div class=\"alert alert-block alert-success\">\n",
    "<b>Play with:</b> \n",
    "\n",
    "* Create other datasets that are more or less easily separable.\n",
    "* Try different $k$ -- as one would without previous knowledge on the expected number of groups.\n",
    "* Load a real dataset and run $k$-means. Which difficulties do you observe?\n",
    "</div>\n"
   ]
  }
 ],
 "metadata": {
  "kernelspec": {
   "display_name": "envMMS24sose",
   "language": "python",
   "name": "envmms24sose"
  },
  "language_info": {
   "codemirror_mode": {
    "name": "ipython",
    "version": 3
   },
   "file_extension": ".py",
   "mimetype": "text/x-python",
   "name": "python",
   "nbconvert_exporter": "python",
   "pygments_lexer": "ipython3",
   "version": "3.12.2"
  }
 },
 "nbformat": 4,
 "nbformat_minor": 5
}
