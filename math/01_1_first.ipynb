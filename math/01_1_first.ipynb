{
 "cells": [
  {
   "cell_type": "markdown",
   "id": "6c04968a-7b96-4c9e-acbc-4bc8afe02112",
   "metadata": {
    "tags": []
   },
   "source": [
    "# A First Jupyter Notebook\n",
    "\n",
    "<div class=\"alert alert-block alert-success\">\n",
    "<b>Goals:</b> \n",
    "    \n",
    "* Get to work with Python and Jupyter.\n",
    "* Verify your Python installation and environment for the module.\n",
    "* Understand basics of using a Jupyter Notebook.\n",
    "</div>"
   ]
  },
  {
   "cell_type": "markdown",
   "id": "28a246e7-0560-4f7c-acb5-d6ff80baff0f",
   "metadata": {
    "tags": []
   },
   "source": [
    "## Task: Verify Installation and Environment"
   ]
  },
  {
   "cell_type": "code",
   "execution_count": 1,
   "id": "32369f85-d5e3-4202-a033-e5e526daf3bc",
   "metadata": {
    "collapsed": true,
    "jupyter": {
     "outputs_hidden": true,
     "source_hidden": true
    },
    "tags": []
   },
   "outputs": [],
   "source": [
    "import sys # import the sys library that is automatically installed with Python"
   ]
  },
  {
   "cell_type": "markdown",
   "id": "d17036c6-3168-4183-bff7-30f93eb35925",
   "metadata": {
    "jupyter": {
     "source_hidden": true
    },
    "tags": []
   },
   "source": [
    "The next step shows the version of the currently used Python kernel. It should be larger than 3!"
   ]
  },
  {
   "cell_type": "code",
   "execution_count": 2,
   "id": "c4510336-7d1e-4018-910c-a2a8ec6c2a99",
   "metadata": {
    "collapsed": true,
    "jupyter": {
     "outputs_hidden": true,
     "source_hidden": true
    },
    "tags": []
   },
   "outputs": [
    {
     "data": {
      "text/plain": [
       "'3.12.4 (tags/v3.12.4:8e8a4ba, Jun  6 2024, 19:30:16) [MSC v.1940 64 bit (AMD64)]'"
      ]
     },
     "execution_count": 2,
     "metadata": {},
     "output_type": "execute_result"
    }
   ],
   "source": [
    "sys.version"
   ]
  },
  {
   "cell_type": "markdown",
   "id": "33c93f74-f2c8-4650-aff3-2f16e35e7394",
   "metadata": {
    "jupyter": {
     "source_hidden": true
    },
    "tags": []
   },
   "source": [
    "The next step shows the path of the currently installed Python kernel. It should include the path to your environment!"
   ]
  },
  {
   "cell_type": "code",
   "execution_count": 3,
   "id": "57982b04-fb9b-461d-8a51-cd4ab6561994",
   "metadata": {
    "collapsed": true,
    "jupyter": {
     "outputs_hidden": true,
     "source_hidden": true
    },
    "tags": []
   },
   "outputs": [
    {
     "name": "stdout",
     "output_type": "stream",
     "text": [
      "['c:\\\\Users\\\\TimPr\\\\AppData\\\\Local\\\\Programs\\\\Python\\\\Python312\\\\python312.zip', 'c:\\\\Users\\\\TimPr\\\\AppData\\\\Local\\\\Programs\\\\Python\\\\Python312\\\\DLLs', 'c:\\\\Users\\\\TimPr\\\\AppData\\\\Local\\\\Programs\\\\Python\\\\Python312\\\\Lib', 'c:\\\\Users\\\\TimPr\\\\AppData\\\\Local\\\\Programs\\\\Python\\\\Python312', '', 'C:\\\\Users\\\\TimPr\\\\AppData\\\\Roaming\\\\Python\\\\Python312\\\\site-packages', 'C:\\\\Users\\\\TimPr\\\\AppData\\\\Roaming\\\\Python\\\\Python312\\\\site-packages\\\\win32', 'C:\\\\Users\\\\TimPr\\\\AppData\\\\Roaming\\\\Python\\\\Python312\\\\site-packages\\\\win32\\\\lib', 'C:\\\\Users\\\\TimPr\\\\AppData\\\\Roaming\\\\Python\\\\Python312\\\\site-packages\\\\Pythonwin', 'c:\\\\Users\\\\TimPr\\\\AppData\\\\Local\\\\Programs\\\\Python\\\\Python312\\\\Lib\\\\site-packages']\n"
     ]
    }
   ],
   "source": [
    "print(sys.path)"
   ]
  },
  {
   "cell_type": "markdown",
   "id": "5c6bddff-037e-4d70-a6f8-85d3e9cb2f66",
   "metadata": {
    "jupyter": {
     "source_hidden": true
    },
    "tags": []
   },
   "source": [
    "## Task: Let's Play"
   ]
  },
  {
   "cell_type": "markdown",
   "id": "cc24d1f9-5f05-4c5c-9c17-0fbad9b5329a",
   "metadata": {
    "jupyter": {
     "source_hidden": true
    },
    "tags": []
   },
   "source": [
    "Variables and output of results"
   ]
  },
  {
   "cell_type": "code",
   "execution_count": 4,
   "id": "b7c317f3-80f6-4d7d-a3ee-12d1062144db",
   "metadata": {
    "collapsed": true,
    "jupyter": {
     "outputs_hidden": true,
     "source_hidden": true
    },
    "tags": []
   },
   "outputs": [],
   "source": [
    "a=5\n",
    "b=3"
   ]
  },
  {
   "cell_type": "code",
   "execution_count": 5,
   "id": "cad82a8c-4c1d-46be-af81-ed5c4dd2ad9a",
   "metadata": {
    "collapsed": true,
    "jupyter": {
     "outputs_hidden": true,
     "source_hidden": true
    },
    "tags": []
   },
   "outputs": [
    {
     "name": "stdout",
     "output_type": "stream",
     "text": [
      "5\n"
     ]
    },
    {
     "data": {
      "text/plain": [
       "3"
      ]
     },
     "execution_count": 5,
     "metadata": {},
     "output_type": "execute_result"
    }
   ],
   "source": [
    "print(a)\n",
    "b # in jupyter, the output of the last line is printed"
   ]
  },
  {
   "cell_type": "code",
   "execution_count": 6,
   "id": "096897b0-4c1e-462c-963a-ceeeb50abe06",
   "metadata": {
    "collapsed": true,
    "jupyter": {
     "outputs_hidden": true,
     "source_hidden": true
    },
    "tags": []
   },
   "outputs": [
    {
     "data": {
      "text/plain": [
       "8"
      ]
     },
     "execution_count": 6,
     "metadata": {},
     "output_type": "execute_result"
    }
   ],
   "source": [
    "a+b"
   ]
  },
  {
   "cell_type": "code",
   "execution_count": 7,
   "id": "08084403-71f1-4e71-b3eb-78297880b163",
   "metadata": {
    "collapsed": true,
    "jupyter": {
     "outputs_hidden": true,
     "source_hidden": true
    },
    "tags": []
   },
   "outputs": [
    {
     "data": {
      "text/plain": [
       "8"
      ]
     },
     "execution_count": 7,
     "metadata": {},
     "output_type": "execute_result"
    }
   ],
   "source": [
    "c=a+b\n",
    "c"
   ]
  },
  {
   "cell_type": "markdown",
   "id": "c6082fbc-7bf3-40d7-8a81-ea74969c2b2b",
   "metadata": {
    "jupyter": {
     "source_hidden": true
    },
    "tags": []
   },
   "source": [
    "<div class=\"alert alert-block alert-danger\">\n",
    "<b>Warning:</b> Order of execution matters. \n",
    "    \n",
    "* When drafting a notebook, it can be helpfull to (re-)execute cells out of order. \n",
    "* However, especially when variables are assigned multiple times, this can be quite confusing. \n",
    "* Advice: Edit your notebook all you want. But make sure to rerun your notebooks before you hand them in.\n",
    "</div>\n"
   ]
  },
  {
   "cell_type": "code",
   "execution_count": null,
   "id": "537351e2-df72-402a-bc9b-4884372f8e81",
   "metadata": {
    "collapsed": true,
    "jupyter": {
     "outputs_hidden": true,
     "source_hidden": true
    },
    "tags": []
   },
   "outputs": [],
   "source": [
    "#d=a+e"
   ]
  },
  {
   "cell_type": "code",
   "execution_count": 8,
   "id": "e87726be-5598-457c-a4f9-cccb00d5fc97",
   "metadata": {
    "collapsed": true,
    "jupyter": {
     "outputs_hidden": true,
     "source_hidden": true
    }
   },
   "outputs": [],
   "source": [
    "e=1"
   ]
  },
  {
   "cell_type": "code",
   "execution_count": 9,
   "id": "9d884140-a697-4ea5-93d3-7fa283451f5c",
   "metadata": {
    "collapsed": true,
    "jupyter": {
     "outputs_hidden": true,
     "source_hidden": true
    },
    "tags": []
   },
   "outputs": [
    {
     "data": {
      "text/plain": [
       "6"
      ]
     },
     "execution_count": 9,
     "metadata": {},
     "output_type": "execute_result"
    }
   ],
   "source": [
    "d=a+e\n",
    "d"
   ]
  },
  {
   "cell_type": "markdown",
   "id": "52dd2646-2486-4b46-ada2-112504543cb5",
   "metadata": {
    "jupyter": {
     "source_hidden": true
    },
    "tags": []
   },
   "source": [
    "<div class=\"alert alert-block alert-info\">\n",
    "<b>Take Aways:</b> \n",
    "\n",
    "* Order matters (see above).\n",
    "* Notebooks are means to draft and execute code, to store documentation and to present and discuss results!\n",
    "* Results are stored with the notebooks. Thus you can send fully executed notebooks to colleagues and they will see your results.\n",
    "* Notebooks can (and should) be structured using Markdown Cells. Next to markdown you can make use of HTML tags to structure and highlight your document.\n",
    "</div>\n",
    "\n",
    "\n",
    "<div class=\"alert alert-block alert-success\">\n",
    "<b>Play with:</b> \n",
    "\n",
    "* Try different python commands.\n",
    "* Find other libraries to import and use commands in them.\n",
    "* Write your own function for example one that computes the sum of two numbers.\n",
    "</div>\n"
   ]
  },
  {
   "cell_type": "code",
   "execution_count": null,
   "id": "66e00a4a-cf61-4d94-9abf-264febd2754c",
   "metadata": {},
   "outputs": [],
   "source": []
  }
 ],
 "metadata": {
  "kernelspec": {
   "display_name": "Python 3",
   "language": "python",
   "name": "python3"
  },
  "language_info": {
   "codemirror_mode": {
    "name": "ipython",
    "version": 3
   },
   "file_extension": ".py",
   "mimetype": "text/x-python",
   "name": "python",
   "nbconvert_exporter": "python",
   "pygments_lexer": "ipython3",
   "version": "3.12.4"
  }
 },
 "nbformat": 4,
 "nbformat_minor": 5
}
