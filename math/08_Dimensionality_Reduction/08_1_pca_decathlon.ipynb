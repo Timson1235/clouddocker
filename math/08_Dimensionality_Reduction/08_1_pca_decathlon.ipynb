{
 "cells": [
  {
   "cell_type": "markdown",
   "id": "646dc00c-a544-4b5e-84af-cc940db8d47d",
   "metadata": {},
   "source": [
    "For this notebook install the library pca in your environment"
   ]
  },
  {
   "cell_type": "markdown",
   "id": "78b30f86-9d9b-4da5-9e43-45f8bdfbf501",
   "metadata": {
    "tags": []
   },
   "source": [
    "# PCA for Decathlon Athletes\n",
    "\n",
    "\n",
    "<div class=\"alert alert-block alert-success\">\n",
    "<b>Goals:</b> \n",
    "\n",
    "* Demonstrate PCA.\n",
    "* Show technical aspects.\n",
    "* Observe the mathematics.\n",
    "* See options for interpretation.\n",
    "* This notebook is a mix of technical demo and analysis and presentation of results.\n",
    "</div>\n",
    "<div class=\"alert alert-block alert-warning\">\n",
    "<b>Content:</b> In this notebook, we mix the demo of a usecase (decathlon) and discussion of mathematical properties of PCA. The latter is for a deeper understanding of the theory. In a real usecase for a customer, we would not discuss the math in such detail!\n",
    "</div>\n",
    "\n",
    "<div class=\"alert alert-block alert-info\">\n",
    "<b>Content:</b> In this notebook, we \n",
    "    \n",
    "* demonstrate the use of PCA,\n",
    "* observe some of the properties,\n",
    "* use resulting objects (matrices) to understand the transformation process.\n",
    "</div>\n",
    "\n"
   ]
  },
  {
   "cell_type": "code",
   "execution_count": null,
   "id": "67629d47-53b2-4eef-9b38-561a2c239ffe",
   "metadata": {
    "jupyter": {
     "source_hidden": true
    },
    "tags": []
   },
   "outputs": [],
   "source": [
    "import pandas as pd\n",
    "import matplotlib.pyplot as plt\n",
    "import numpy as np\n",
    "from sklearn.preprocessing import StandardScaler\n",
    "from sklearn.decomposition import PCA"
   ]
  },
  {
   "cell_type": "markdown",
   "id": "01dfce94-2f69-44d5-973f-2a4bff5840d5",
   "metadata": {
    "jupyter": {
     "source_hidden": true
    },
    "tags": []
   },
   "source": [
    "## Load the Data"
   ]
  },
  {
   "cell_type": "code",
   "execution_count": null,
   "id": "224b4945-e72b-4242-87a5-a1cdfa38fa38",
   "metadata": {
    "jupyter": {
     "source_hidden": true
    },
    "tags": []
   },
   "outputs": [],
   "source": [
    "df=pd.read_csv('data/decathlon_data.csv')\n",
    "print(df.shape)\n",
    "df"
   ]
  },
  {
   "cell_type": "markdown",
   "id": "6d6f8b45-cbdb-4962-bb6e-88a58964397d",
   "metadata": {
    "jupyter": {
     "source_hidden": true
    },
    "tags": []
   },
   "source": [
    "* athlete names can serve as index\n",
    "* use only features from the sports competition"
   ]
  },
  {
   "cell_type": "code",
   "execution_count": null,
   "id": "7963fdd6-0064-4ff3-a7f1-9eb9af9487c5",
   "metadata": {
    "jupyter": {
     "source_hidden": true
    },
    "tags": []
   },
   "outputs": [],
   "source": [
    "df=df.set_index('athlete')\n",
    "positions = df['position']\n",
    "df=df.drop(['country', 'position'], axis=1)\n",
    "df"
   ]
  },
  {
   "cell_type": "markdown",
   "id": "342180fe-44c8-4870-b291-14e998a4ef48",
   "metadata": {
    "jupyter": {
     "source_hidden": true
    },
    "tags": []
   },
   "source": [
    "## Scaling\n",
    "* Centering and Scaling are useful prerequisits for PCA"
   ]
  },
  {
   "cell_type": "code",
   "execution_count": null,
   "id": "3a1bec04-4c51-457b-a365-338f0822e50a",
   "metadata": {
    "jupyter": {
     "source_hidden": true
    },
    "tags": []
   },
   "outputs": [],
   "source": [
    "scaler = StandardScaler()\n",
    " \n",
    "df_sc = scaler.fit_transform(df)\n",
    "print(type(df_sc))\n",
    "df_sc = pd.DataFrame(df_sc, index=df.index, columns=df.columns)\n",
    "df_sc.round(2)"
   ]
  },
  {
   "cell_type": "markdown",
   "id": "45ddd1cd-be41-4aaa-a4b2-c9db36a99a46",
   "metadata": {
    "jupyter": {
     "source_hidden": true
    },
    "tags": []
   },
   "source": [
    "## Covariance Analysis of the Features"
   ]
  },
  {
   "cell_type": "code",
   "execution_count": null,
   "id": "57684084-9c97-484a-bed0-c04e99db3438",
   "metadata": {
    "jupyter": {
     "source_hidden": true
    },
    "tags": []
   },
   "outputs": [],
   "source": [
    "df_sc.cov().round(2)"
   ]
  },
  {
   "cell_type": "markdown",
   "id": "ea6bbf65-08a4-4bab-8298-d68eeb750767",
   "metadata": {
    "jupyter": {
     "source_hidden": true
    },
    "tags": []
   },
   "source": [
    "* We investigate 10-dimensional data\n",
    "* We observe non-zero covariance between all features \n",
    "* Conclusion: Features are correlated, there is a smaller intrisic dimension (smaller than 10)"
   ]
  },
  {
   "cell_type": "markdown",
   "id": "d801b54a-4049-4efe-984b-fb4af8207499",
   "metadata": {
    "jupyter": {
     "source_hidden": true
    },
    "tags": []
   },
   "source": [
    "### Principal Component Analysis"
   ]
  },
  {
   "cell_type": "code",
   "execution_count": null,
   "id": "81c63cbc-13f9-4298-9ce4-85b9f9ee4d19",
   "metadata": {
    "jupyter": {
     "source_hidden": true
    },
    "tags": []
   },
   "outputs": [],
   "source": [
    "pca=PCA() # we should rename this variable because below we are going to use a lib of the same name\n",
    "pca_transformed=pca.fit_transform(df_sc)\n",
    "df_pca=pd.DataFrame(pca_transformed, index=df.index)\n",
    "df_pca.round(2)"
   ]
  },
  {
   "cell_type": "code",
   "execution_count": null,
   "id": "960ee8e0-ad0b-4d4d-bf58-a8a7b838faf5",
   "metadata": {
    "jupyter": {
     "source_hidden": true
    }
   },
   "outputs": [],
   "source": [
    "pca.get_covariance()"
   ]
  },
  {
   "cell_type": "markdown",
   "id": "a6932302-9193-4d72-bcf9-42981c9f5761",
   "metadata": {
    "jupyter": {
     "source_hidden": true
    },
    "tags": []
   },
   "source": [
    "<div class=\"alert alert-block alert-warning\">\n",
    "<b>Observation:</b> The features are no longer interpretable in the context of the sports competitions.\n",
    "</div>"
   ]
  },
  {
   "cell_type": "code",
   "execution_count": null,
   "id": "b5a0b8bc-1517-435b-a6c3-20b105ac923e",
   "metadata": {
    "jupyter": {
     "source_hidden": true
    },
    "tags": []
   },
   "outputs": [],
   "source": [
    "df_pca.cov().round(2)"
   ]
  },
  {
   "cell_type": "markdown",
   "id": "b031edab-0951-4cf7-9456-410c481d0709",
   "metadata": {
    "jupyter": {
     "source_hidden": true
    },
    "tags": []
   },
   "source": [
    "<div class=\"alert alert-block alert-success\">\n",
    "<b>Observations:</b> \n",
    "\n",
    "* The transformed data shows no covariance, thus no correlation among different components\n",
    "* The components are ordered by their variance (highest to lowest, see main diagonal)\n",
    "    </div>\n"
   ]
  },
  {
   "cell_type": "markdown",
   "id": "a2a2375d-5e5b-41fa-9c98-9d6eab20dc98",
   "metadata": {
    "jupyter": {
     "source_hidden": true
    },
    "tags": []
   },
   "source": [
    "### Digression -- the Components of the Transformation.\n",
    "Let's take a look a the transformation matrix to understand the transformation process mathematically. "
   ]
  },
  {
   "cell_type": "code",
   "execution_count": null,
   "id": "65adf816-c7b0-453d-8cae-66ddc7d4bb25",
   "metadata": {
    "jupyter": {
     "source_hidden": true
    },
    "tags": []
   },
   "outputs": [],
   "source": [
    "np.round(pca.components_,2) # the transformation matrix"
   ]
  },
  {
   "cell_type": "code",
   "execution_count": null,
   "id": "2ef21cd7-b5c2-4062-8101-fdf1f2a480a5",
   "metadata": {
    "jupyter": {
     "source_hidden": true
    },
    "tags": []
   },
   "outputs": [],
   "source": [
    "X=df_sc.to_numpy() # our data as numpy array\n",
    "W = pca.components_\n",
    "manually_computed_trafo=np.transpose(np.matmul(W, np.transpose(X))) # this is the actual transformation (results are similar to df_pca)\n",
    "np.round(manually_computed_trafo,2)"
   ]
  },
  {
   "cell_type": "code",
   "execution_count": null,
   "id": "ef389c71-3ac6-4b44-a81c-5b97f4e1aabd",
   "metadata": {
    "jupyter": {
     "source_hidden": true
    },
    "tags": []
   },
   "outputs": [],
   "source": [
    "np.array_equal(\n",
    "    np.round(df_pca.to_numpy(),2),\n",
    "    np.round(manually_computed_trafo, 2)\n",
    ")"
   ]
  },
  {
   "cell_type": "markdown",
   "id": "884ba424-a495-4be0-82ff-dadacd8f4c9e",
   "metadata": {
    "jupyter": {
     "source_hidden": true
    },
    "tags": []
   },
   "source": [
    "# What have we won yet?\n",
    "* Our data still has 10 features, i.e. the dimensionality has not been reduced.\n",
    "* Idea: Use the principal components with the highest variance."
   ]
  },
  {
   "cell_type": "code",
   "execution_count": null,
   "id": "c4f197ca-5dfd-4c72-a782-ecfae3dda597",
   "metadata": {
    "jupyter": {
     "source_hidden": true
    },
    "tags": []
   },
   "outputs": [],
   "source": [
    "expl_var=pca.explained_variance_ratio_\n",
    "print(expl_var)\n",
    "plt.plot(expl_var, label='expl. var.')\n",
    "plt.plot(np.add.accumulate(expl_var), label='acc. expl. var.')\n",
    "plt.legend()\n",
    "print(np.add.accumulate(expl_var))"
   ]
  },
  {
   "cell_type": "markdown",
   "id": "c2aed07c-3658-460b-9b78-705c53192e74",
   "metadata": {
    "jupyter": {
     "source_hidden": true
    },
    "tags": []
   },
   "source": [
    "* The first 4 principal components account for over 80% of the variance\n",
    "* the first 2 already for 57% of the variance\n",
    "* Let's plot the data in a 2-D plot using only the first two components"
   ]
  },
  {
   "cell_type": "code",
   "execution_count": null,
   "id": "5d5effc8-110f-496d-81ce-3296c6225cf6",
   "metadata": {
    "jupyter": {
     "source_hidden": true
    },
    "tags": []
   },
   "outputs": [],
   "source": [
    "plt.scatter(df_pca.iloc[:,0],df_pca.iloc[:,1])\n",
    "for i in range(len(df_pca)):\n",
    "    plt.annotate(df_pca.index[i], (df_pca.iloc[i,0]+0.1, df_pca.iloc[i,1]+0.1))"
   ]
  },
  {
   "cell_type": "markdown",
   "id": "225e9293-4bab-4656-8cc8-6d257be3b43f",
   "metadata": {
    "jupyter": {
     "source_hidden": true
    },
    "tags": []
   },
   "source": [
    "### For Specific Tasks, there are Specific Libs"
   ]
  },
  {
   "cell_type": "code",
   "execution_count": null,
   "id": "15b66436-8f02-44df-b436-f662f0c5e9b3",
   "metadata": {
    "jupyter": {
     "source_hidden": true
    },
    "tags": []
   },
   "outputs": [],
   "source": [
    "from pca import pca"
   ]
  },
  {
   "cell_type": "code",
   "execution_count": null,
   "id": "9368a421-2a07-4b03-96fb-c3446188cafe",
   "metadata": {
    "jupyter": {
     "source_hidden": true
    },
    "tags": []
   },
   "outputs": [],
   "source": [
    "#model = pca(n_components=0.8)\n",
    "model = pca(n_components=4)\n",
    "\n",
    "# Fit transform\n",
    "results = model.fit_transform(df_sc)"
   ]
  },
  {
   "cell_type": "code",
   "execution_count": null,
   "id": "5f3748aa-bdc8-4e22-9255-e00d81d43c7d",
   "metadata": {
    "jupyter": {
     "source_hidden": true
    },
    "tags": []
   },
   "outputs": [],
   "source": [
    "# explained variance\n",
    "fig, ax = model.plot()"
   ]
  },
  {
   "cell_type": "code",
   "execution_count": null,
   "id": "2895589b-c8ff-4846-8c06-55b7d6f98e61",
   "metadata": {
    "jupyter": {
     "source_hidden": true
    },
    "tags": []
   },
   "outputs": [],
   "source": [
    "# Scatter first 2 PCs (2 and 3)\n",
    "fig, ax = model.scatter(legend=False)"
   ]
  },
  {
   "cell_type": "code",
   "execution_count": null,
   "id": "0a6c0c1c-7000-4001-8a55-1a85079dd9a0",
   "metadata": {
    "jupyter": {
     "source_hidden": true
    },
    "tags": []
   },
   "outputs": [],
   "source": [
    "# biplot with number of original features (plot data and loadings)\n",
    "fig, ax = model.biplot(n_feat=10, legend=False) #, PC=[2,3]) # use this to display compontens 3 and 4"
   ]
  },
  {
   "cell_type": "markdown",
   "id": "fccf93dd-d1bd-4658-8d74-b8677f37ae65",
   "metadata": {
    "jupyter": {
     "source_hidden": true
    },
    "tags": []
   },
   "source": [
    "* annotated are the highest (absolute value) loadings (the weight for the component a feature influences the most)\n",
    "* red arrows indicate features that are the ones most important for a particular component\n",
    "* angles between loading vectors indicate correlation: small angles -> high correlation, angles near 90 degrees -> low correlation\n",
    "* length of the vector indicates the strength of the feature with respect to the currently choosen components (e.g. highjump with 0.08 and 0.57 (long) vs. shotput with 0.18 and 0.11 (short)); vectors are scaled vor better readability"
   ]
  },
  {
   "cell_type": "code",
   "execution_count": null,
   "id": "6da80d6d-567b-44bf-8b05-a3084c262669",
   "metadata": {
    "jupyter": {
     "source_hidden": true
    },
    "tags": []
   },
   "outputs": [],
   "source": [
    "model.results['loadings'].round(2)"
   ]
  },
  {
   "cell_type": "code",
   "execution_count": null,
   "id": "67ad422f-614b-4e8a-9be0-ef05a294f115",
   "metadata": {
    "jupyter": {
     "source_hidden": true
    },
    "tags": []
   },
   "outputs": [],
   "source": [
    "model.results['PC']"
   ]
  },
  {
   "cell_type": "code",
   "execution_count": null,
   "id": "79e3e1b4-da60-4d59-a164-cc512b5e6d3c",
   "metadata": {
    "jupyter": {
     "source_hidden": true
    },
    "tags": []
   },
   "outputs": [],
   "source": [
    "model.results['explained_var']"
   ]
  },
  {
   "cell_type": "markdown",
   "id": "62b0c40a-0056-4087-986e-08b18a903a31",
   "metadata": {
    "jupyter": {
     "source_hidden": true
    },
    "tags": []
   },
   "source": [
    "## Clustering / Predictions ...\n",
    "* use the PCA-transformed dataset as input for further analyses (clustering, classification, regression, ...)\n",
    "* gain: \n",
    "    * lower dimensionality -> faster training\n",
    "    * un-correlated features -> fits assumptions of algorithms better\n",
    "* loss: \n",
    "    * interpretability (features are now mixed into the principal components)"
   ]
  },
  {
   "cell_type": "markdown",
   "id": "7b73be71-cf23-418e-942e-adcc67d0aad0",
   "metadata": {
    "jupyter": {
     "source_hidden": true
    },
    "tags": []
   },
   "source": [
    "<div class=\"alert alert-block alert-info\">\n",
    "<b>Take Aways:</b> \n",
    "\n",
    "* PCA uses a matrix multiplication to transform the data. This matrix is learned when fitting the data.\n",
    "* The resulting components are ordered by the amount of variance they explain.\n",
    "* Biplots show the connections between data and features.\n",
    "* In a preprocessing step, the data scientist selects a reasonable number of dimensions, e.g. by using all components that exceed a variance threshold individually or by using the first $k$ components such that their accumulated explained variance exceeds a reasonable threshold.\n",
    "</div>\n",
    "\n",
    "<div class=\"alert alert-block alert-warning\">\n",
    "<b>Note:</b>\n",
    "    \n",
    "* The features are no longer interpretable in the original context of the domain.\n",
    "* For example for clusterings on PCA-transformed data this means that the interpretation of the clustering should be conducted on the original data!\n",
    "</div>\n"
   ]
  },
  {
   "cell_type": "markdown",
   "id": "3c2b8f6e-ff27-487f-a561-59da7d712a43",
   "metadata": {
    "jupyter": {
     "source_hidden": true
    },
    "tags": []
   },
   "source": [
    "<div class=\"alert alert-block alert-success\">\n",
    "<b>Play with:</b> \n",
    "\n",
    "* Choose different numbers of components and plot the biplot.\n",
    "* Go through the biplot and find the respective components in the loadings.\n",
    "* Use PCA on the Iris dataset and observe the loadings.\n",
    "* Combine PCA and clustering by first transforming the data using PCA and then applying the clustering to the transformed data.\n",
    "</div>"
   ]
  },
  {
   "cell_type": "code",
   "execution_count": null,
   "id": "8dc7ee13-ed91-4a5a-b6f0-b01bd4ee2361",
   "metadata": {
    "jupyter": {
     "source_hidden": true
    }
   },
   "outputs": [],
   "source": []
  }
 ],
 "metadata": {
  "kernelspec": {
   "display_name": "envMMS24sose",
   "language": "python",
   "name": "envmms24sose"
  },
  "language_info": {
   "codemirror_mode": {
    "name": "ipython",
    "version": 3
   },
   "file_extension": ".py",
   "mimetype": "text/x-python",
   "name": "python",
   "nbconvert_exporter": "python",
   "pygments_lexer": "ipython3",
   "version": "3.12.2"
  },
  "widgets": {
   "application/vnd.jupyter.widget-state+json": {
    "state": {},
    "version_major": 2,
    "version_minor": 0
   }
  }
 },
 "nbformat": 4,
 "nbformat_minor": 5
}
