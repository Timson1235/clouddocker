{
 "cells": [
  {
   "cell_type": "markdown",
   "id": "3cc53f61-820b-4cc3-b6b6-15effd8e9c6d",
   "metadata": {},
   "source": [
    "## OPTICS"
   ]
  },
  {
   "cell_type": "markdown",
   "id": "fcf74867-d06d-4bb1-a6ce-969a8a03149c",
   "metadata": {},
   "source": [
    "\n",
    "<div class=\"alert alert-block alert-success\">\n",
    "<b>Goals:</b> \n",
    "\n",
    "* Observe various density-based notions and their computations.\n",
    "* This is a purely technical notebook for demo purposes.\n",
    "</div>\n",
    "\n",
    "\n",
    "<div class=\"alert alert-block alert-info\">\n",
    "<b>Content:</b> In this notebook, we investigate the various objects constructed by OPTICS.\n",
    "</div>\n",
    "\n",
    "This toy example is taken from the [OPTICS Documentation]()"
   ]
  },
  {
   "cell_type": "code",
   "execution_count": null,
   "id": "f056c278-082f-44ab-b964-aaa7d182a9a6",
   "metadata": {
    "jupyter": {
     "source_hidden": true
    },
    "tags": []
   },
   "outputs": [],
   "source": [
    "from sklearn.cluster import OPTICS\n",
    "import matplotlib.pyplot as plt\n",
    "import numpy as np"
   ]
  },
  {
   "cell_type": "markdown",
   "id": "ec331559-4ce9-4858-ba6f-e1ab1ca976a2",
   "metadata": {
    "jupyter": {
     "source_hidden": true
    },
    "tags": []
   },
   "source": [
    "## Toy Example"
   ]
  },
  {
   "cell_type": "code",
   "execution_count": null,
   "id": "c691f8ed-0e37-4ecd-84b6-4a3a2ae26019",
   "metadata": {
    "jupyter": {
     "source_hidden": true
    },
    "tags": []
   },
   "outputs": [],
   "source": [
    "X = np.array([[1, 2], [2, 5], [3, 6],\n",
    "              [8, 7], [8, 8], [7, 3]])\n",
    "\n",
    "def plot_toy_example():\n",
    "    fig, ax = plt.subplots()\n",
    "    ax.scatter(X[:,0], X[:,1])\n",
    "\n",
    "    for i in range(6):\n",
    "        ax.annotate(i, (X[i,0]+0.1, X[i,1]+0.1))"
   ]
  },
  {
   "cell_type": "markdown",
   "id": "ea16d3e4-db28-4f7c-b483-aa4bb15f1e5f",
   "metadata": {
    "jupyter": {
     "source_hidden": true
    },
    "tags": []
   },
   "source": [
    "### First Experiment"
   ]
  },
  {
   "cell_type": "code",
   "execution_count": null,
   "id": "c42e4afa-9887-4add-8702-8a19ea51ec0a",
   "metadata": {
    "jupyter": {
     "source_hidden": true
    },
    "tags": []
   },
   "outputs": [],
   "source": [
    "plot_toy_example()"
   ]
  },
  {
   "cell_type": "code",
   "execution_count": null,
   "id": "4e8bd04d-27b2-4c1e-9eab-67bc48930709",
   "metadata": {
    "jupyter": {
     "source_hidden": true
    },
    "tags": []
   },
   "outputs": [],
   "source": [
    "clustering = OPTICS(min_samples=2, eps=10).fit(X)"
   ]
  },
  {
   "cell_type": "markdown",
   "id": "dac06f30-49e9-4a1f-bb5e-0366a352a664",
   "metadata": {
    "jupyter": {
     "source_hidden": true
    },
    "tags": []
   },
   "source": [
    "Let's look at the three components order, core distance and reachability distance:"
   ]
  },
  {
   "cell_type": "code",
   "execution_count": null,
   "id": "15a49a30-222d-4ba9-9bb5-33eaafc816ff",
   "metadata": {
    "jupyter": {
     "source_hidden": true
    },
    "tags": []
   },
   "outputs": [],
   "source": [
    "clustering.ordering_"
   ]
  },
  {
   "cell_type": "code",
   "execution_count": null,
   "id": "70c8f295-2985-47ea-bfa2-46bb2b720382",
   "metadata": {
    "jupyter": {
     "source_hidden": true
    },
    "tags": []
   },
   "outputs": [],
   "source": [
    "clustering.core_distances_[clustering.ordering_]"
   ]
  },
  {
   "cell_type": "markdown",
   "id": "95a51943-6573-4fcc-8eea-4b66f56c1fe3",
   "metadata": {
    "jupyter": {
     "source_hidden": true
    },
    "tags": []
   },
   "source": [
    "* 0 is a core point if 1 is within the neighborhood, therefore the distance d(0,1)\n",
    "* 1 is a core point if 2 is within the neighborhood, therefore the distance d(1,2)\n",
    "* 2 is a core point if 1 is within the neighborhood, therefore the distance d(2,1)\n",
    "* 5 is a core point if 3 is within the neighborhood, therefore the distance d(5,3)\n",
    "* 3 is a core point if 4 is within the neighborhood, therefore the distance d(3,4)\n",
    "* 4 is a core point if 3 is within the neighborhood, therefore the distance d(4,3)\n"
   ]
  },
  {
   "cell_type": "code",
   "execution_count": null,
   "id": "e6bbfc13-69d2-446f-a849-745abee5d72c",
   "metadata": {
    "jupyter": {
     "source_hidden": true
    },
    "tags": []
   },
   "outputs": [],
   "source": [
    "clustering.reachability_[clustering.ordering_]"
   ]
  },
  {
   "cell_type": "markdown",
   "id": "7f2227e1-c50d-4b82-a218-59ed9b99efb1",
   "metadata": {
    "jupyter": {
     "source_hidden": true
    },
    "tags": []
   },
   "source": [
    "* 0 has no successor, therefore no reachability can be computed\n",
    "* 1 is reachable from 0 in d(0,1), in which case 0 is also a core point\n",
    "* 2 is reachable from 1 in d(1,2), in which case 1 is also a core point\n",
    "* 5 is reachable from 2 in d(2,5), in which case 2 is also a core point\n",
    "* 3 is reachable from 5 in d(5,3), in which case 5 is also a core point\n",
    "* 4 is reachable from 3 in d(3,4), in which case 3 is also a core point"
   ]
  },
  {
   "cell_type": "markdown",
   "id": "32951013-182e-4ecf-b0f4-64b7f4b4f117",
   "metadata": {
    "jupyter": {
     "source_hidden": true
    },
    "tags": []
   },
   "source": [
    "Optics creates its own clustering using the xi method."
   ]
  },
  {
   "cell_type": "code",
   "execution_count": null,
   "id": "7d22ec09-a7e0-4251-97c9-72da5c2db0ee",
   "metadata": {
    "jupyter": {
     "source_hidden": true
    },
    "tags": []
   },
   "outputs": [],
   "source": [
    "clustering.cluster_hierarchy_"
   ]
  },
  {
   "cell_type": "markdown",
   "id": "06416ec4-c9ed-4c56-9fb5-c480fbb46d6e",
   "metadata": {
    "jupyter": {
     "source_hidden": true
    },
    "tags": []
   },
   "source": [
    "This means the first cluster (with the lowest eps) is found as 0,1,2, then with higher eps, we find 5,3,4 and then 0,1,2,5,3,4. (Indexes are cluster order!)"
   ]
  },
  {
   "cell_type": "markdown",
   "id": "f374d156-f65d-4eda-b7c3-49f2f3b3d413",
   "metadata": {
    "jupyter": {
     "source_hidden": true
    },
    "tags": []
   },
   "source": [
    "## Second Experiment\n",
    "We use a different min_points, 3 instead of 2."
   ]
  },
  {
   "cell_type": "code",
   "execution_count": null,
   "id": "ade02fcb-63fc-4cf9-b65f-941ad9c1a5ba",
   "metadata": {
    "jupyter": {
     "source_hidden": true
    },
    "tags": []
   },
   "outputs": [],
   "source": [
    "plot_toy_example()"
   ]
  },
  {
   "cell_type": "code",
   "execution_count": null,
   "id": "576ad94f-7f1a-498b-84c2-d9b22f14ab44",
   "metadata": {
    "jupyter": {
     "source_hidden": true
    },
    "tags": []
   },
   "outputs": [],
   "source": [
    "clustering2 = OPTICS(min_samples=3, eps=10).fit(X) # before we had min_samples=2"
   ]
  },
  {
   "cell_type": "markdown",
   "id": "2ab77ea8-27c8-4bc6-9ea2-39ee24b7daee",
   "metadata": {
    "jupyter": {
     "source_hidden": true
    },
    "tags": []
   },
   "source": [
    "Let's look at the three components order, core distance and reachability distance:"
   ]
  },
  {
   "cell_type": "code",
   "execution_count": null,
   "id": "d5a0635c-b50a-4f69-806a-0d1746e5cd16",
   "metadata": {
    "jupyter": {
     "source_hidden": true
    },
    "tags": []
   },
   "outputs": [],
   "source": [
    "clustering2.ordering_"
   ]
  },
  {
   "cell_type": "code",
   "execution_count": null,
   "id": "b0becd24-4b2a-4ca8-87a4-d6efaeb0e81a",
   "metadata": {
    "jupyter": {
     "source_hidden": true
    },
    "tags": []
   },
   "outputs": [],
   "source": [
    "clustering2.core_distances_[clustering2.ordering_]"
   ]
  },
  {
   "cell_type": "markdown",
   "id": "9afb7de1-0927-48af-bfda-de302397ebae",
   "metadata": {
    "jupyter": {
     "source_hidden": true
    },
    "tags": []
   },
   "source": [
    "* 0 is a core point if 1 and 2 are within the neighborhood, therefore the distance d(0,2)\n",
    "* 1 is a core point if 0 and 2 are within the neighborhood, therefore the distance d(1,0)\n",
    "* 2 is a core point if 0 and 1 are within the neighborhood, therefore the distance d(2,0)\n",
    "* 5 is a core point if 2 and 3 are within the neighborhood, therefore the distance d(5,2)\n",
    "* 3 is a core point if 4 and 5 are within the neighborhood, therefore the distance d(3,5)\n",
    "* 4 is a core point if 3 and 5 are within the neighborhood, therefore the distance d(4,5)"
   ]
  },
  {
   "cell_type": "code",
   "execution_count": null,
   "id": "a8d52195-1f0d-42bf-8f7c-915b60d3a755",
   "metadata": {
    "jupyter": {
     "source_hidden": true
    },
    "tags": []
   },
   "outputs": [],
   "source": [
    "clustering2.reachability_[clustering2.ordering_]"
   ]
  },
  {
   "cell_type": "markdown",
   "id": "893b5ac9-879d-4784-b7e3-3e2e44042043",
   "metadata": {
    "jupyter": {
     "source_hidden": true
    },
    "tags": []
   },
   "source": [
    "* 0 has no successor, therefore no reachability can be computed\n",
    "* 1 is reachable from 0 in d(0,1) if 0 is also a core point -> core-dist(0)\n",
    "* 2 is reachable from 1 in d(1,2) if 1 is also a core point -> core-dist(1)\n",
    "* 5 is reachable from 2 in d(2,5) in which case 2 is also a core point\n",
    "* 3 is reachable from 5 in d(5,3) if 5 is also a core point -> core-dist(5)\n",
    "* 4 is reachable from 3 in d(3,4) if 3 is also a core point -> core-dist(3)"
   ]
  },
  {
   "cell_type": "code",
   "execution_count": null,
   "id": "e054a200-0808-454d-8519-a066431fb2a3",
   "metadata": {
    "jupyter": {
     "source_hidden": true
    },
    "tags": []
   },
   "outputs": [],
   "source": [
    "clustering2.cluster_hierarchy_"
   ]
  },
  {
   "cell_type": "markdown",
   "id": "2e19eb1e-ece4-4692-8109-47575b29d093",
   "metadata": {
    "jupyter": {
     "source_hidden": true
    },
    "tags": []
   },
   "source": [
    "This means the first cluster (with the lowest eps) is found as 0,1,2, then with higher eps 0,1,2,5,3,4. (Indexes are cluster order!)"
   ]
  },
  {
   "cell_type": "markdown",
   "id": "07efe0ed-345a-4d7c-b33c-4200375b3e92",
   "metadata": {
    "jupyter": {
     "source_hidden": true
    },
    "tags": []
   },
   "source": [
    "<div class=\"alert alert-block alert-info\">\n",
    "<b>Take-Aways:</b>    \n",
    "\n",
    "* Understand reachability and OPTICS ordering\n",
    "</div>"
   ]
  },
  {
   "cell_type": "markdown",
   "id": "4e7b9382-261a-4fb7-bf12-80c9056c0b68",
   "metadata": {
    "jupyter": {
     "source_hidden": true
    },
    "tags": []
   },
   "source": [
    "\n",
    "<div class=\"alert alert-block alert-success\">\n",
    "<b>Play with:</b> \n",
    "\n",
    "* Create your own couple of points and try to follow and explain the OPTICS results.\n",
    "</div>\n"
   ]
  },
  {
   "cell_type": "code",
   "execution_count": null,
   "id": "14c087f8-cf2f-4198-8c29-7b55dcaf8fd2",
   "metadata": {
    "jupyter": {
     "source_hidden": true
    }
   },
   "outputs": [],
   "source": []
  }
 ],
 "metadata": {
  "kernelspec": {
   "display_name": "envMMS24sose",
   "language": "python",
   "name": "envmms24sose"
  },
  "language_info": {
   "codemirror_mode": {
    "name": "ipython",
    "version": 3
   },
   "file_extension": ".py",
   "mimetype": "text/x-python",
   "name": "python",
   "nbconvert_exporter": "python",
   "pygments_lexer": "ipython3",
   "version": "3.12.2"
  }
 },
 "nbformat": 4,
 "nbformat_minor": 5
}
