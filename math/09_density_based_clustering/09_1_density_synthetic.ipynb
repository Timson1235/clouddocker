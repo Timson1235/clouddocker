{
 "cells": [
  {
   "cell_type": "markdown",
   "id": "fbaa2a19-a9ce-4dd8-b9f6-1ac8bbaa1544",
   "metadata": {},
   "source": [
    "# Density Based Clustering\n",
    "\n",
    "<div class=\"alert alert-block alert-success\">\n",
    "<b>Goals:</b> \n",
    "\n",
    "* Learn technical aspects applying DBSCAN.\n",
    "* Compare to k-means clustering and explore the difference in approach.\n",
    "* This is a rather technical notebook, ignoring cluster interpretation etc.\n",
    "</div>\n",
    "\n",
    "<div class=\"alert alert-block alert-info\">\n",
    "<b>Content:</b> In this notebook, we \n",
    "    \n",
    "* demonstrate the usage of density based clustering\n",
    "* try DBSCAN and adjust its parameters to see their influence\n",
    "* try OPTICS to produce a generally applicable visualization that allows us to determine clustering parameters\n",
    "</div>\n",
    "\n",
    "* Experiments are based on the \n",
    "    * [sklearn demo](https://scikit-learn.org/stable/auto_examples/cluster/plot_optics.html#sphx-glr-auto-examples-cluster-plot-optics-py) by  Authors: Shane Grigsby <refuge@rocktalus.com> and Adrin Jalali <adrin.jalali@gmail.com> under License BSD 3 clause, and \n",
    "    * [k-means demo](https://scikit-learn.org/stable/auto_examples/cluster/plot_kmeans_assumptions.html) by author: Author: Phil Roth <mr.phil.roth@gmail.com> under License BSD 3 clause\n",
    "* Parts of the code have been modified and extended to fit the context of the lecture\n",
    "\n"
   ]
  },
  {
   "cell_type": "code",
   "execution_count": null,
   "id": "208e21e9-ee70-4de0-912a-842ec0d61022",
   "metadata": {
    "jupyter": {
     "source_hidden": true
    },
    "tags": []
   },
   "outputs": [],
   "source": [
    "# Original Licence Remark (OPTICS)\n",
    "# Authors: Shane Grigsby <refuge@rocktalus.com>\n",
    "#          Adrin Jalali <adrin.jalali@gmail.com>\n",
    "# License: BSD 3 clause\n",
    "\n",
    "# Original Licence Remark (k-Means)\n",
    "# Author: Phil Roth <mr.phil.roth@gmail.com>\n",
    "# License: BSD 3 clause"
   ]
  },
  {
   "cell_type": "markdown",
   "id": "4bc9e842-0707-4fda-86a5-c50f8d1e6d29",
   "metadata": {
    "jupyter": {
     "source_hidden": true
    },
    "tags": []
   },
   "source": [
    "## Part I: DBSCAN"
   ]
  },
  {
   "cell_type": "markdown",
   "id": "360c1173-12e3-4e64-a09d-c8c2a822dfec",
   "metadata": {
    "jupyter": {
     "source_hidden": true
    },
    "tags": []
   },
   "source": [
    "### Generate sample data"
   ]
  },
  {
   "cell_type": "code",
   "execution_count": null,
   "id": "68ae9ced-7603-414b-a934-7a855e9635f9",
   "metadata": {
    "jupyter": {
     "source_hidden": true
    },
    "tags": []
   },
   "outputs": [],
   "source": [
    "import numpy as np\n",
    "import matplotlib.pyplot as plt\n",
    "\n",
    "np.random.seed(0)\n",
    "n_points_per_cluster = 250\n",
    "\n",
    "# create 6 clusters with varying density\n",
    "C1 = [-5, -2] + 0.8 * np.random.randn(n_points_per_cluster, 2)\n",
    "C2 = [4, -1] + 0.1 * np.random.randn(n_points_per_cluster, 2)\n",
    "C3 = [1, -2] + 0.2 * np.random.randn(n_points_per_cluster, 2)\n",
    "C4 = [-2, 3] + 0.3 * np.random.randn(n_points_per_cluster, 2)\n",
    "C5 = [3, -2] + 1.6 * np.random.randn(n_points_per_cluster, 2)\n",
    "C6 = [5, 6] + 2 * np.random.randn(n_points_per_cluster, 2)\n",
    "X = np.vstack((C1, C2, C3, C4, C5, C6))"
   ]
  },
  {
   "cell_type": "code",
   "execution_count": null,
   "id": "4e8c71b5-0559-4ccb-bca9-fa7c64e35b96",
   "metadata": {
    "jupyter": {
     "source_hidden": true
    },
    "tags": []
   },
   "outputs": [],
   "source": [
    "plt.scatter(X[:,0], X[:, 1], alpha=0.1)"
   ]
  },
  {
   "cell_type": "code",
   "execution_count": null,
   "id": "f9b3845a-73e4-46f0-82b3-b7b12d3c87f8",
   "metadata": {
    "jupyter": {
     "source_hidden": true
    },
    "tags": []
   },
   "outputs": [],
   "source": [
    "from sklearn.cluster import DBSCAN\n",
    "dbscan=DBSCAN(eps=1, min_samples=10, metric='euclidean', metric_params=None, algorithm='auto', leaf_size=30, p=None, n_jobs=3)\n",
    "dbscan_clusters=dbscan.fit_predict(X)\n",
    "print(np.unique(dbscan_clusters)) # -1 is the marker for noise instances"
   ]
  },
  {
   "cell_type": "code",
   "execution_count": null,
   "id": "230e8dfb-aa9b-47c0-9981-e18afc2500c6",
   "metadata": {
    "jupyter": {
     "source_hidden": true
    },
    "tags": []
   },
   "outputs": [],
   "source": [
    "colors=['darkorange', 'darkmagenta', 'dodgerblue', 'lightgreen']"
   ]
  },
  {
   "cell_type": "code",
   "execution_count": null,
   "id": "368e23a3-18ed-4566-8af0-9dbad3696f66",
   "metadata": {
    "jupyter": {
     "source_hidden": true
    },
    "tags": []
   },
   "outputs": [],
   "source": [
    "def plot_clusters(X, clusters):\n",
    "    for cluster in np.unique(clusters):\n",
    "        if (cluster!=-1):\n",
    "            X_cluster=X[clusters==cluster, :]\n",
    "            plt.scatter(X_cluster[:,0], X_cluster[:,1], c=colors[cluster])\n",
    "    X_noise=X[clusters==-1, :]\n",
    "    plt.scatter(X_noise[:,0], X_noise[:,1], c='black')\n"
   ]
  },
  {
   "cell_type": "code",
   "execution_count": null,
   "id": "d5b811aa-d18d-41f1-a769-0309cbeded28",
   "metadata": {
    "jupyter": {
     "source_hidden": true
    },
    "tags": []
   },
   "outputs": [],
   "source": [
    "plot_clusters(X,dbscan_clusters)"
   ]
  },
  {
   "cell_type": "code",
   "execution_count": null,
   "id": "7aeeff8c-ec2f-45c9-be44-152a6b3d7c23",
   "metadata": {
    "jupyter": {
     "source_hidden": true
    },
    "tags": []
   },
   "outputs": [],
   "source": [
    "from sklearn.cluster import KMeans\n",
    "kmeans=KMeans(4, n_init=10)\n",
    "kmeans_clusters=kmeans.fit_predict(X)\n",
    "plot_clusters(X,kmeans_clusters)"
   ]
  },
  {
   "cell_type": "markdown",
   "id": "743132bb-d1a3-44c9-a034-07d745fd53b4",
   "metadata": {
    "jupyter": {
     "source_hidden": true
    },
    "tags": []
   },
   "source": [
    "### Comparison\n",
    "* The clusters of k-Means and DBSCAN are roughly similar.\n",
    "* However, with k-Means, all instances are assigned to clusters, whereas DBSCAN separates data from noise.\n",
    "* For k-Means we had to specify $k$, for DBSCAN, we had to specify $\\epsilon$ and $\\text{MinPts}$.\n",
    "\n",
    "<div class=\"alert alert-block alert-info\">\n",
    "<b>Observation:</b>    \n",
    "For k-Means we specify the number of clusters, for DBSCAN, we specify properties of the clusters.\n",
    "</div>"
   ]
  },
  {
   "cell_type": "markdown",
   "id": "813c890b-6cc2-4108-8fb2-cb8d1f51daa8",
   "metadata": {
    "jupyter": {
     "source_hidden": true
    },
    "tags": []
   },
   "source": [
    "### Generate Anisotrophicly Shaped Clusters\n",
    "This was one of the examples, that k-means returned results that did not fit the intuition."
   ]
  },
  {
   "cell_type": "code",
   "execution_count": null,
   "id": "28b5397c-79f6-4640-9719-c462d5358f27",
   "metadata": {
    "jupyter": {
     "source_hidden": true
    },
    "tags": []
   },
   "outputs": [],
   "source": [
    "from sklearn.datasets import make_blobs\n",
    "n_samples = 1500\n",
    "random_state = 170\n",
    "X_plain, y = make_blobs(n_samples=n_samples, random_state=random_state)\n",
    "transformation = [[0.60834549, -0.63667341], [-0.40887718, 0.85253229]]\n",
    "X_aniso = np.dot(X_plain, transformation)\n",
    "plt.scatter(X_aniso[:,0], X_aniso[:,1])"
   ]
  },
  {
   "cell_type": "code",
   "execution_count": null,
   "id": "2c8d06d8-a5c3-4203-9d7b-38d52c5bee00",
   "metadata": {
    "jupyter": {
     "source_hidden": true
    },
    "tags": []
   },
   "outputs": [],
   "source": [
    "kmeans=KMeans(3, n_init=10)\n",
    "kmeans_clusters=kmeans.fit_predict(X_aniso)\n",
    "plot_clusters(X_aniso, kmeans_clusters)"
   ]
  },
  {
   "cell_type": "code",
   "execution_count": null,
   "id": "98e62ea8-d363-4897-b051-2f2ab89ea018",
   "metadata": {
    "jupyter": {
     "source_hidden": true
    },
    "tags": []
   },
   "outputs": [],
   "source": [
    "dbscan=DBSCAN(eps=.4, min_samples=10, metric='euclidean', metric_params=None, algorithm='auto', leaf_size=30, p=None, n_jobs=1)\n",
    "dbscan_clusters=dbscan.fit_predict(X_aniso)\n",
    "plot_clusters(X_aniso, dbscan_clusters)"
   ]
  },
  {
   "cell_type": "markdown",
   "id": "bf57d222-6aa0-420b-bb12-fb6a5d745585",
   "metadata": {
    "jupyter": {
     "source_hidden": true
    },
    "tags": []
   },
   "source": [
    "### The Influence of Parameters"
   ]
  },
  {
   "cell_type": "code",
   "execution_count": null,
   "id": "53415551-5353-43f2-9c36-3413466ded54",
   "metadata": {
    "jupyter": {
     "source_hidden": true
    },
    "tags": []
   },
   "outputs": [],
   "source": [
    "epsilons=(1, 0.4, 0.2)\n",
    "min_ptss=(1, 10, 20, 100)\n",
    "\n",
    "point_size=2\n",
    "\n",
    "epss, ptss = np.meshgrid(epsilons, min_ptss)\n",
    "_, axes = plt.subplots(nrows=len(min_ptss), ncols=len(epsilons), figsize=(18, 10))\n",
    "for ax, eps, min_pts in zip(axes.reshape(-1), epss.reshape(-1) , ptss.reshape(-1)):\n",
    "    ax.set_axis_off()\n",
    "    dbscan=DBSCAN(eps=eps, min_samples=min_pts, metric='euclidean', metric_params=None, algorithm='auto', leaf_size=30, p=None, n_jobs=1)\n",
    "    dbscan.fit_predict(X_aniso)\n",
    "    y_pred=dbscan.labels_\n",
    "    if (len(np.unique(y_pred))>len(colors)): \n",
    "        for i in np.unique(y_pred):\n",
    "            ax.scatter(X_aniso[y_pred==i, 0], X_aniso[y_pred==i, 1], s=point_size)\n",
    "        ax.scatter(X_aniso[y_pred==-1, 0], X_aniso[y_pred==-1, 1], c='black', s=point_size)\n",
    "\n",
    "        \n",
    "    else:\n",
    "        for i in np.unique(y_pred):\n",
    "            ax.scatter(X_aniso[y_pred==i, 0], X_aniso[y_pred==i, 1], c=colors[i], s=point_size)                \n",
    "    ax.set_title(r'$\\epsilon=$%.2f, minPts=%i' % (eps, min_pts))"
   ]
  },
  {
   "cell_type": "markdown",
   "id": "17b2a431-41d4-4e94-9a53-cfd14a68ca49",
   "metadata": {
    "jupyter": {
     "source_hidden": true
    },
    "tags": []
   },
   "source": [
    "<div class=\"alert alert-block alert-warning\">\n",
    "    How do we choose parameters without looking at data plots?\n",
    "</div>"
   ]
  },
  {
   "cell_type": "markdown",
   "id": "3cc53f61-820b-4cc3-b6b6-15effd8e9c6d",
   "metadata": {
    "jupyter": {
     "source_hidden": true
    },
    "tags": []
   },
   "source": [
    "## Part II: OPTICS\n",
    "Let's go back to the original example:"
   ]
  },
  {
   "cell_type": "code",
   "execution_count": null,
   "id": "f9447c5d-a0d4-42d1-b461-e19efdf1421b",
   "metadata": {
    "jupyter": {
     "source_hidden": true
    },
    "tags": []
   },
   "outputs": [],
   "source": [
    "from sklearn.cluster import OPTICS, cluster_optics_dbscan\n",
    "import matplotlib.gridspec as gridspec"
   ]
  },
  {
   "cell_type": "code",
   "execution_count": null,
   "id": "41552fd7-a84d-4c1c-aa28-d1944d8ae217",
   "metadata": {
    "jupyter": {
     "source_hidden": true
    },
    "tags": []
   },
   "outputs": [],
   "source": [
    "plt.scatter(X[:,0], X[:, 1], alpha=0.1)"
   ]
  },
  {
   "cell_type": "code",
   "execution_count": null,
   "id": "19060e6a-3e0c-446f-87de-dfec0953452a",
   "metadata": {
    "jupyter": {
     "source_hidden": true
    },
    "tags": []
   },
   "outputs": [],
   "source": [
    "optics = OPTICS(min_samples=50, xi=0.05, min_cluster_size=0.05)\n",
    "optics.fit(X) # learn the optics diagram"
   ]
  },
  {
   "cell_type": "markdown",
   "id": "72a0249c-85b3-4bc7-b992-2156fc2d5468",
   "metadata": {
    "jupyter": {
     "source_hidden": true
    },
    "tags": []
   },
   "source": [
    "Let's create three different clusterings:\n",
    "* one with OPTICS's $\\xi$-method\n",
    "* two by extracting DBSCAN clusterings from the OPTICS diagram using vertical $\\epsilon$-cuts"
   ]
  },
  {
   "cell_type": "code",
   "execution_count": null,
   "id": "9b58c680-2eb9-497a-86d0-9403c0fc9f0a",
   "metadata": {
    "jupyter": {
     "source_hidden": true
    },
    "tags": []
   },
   "outputs": [],
   "source": [
    "labels_xi=optics.labels_\n",
    "\n",
    "labels_050 = cluster_optics_dbscan(\n",
    "    reachability=optics.reachability_,\n",
    "    core_distances=optics.core_distances_,\n",
    "    ordering=optics.ordering_,\n",
    "    eps=0.5,\n",
    ")\n",
    "labels_200 = cluster_optics_dbscan(\n",
    "    reachability=optics.reachability_,\n",
    "    core_distances=optics.core_distances_,\n",
    "    ordering=optics.ordering_,\n",
    "    eps=2,\n",
    ")"
   ]
  },
  {
   "cell_type": "code",
   "execution_count": null,
   "id": "557ad6d2-9765-42af-9608-722eff49a550",
   "metadata": {
    "jupyter": {
     "source_hidden": true
    },
    "tags": []
   },
   "outputs": [],
   "source": [
    "np.unique(labels_xi), np.unique(labels_050), np.unique(labels_200)"
   ]
  },
  {
   "cell_type": "markdown",
   "id": "dc68293f-bc54-4137-aa6f-06a455664f3c",
   "metadata": {
    "jupyter": {
     "source_hidden": true
    },
    "tags": []
   },
   "source": [
    "### Visualization and Relationship of the Clusterings\n",
    "* We visualize the OPTICS diagram and the clusters.\n",
    "* Note, that this visualization is __independent__ of the number of features in the dataset, thus always available!"
   ]
  },
  {
   "cell_type": "code",
   "execution_count": null,
   "id": "8a3d3a7d-6980-4fc1-9fde-a5f4a13e452c",
   "metadata": {
    "jupyter": {
     "source_hidden": true
    },
    "tags": []
   },
   "outputs": [],
   "source": [
    "space = np.arange(len(X))\n",
    "reachability = optics.reachability_[optics.ordering_]\n",
    "\n",
    "plt.figure(figsize=(10, 3.5))\n",
    "plt.scatter(space, reachability, alpha=0.3)"
   ]
  },
  {
   "cell_type": "code",
   "execution_count": null,
   "id": "1a7ed806-90e0-4971-ab87-ca3aa2a2769c",
   "metadata": {
    "jupyter": {
     "source_hidden": true
    },
    "tags": []
   },
   "outputs": [],
   "source": [
    "labels = labels_xi[optics.ordering_]\n",
    "\n",
    "plt.figure(figsize=(10, 7))\n",
    "G = gridspec.GridSpec(2, 3)\n",
    "ax1 = plt.subplot(G[0, :])\n",
    "ax2 = plt.subplot(G[1, 0])\n",
    "ax3 = plt.subplot(G[1, 1])\n",
    "ax4 = plt.subplot(G[1, 2])\n",
    "\n",
    "# Reachability plot\n",
    "colors = [\"g.\", \"r.\", \"b.\", \"y.\", \"c.\"]\n",
    "for klass, color in zip(range(0, 5), colors):\n",
    "    Xk = space[labels == klass]\n",
    "    Rk = reachability[labels == klass]\n",
    "    ax1.plot(Xk, Rk, color, alpha=0.3)\n",
    "ax1.plot(space[labels == -1], reachability[labels == -1], \"k.\", alpha=0.3)\n",
    "ax1.plot(space, np.full_like(space, 2.0, dtype=float), \"k-\", alpha=0.5)\n",
    "ax1.plot(space, np.full_like(space, 0.5, dtype=float), \"k-.\", alpha=0.5)\n",
    "ax1.set_ylabel(\"Reachability distance\")\n",
    "ax1.set_title(\"Reachability Diagram\")\n",
    "\n",
    "# OPTICS\n",
    "colors = [\"g.\", \"r.\", \"b.\", \"y.\", \"c.\"]\n",
    "for klass, color in zip(range(0, 5), colors):\n",
    "    Xk = X[optics.labels_ == klass]\n",
    "    ax2.plot(Xk[:, 0], Xk[:, 1], color, alpha=0.3)\n",
    "ax2.plot(X[labels_xi == -1, 0], X[labels_xi == -1, 1], \"k+\", alpha=0.1)\n",
    "ax2.set_title(r'OPTICS $\\xi$ Method')\n",
    "\n",
    "# DBSCAN at 0.5\n",
    "#colors = [\"g\", \"greenyellow\", \"olive\", \"r\", \"b\", \"c\"]\n",
    "colors = [\"g\", \"r\", \"b\", \"c\"]\n",
    "for klass, color in zip(range(0, 6), colors):\n",
    "    Xk = X[labels_050 == klass]\n",
    "    ax3.plot(Xk[:, 0], Xk[:, 1], color, alpha=0.3, marker=\".\")\n",
    "ax3.plot(X[labels_050 == -1, 0], X[labels_050 == -1, 1], \"k+\", alpha=0.1)\n",
    "ax3.set_title(\"Clustering at 0.5 epsilon cut\\nDBSCAN\")\n",
    "\n",
    "# DBSCAN at 2.\n",
    "colors = [\"g.\", \"m.\", \"y.\", \"c.\"]\n",
    "for klass, color in zip(range(0, 4), colors):\n",
    "    Xk = X[labels_200 == klass]\n",
    "    ax4.plot(Xk[:, 0], Xk[:, 1], color, alpha=0.3)\n",
    "ax4.plot(X[labels_200 == -1, 0], X[labels_200 == -1, 1], \"k+\", alpha=0.1)\n",
    "ax4.set_title(\"Clustering at 2.0 epsilon cut\\nDBSCAN\")\n",
    "\n",
    "plt.tight_layout()\n",
    "plt.show()"
   ]
  },
  {
   "cell_type": "markdown",
   "id": "35e72781-23ca-462a-a466-269e0c3f54cb",
   "metadata": {
    "jupyter": {
     "source_hidden": true
    },
    "tags": []
   },
   "source": [
    "<div class=\"alert alert-block alert-info\">\n",
    "<b>Take-Aways:</b>    \n",
    "\n",
    "* For density-based clustering, parameters $\\epsilon$ and MinPts specify what density means, thus the properties of clustering\n",
    "* Density-based clustering detects and excludes noise\n",
    "* It is non-trivial to choose \"good\" parameters. Often a visual analysis like above (12 visualizations of the data) is impossible due to the number of dimensions.\n",
    "* OPTICS can be used to visually aid with the parameter choice.\n",
    "* OPTICS produces a visualization that is applicable with every dataset.\n",
    "* DBSCAN clusterings with different $\\epsilon$ can be \"harvested\" from the OPTICS result.\n",
    "</div>"
   ]
  },
  {
   "cell_type": "markdown",
   "id": "8efacfd5-4e14-4f91-ac89-91507fe31f1c",
   "metadata": {
    "jupyter": {
     "source_hidden": true
    }
   },
   "source": [
    "<div class=\"alert alert-block alert-success\">\n",
    "<b>Play with:</b> \n",
    "\n",
    "* Play with different parameters, even extremely high and extremely low choices.\n",
    "* Create a three dimensional dataset. What happens with the visual exploration?\n",
    "* Use the IRIS dataset and cluster it using DBSCAN or OPTICS\n",
    "</div>"
   ]
  },
  {
   "cell_type": "code",
   "execution_count": null,
   "id": "61e478c8-d882-4fd4-87bb-345e02361552",
   "metadata": {
    "jupyter": {
     "source_hidden": true
    }
   },
   "outputs": [],
   "source": []
  }
 ],
 "metadata": {
  "kernelspec": {
   "display_name": "envMMS24sose",
   "language": "python",
   "name": "envmms24sose"
  },
  "language_info": {
   "codemirror_mode": {
    "name": "ipython",
    "version": 3
   },
   "file_extension": ".py",
   "mimetype": "text/x-python",
   "name": "python",
   "nbconvert_exporter": "python",
   "pygments_lexer": "ipython3",
   "version": "3.12.2"
  }
 },
 "nbformat": 4,
 "nbformat_minor": 5
}
