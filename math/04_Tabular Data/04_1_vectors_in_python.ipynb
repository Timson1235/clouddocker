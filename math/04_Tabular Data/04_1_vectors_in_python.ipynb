{
 "cells": [
  {
   "cell_type": "markdown",
   "id": "dc1a3165-243d-4c1b-b305-33c2199aa708",
   "metadata": {},
   "source": [
    "# Vectors in Python\n",
    "<div class=\"alert alert-block alert-success\">\n",
    "<b>Goals:</b> \n",
    "\n",
    "* Demonstrate an easy way to work with vectors in Python.\n",
    "</div>\n",
    "\n",
    "<div class=\"alert alert-block alert-info\">\n",
    "<b>Content:</b> In this notebook, we demonstrate creation of and operations with vectors and matrices using the numpy package!\n",
    "</div>"
   ]
  },
  {
   "cell_type": "code",
   "execution_count": 1,
   "id": "77abe475-c1f9-443d-a171-32aa12896d0b",
   "metadata": {
    "jupyter": {
     "source_hidden": true
    },
    "tags": []
   },
   "outputs": [],
   "source": [
    "import numpy as np"
   ]
  },
  {
   "cell_type": "markdown",
   "id": "2f0aabb2-666a-40a2-a456-b82bfb83b7fb",
   "metadata": {
    "jupyter": {
     "source_hidden": true
    },
    "tags": []
   },
   "source": [
    "## Vectors"
   ]
  },
  {
   "cell_type": "markdown",
   "id": "97feb283-c24e-4a69-86f6-251991b3987e",
   "metadata": {
    "jupyter": {
     "source_hidden": true
    },
    "tags": []
   },
   "source": [
    "Let's create some vectors in $\\mathbb{R}^3$"
   ]
  },
  {
   "cell_type": "code",
   "execution_count": 2,
   "id": "8c59d83f-6183-4a39-9395-bbc530636011",
   "metadata": {
    "jupyter": {
     "source_hidden": true
    },
    "tags": []
   },
   "outputs": [
    {
     "data": {
      "text/plain": [
       "(array([1, 2, 3]), array([2, 3, 4]))"
      ]
     },
     "execution_count": 2,
     "metadata": {},
     "output_type": "execute_result"
    }
   ],
   "source": [
    "x=np.array([1,2,3])\n",
    "y=np.array([2,3,4])\n",
    "x,y"
   ]
  },
  {
   "cell_type": "code",
   "execution_count": 3,
   "id": "6dd99d61-25ba-4126-b765-f582dcd24451",
   "metadata": {
    "jupyter": {
     "source_hidden": true
    },
    "tags": []
   },
   "outputs": [
    {
     "data": {
      "text/plain": [
       "numpy.ndarray"
      ]
     },
     "execution_count": 3,
     "metadata": {},
     "output_type": "execute_result"
    }
   ],
   "source": [
    "type(x)"
   ]
  },
  {
   "cell_type": "code",
   "execution_count": 4,
   "id": "6e650b48-a9a0-4ed2-88ef-1bcc07e9bf98",
   "metadata": {
    "jupyter": {
     "source_hidden": true
    },
    "tags": []
   },
   "outputs": [
    {
     "data": {
      "text/plain": [
       "array([3, 5, 7])"
      ]
     },
     "execution_count": 4,
     "metadata": {},
     "output_type": "execute_result"
    }
   ],
   "source": [
    "x+y"
   ]
  },
  {
   "cell_type": "code",
   "execution_count": 5,
   "id": "f4690a16-4156-4333-936b-4d2c7e9214d8",
   "metadata": {
    "jupyter": {
     "source_hidden": true
    },
    "tags": []
   },
   "outputs": [
    {
     "data": {
      "text/plain": [
       "array([3, 6, 9])"
      ]
     },
     "execution_count": 5,
     "metadata": {},
     "output_type": "execute_result"
    }
   ],
   "source": [
    "3*x"
   ]
  },
  {
   "cell_type": "markdown",
   "id": "e128ac44-a1c4-454b-a183-12f6239a32cd",
   "metadata": {
    "jupyter": {
     "source_hidden": true
    },
    "tags": []
   },
   "source": [
    "<div class=\"alert alert-block alert-warning\">\n",
    "<b>Warning:</b> The following is actually NOT a vector operation ...\n",
    "</div>\n"
   ]
  },
  {
   "cell_type": "code",
   "execution_count": 6,
   "id": "8a2154ea-923d-4986-98e9-598b9b7a2c52",
   "metadata": {
    "jupyter": {
     "source_hidden": true
    },
    "tags": []
   },
   "outputs": [
    {
     "data": {
      "text/plain": [
       "array([ 1,  8, 81])"
      ]
     },
     "execution_count": 6,
     "metadata": {},
     "output_type": "execute_result"
    }
   ],
   "source": [
    "x**y"
   ]
  },
  {
   "cell_type": "markdown",
   "id": "9646cf78-137d-4cc0-ac9f-ded05893759e",
   "metadata": {
    "jupyter": {
     "source_hidden": true
    },
    "tags": []
   },
   "source": [
    "... but works anyway! numpy is not just a strict vector library. "
   ]
  },
  {
   "cell_type": "markdown",
   "id": "3986a12d-c9ca-4f29-8a99-691b91774123",
   "metadata": {
    "jupyter": {
     "source_hidden": true
    },
    "tags": []
   },
   "source": [
    "## Matrixes"
   ]
  },
  {
   "cell_type": "markdown",
   "id": "c0bb3de4-7bb8-4bb6-b441-588cec47073d",
   "metadata": {
    "jupyter": {
     "source_hidden": true
    },
    "tags": []
   },
   "source": [
    "### Matrixes as Simple Arrays"
   ]
  },
  {
   "cell_type": "code",
   "execution_count": 7,
   "id": "f99a864f-80c5-4d20-99ce-d0c8eb1700b5",
   "metadata": {
    "jupyter": {
     "source_hidden": true
    },
    "tags": []
   },
   "outputs": [
    {
     "data": {
      "text/plain": [
       "(array([[1, 2, 3],\n",
       "        [4, 5, 6]]),\n",
       " array([[2, 3, 4],\n",
       "        [5, 6, 7]]))"
      ]
     },
     "execution_count": 7,
     "metadata": {},
     "output_type": "execute_result"
    }
   ],
   "source": [
    "A=np.array([[1,2,3],[4,5,6]])\n",
    "B=np.array([[2,3,4],[5,6,7]])\n",
    "A,B"
   ]
  },
  {
   "cell_type": "code",
   "execution_count": 8,
   "id": "51ef2fed-f1b0-4cb2-8b7b-9bb33cd1efd0",
   "metadata": {
    "jupyter": {
     "source_hidden": true
    },
    "tags": []
   },
   "outputs": [
    {
     "data": {
      "text/plain": [
       "array([[ 3,  5,  7],\n",
       "       [ 9, 11, 13]])"
      ]
     },
     "execution_count": 8,
     "metadata": {},
     "output_type": "execute_result"
    }
   ],
   "source": [
    "A+B"
   ]
  },
  {
   "cell_type": "code",
   "execution_count": 9,
   "id": "c7b152e6-9175-4add-bf58-d70dfb334114",
   "metadata": {
    "jupyter": {
     "source_hidden": true
    },
    "tags": []
   },
   "outputs": [
    {
     "data": {
      "text/plain": [
       "array([[ 3,  6,  9],\n",
       "       [12, 15, 18]])"
      ]
     },
     "execution_count": 9,
     "metadata": {},
     "output_type": "execute_result"
    }
   ],
   "source": [
    "3*A"
   ]
  },
  {
   "cell_type": "markdown",
   "id": "bf161eee-efb3-47e6-bbb1-ca05336daac9",
   "metadata": {
    "jupyter": {
     "source_hidden": true
    },
    "tags": []
   },
   "source": [
    "### Numpy also has its own matrix class"
   ]
  },
  {
   "cell_type": "code",
   "execution_count": 11,
   "id": "68a7b540-0dc2-42dc-bf23-1e07fd62bb16",
   "metadata": {
    "jupyter": {
     "source_hidden": true
    },
    "tags": []
   },
   "outputs": [
    {
     "data": {
      "text/plain": [
       "numpy.ndarray"
      ]
     },
     "execution_count": 11,
     "metadata": {},
     "output_type": "execute_result"
    }
   ],
   "source": [
    "M=np.matrix([[2,3],[4,5]])\n",
    "type(M)"
   ]
  },
  {
   "cell_type": "markdown",
   "id": "ad89a996-6522-441a-be6d-c5389872f62e",
   "metadata": {
    "jupyter": {
     "source_hidden": true
    },
    "tags": []
   },
   "source": [
    "matrix is a subclass of array"
   ]
  },
  {
   "cell_type": "code",
   "execution_count": 12,
   "id": "16fe545b-b515-4b1e-becf-34e7a20bcc73",
   "metadata": {
    "jupyter": {
     "source_hidden": true
    },
    "tags": []
   },
   "outputs": [
    {
     "data": {
      "text/plain": [
       "True"
      ]
     },
     "execution_count": 12,
     "metadata": {},
     "output_type": "execute_result"
    }
   ],
   "source": [
    "isinstance(M, type(np.array([1]))) "
   ]
  },
  {
   "cell_type": "markdown",
   "id": "d42ea769-b9bf-4d16-922a-5029f5e966cc",
   "metadata": {
    "jupyter": {
     "source_hidden": true
    },
    "tags": []
   },
   "source": [
    "<div class=\"alert alert-block alert-info\">\n",
    "<b>Take Aways:</b> \n",
    "\n",
    "* Vectors and Matrices can be created as arrays.\n",
    "* Numpy is offers many more operations than just vector space operations.  \n",
    "</div>\n",
    "\n",
    "<div class=\"alert alert-block alert-success\">\n",
    "<b>Play with:</b> \n",
    "\n",
    "* Create other vectors and compute sums and products.\n",
    "* Can you create 3-dimensional matrices?\n",
    "* Verify the results of the exercises.\n",
    "</div>\n"
   ]
  },
  {
   "cell_type": "code",
   "execution_count": 13,
   "id": "058656b1-1466-4548-98c8-e4dc10252a9a",
   "metadata": {
    "jupyter": {
     "source_hidden": true
    },
    "tags": []
   },
   "outputs": [
    {
     "data": {
      "image/png": "[encoded data removed]",
      "text/plain": [
       "<Figure size 640x480 with 1 Axes>"
      ]
     },
     "metadata": {},
     "output_type": "display_data"
    }
   ],
   "source": [
    "import matplotlib.pyplot as plt\n",
    "\n",
    "# Define vectors\n",
    "u = np.array([1, -2])\n",
    "v = np.array([3, 2])\n",
    "w = np.array([-1, 2])\n",
    "\n",
    "# Calculate the required vector operations\n",
    "u_plus_v = u + v\n",
    "u_plus_w = u + w\n",
    "scaled_u = 1.5 * u\n",
    "u_minus_v = u - v\n",
    "combination = 1.5 * u + 0.5 * w\n",
    "\n",
    "# Set up the plot\n",
    "fig, ax = plt.subplots()\n",
    "\n",
    "# Helper function to draw an arrow for a vector\n",
    "def draw_vector(vec, origin=[0, 0], color='blue', label=None):\n",
    "    ax.quiver(origin[0], origin[1], vec[0], vec[1], angles='xy', scale_units='xy', scale=1, color=color, label=label)\n",
    "\n",
    "# Draw vectors\n",
    "draw_vector(u, color='blue', label='u')\n",
    "draw_vector(v, color='green', label='v')\n",
    "draw_vector(w, color='red', label='w')\n",
    "draw_vector(u_plus_v, color='purple', label='u + v')\n",
    "draw_vector(u_plus_w, color='orange', label='u + w')\n",
    "draw_vector(scaled_u, color='cyan', label='1.5 * u')\n",
    "draw_vector(u_minus_v, color='pink', label='u - v')\n",
    "draw_vector(combination, color='yellow', label='1.5 * u + 0.5 * w')\n",
    "\n",
    "# Set plot limits and labels\n",
    "ax.set_xlim([-5, 5])\n",
    "ax.set_ylim([-5, 5])\n",
    "ax.set_aspect('equal')\n",
    "plt.grid(True)\n",
    "plt.axhline(0, color='black',linewidth=0.5)\n",
    "plt.axvline(0, color='black',linewidth=0.5)\n",
    "plt.legend()\n",
    "plt.title(\"Geometric Interpretation of Vectors\")\n",
    "plt.show()\n"
   ]
  },
  {
   "cell_type": "code",
   "execution_count": 14,
   "id": "8db2db5c",
   "metadata": {},
   "outputs": [
    {
     "name": "stdout",
     "output_type": "stream",
     "text": [
      "A + B =\n",
      " [[ 4.  7. 11.  7.]\n",
      " [ 7. 12.  4. 13.]\n",
      " [ 6.  6.  4.  5.]]\n",
      "\n",
      "2A + 3B =\n",
      " [[11.  19.  30.  16.5]\n",
      " [18.  29.  10.  30. ]\n",
      " [13.  13.  10.  13. ]]\n"
     ]
    }
   ],
   "source": [
    "# Define matrices A and B\n",
    "A = np.array([[1, 2, 3, 4.5],\n",
    "              [3, 7, 2, 9],\n",
    "              [5, 5, 2, 2]])\n",
    "\n",
    "B = np.array([[3, 5, 8, 2.5],\n",
    "              [4, 5, 2, 4],\n",
    "              [1, 1, 2, 3]])\n",
    "\n",
    "# Compute A + B\n",
    "A_plus_B = A + B\n",
    "\n",
    "# Compute 2A + 3B\n",
    "result = 2 * A + 3 * B\n",
    "\n",
    "# Print results\n",
    "print(\"A + B =\\n\", A_plus_B)\n",
    "print(\"\\n2A + 3B =\\n\", result)\n"
   ]
  }
 ],
 "metadata": {
  "kernelspec": {
   "display_name": "Python 3",
   "language": "python",
   "name": "python3"
  },
  "language_info": {
   "codemirror_mode": {
    "name": "ipython",
    "version": 3
   },
   "file_extension": ".py",
   "mimetype": "text/x-python",
   "name": "python",
   "nbconvert_exporter": "python",
   "pygments_lexer": "ipython3",
   "version": "3.12.4"
  }
 },
 "nbformat": 4,
 "nbformat_minor": 5
}
