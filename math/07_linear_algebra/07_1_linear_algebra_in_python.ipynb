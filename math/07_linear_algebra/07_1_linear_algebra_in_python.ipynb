{
 "cells": [
  {
   "cell_type": "markdown",
   "id": "dc1a3165-243d-4c1b-b305-33c2199aa708",
   "metadata": {},
   "source": [
    "# Linear Algebra in Python\n",
    "\n",
    "<div class=\"alert alert-block alert-success\">\n",
    "<b>Goals:</b> \n",
    "\n",
    "* Demonstrate practical applications of math notions in a series of toy examples.\n",
    "</div>\n",
    "\n",
    "\n",
    "\n",
    "<div class=\"alert alert-block alert-info\">\n",
    "<b>Content:</b> In this notebook, we demonstrate linear combinations of vectors and matrix operations!\n",
    "</div>"
   ]
  },
  {
   "cell_type": "code",
   "execution_count": 1,
   "id": "77abe475-c1f9-443d-a171-32aa12896d0b",
   "metadata": {
    "jupyter": {
     "source_hidden": true
    },
    "tags": []
   },
   "outputs": [],
   "source": [
    "import numpy as np"
   ]
  },
  {
   "cell_type": "markdown",
   "id": "3be4da80-1318-4c39-a08c-43b31ff3f0c0",
   "metadata": {
    "jupyter": {
     "source_hidden": true
    },
    "tags": []
   },
   "source": [
    "# Linear combinations"
   ]
  },
  {
   "cell_type": "code",
   "execution_count": 2,
   "id": "6aa62fa3-59d5-4f46-808b-4f89aa4186ad",
   "metadata": {
    "jupyter": {
     "source_hidden": true
    },
    "tags": []
   },
   "outputs": [],
   "source": [
    "v1=np.array([1,0,0])\n",
    "v2=np.array([0,1,0])\n",
    "v3=np.array([0,0,1])"
   ]
  },
  {
   "cell_type": "code",
   "execution_count": 3,
   "id": "0aa94567-75a3-4a37-abbd-0cc6df4c7528",
   "metadata": {
    "jupyter": {
     "source_hidden": true
    },
    "tags": []
   },
   "outputs": [
    {
     "data": {
      "text/plain": [
       "array([2, 3, 4])"
      ]
     },
     "execution_count": 3,
     "metadata": {},
     "output_type": "execute_result"
    }
   ],
   "source": [
    "lin_comb = 2*v1 + 3*v2 + 4*v3\n",
    "lin_comb"
   ]
  },
  {
   "cell_type": "markdown",
   "id": "560b67dc-5f87-43d9-8bd2-58d94467aa53",
   "metadata": {
    "jupyter": {
     "source_hidden": true
    },
    "tags": []
   },
   "source": [
    "<div class=\"alert alert-block alert-success\">\n",
    "<b>Observation:</b> Much in the same way, we can generate every vector in $\\mathbb{R}^3$!\n",
    "</div>\n"
   ]
  },
  {
   "cell_type": "markdown",
   "id": "7efc8701-c2bd-4b92-bebf-f58cfb52eb92",
   "metadata": {
    "jupyter": {
     "source_hidden": true
    },
    "tags": []
   },
   "source": [
    "# Matrix Multiplication"
   ]
  },
  {
   "cell_type": "code",
   "execution_count": 4,
   "id": "83f00c10-7d16-43ee-af25-521e113731c0",
   "metadata": {
    "jupyter": {
     "source_hidden": true
    },
    "tags": []
   },
   "outputs": [
    {
     "data": {
      "text/plain": [
       "(array([[1, 2, 3],\n",
       "        [4, 5, 6]]),\n",
       " array([[1, 2, 3],\n",
       "        [4, 5, 6]]),\n",
       " array([[ 1,  2,  3,  4],\n",
       "        [ 5,  6,  7,  8],\n",
       "        [ 9, 10, 11, 12]]))"
      ]
     },
     "execution_count": 4,
     "metadata": {},
     "output_type": "execute_result"
    }
   ],
   "source": [
    "A=np.array([[1,2,3],[4,5,6]])\n",
    "B=np.array([[1,2,3],[4,5,6]])\n",
    "C=np.array([[1, 2, 3, 4], [5, 6, 7, 8], [9, 10, 11, 12]])\n",
    "A,B,C"
   ]
  },
  {
   "cell_type": "markdown",
   "id": "ae667651-22fc-4e64-ae15-b5cd490a710c",
   "metadata": {
    "jupyter": {
     "source_hidden": true
    },
    "tags": []
   },
   "source": [
    "Which matrix multiplications are possible with two of the above?"
   ]
  },
  {
   "cell_type": "code",
   "execution_count": 5,
   "id": "b709dad7-451b-428f-9970-8e909c512d80",
   "metadata": {
    "jupyter": {
     "source_hidden": true
    },
    "tags": []
   },
   "outputs": [
    {
     "data": {
      "text/plain": [
       "array([[ 38,  44,  50,  56],\n",
       "       [ 83,  98, 113, 128]])"
      ]
     },
     "execution_count": 5,
     "metadata": {},
     "output_type": "execute_result"
    }
   ],
   "source": [
    "np.matmul(A,C)"
   ]
  },
  {
   "cell_type": "code",
   "execution_count": 6,
   "id": "92d4ff4e-42be-4eff-a65b-23c2a0cab699",
   "metadata": {
    "jupyter": {
     "source_hidden": true
    },
    "tags": []
   },
   "outputs": [
    {
     "data": {
      "text/plain": [
       "array([[ 38,  44,  50,  56],\n",
       "       [ 83,  98, 113, 128]])"
      ]
     },
     "execution_count": 6,
     "metadata": {},
     "output_type": "execute_result"
    }
   ],
   "source": [
    "np.matmul(B,C)"
   ]
  },
  {
   "cell_type": "code",
   "execution_count": 8,
   "id": "da221a6c-32e2-4757-a82e-480382a3072d",
   "metadata": {
    "jupyter": {
     "source_hidden": true
    },
    "tags": []
   },
   "outputs": [],
   "source": [
    "#np.matmul(A,B)\n",
    "#np.matmul(B,A)\n",
    "#np.matmul(C,A)\n",
    "#np.matmul(C,B)"
   ]
  },
  {
   "cell_type": "code",
   "execution_count": 9,
   "id": "8f18d520-ebca-40ba-8e47-6332ac700a42",
   "metadata": {
    "jupyter": {
     "source_hidden": true
    },
    "tags": []
   },
   "outputs": [
    {
     "data": {
      "text/plain": [
       "array([[1, 4],\n",
       "       [2, 5],\n",
       "       [3, 6]])"
      ]
     },
     "execution_count": 9,
     "metadata": {},
     "output_type": "execute_result"
    }
   ],
   "source": [
    "Bt=B.transpose()\n",
    "Bt"
   ]
  },
  {
   "cell_type": "code",
   "execution_count": 10,
   "id": "b8857367-3c07-4037-9ccc-66edf2f0c196",
   "metadata": {
    "jupyter": {
     "source_hidden": true
    },
    "tags": []
   },
   "outputs": [
    {
     "data": {
      "text/plain": [
       "array([[14, 32],\n",
       "       [32, 77]])"
      ]
     },
     "execution_count": 10,
     "metadata": {},
     "output_type": "execute_result"
    }
   ],
   "source": [
    "np.matmul(A,Bt)"
   ]
  },
  {
   "cell_type": "markdown",
   "id": "267c5e49-9295-4271-b950-65d5d210c2a0",
   "metadata": {
    "jupyter": {
     "source_hidden": true
    },
    "tags": []
   },
   "source": [
    "<div class=\"alert alert-block alert-warning\">\n",
    "<b>Warning:</b> Transposing a matrix yields a <b>different</b> matrix!\n",
    "    \n",
    "* $A\\cdot B^T$ is not the same as $A\\cdot B$.\n",
    "* Transposition must NOT be treated as a means to \"make the multiplication possible\".\n",
    "</div>\n"
   ]
  },
  {
   "cell_type": "markdown",
   "id": "7ecadb75-c988-4884-9b16-16e869f54746",
   "metadata": {
    "jupyter": {
     "source_hidden": true
    },
    "tags": []
   },
   "source": [
    "## Rank and Inverse of a Matrix"
   ]
  },
  {
   "cell_type": "code",
   "execution_count": 11,
   "id": "92a3c5e3-ae29-438b-a841-2f0a8f9dd45d",
   "metadata": {
    "jupyter": {
     "source_hidden": true
    },
    "tags": []
   },
   "outputs": [],
   "source": [
    "import numpy.linalg as la"
   ]
  },
  {
   "cell_type": "code",
   "execution_count": 12,
   "id": "20627c31-ad6e-442b-9e5e-3b5e612d719a",
   "metadata": {
    "jupyter": {
     "source_hidden": true
    },
    "tags": []
   },
   "outputs": [
    {
     "data": {
      "text/plain": [
       "array([[1, 2, 3],\n",
       "       [4, 5, 6]])"
      ]
     },
     "execution_count": 12,
     "metadata": {},
     "output_type": "execute_result"
    }
   ],
   "source": [
    "A"
   ]
  },
  {
   "cell_type": "code",
   "execution_count": 13,
   "id": "7c0bfa20-516c-4e8e-8254-3e32d135f26b",
   "metadata": {
    "jupyter": {
     "source_hidden": true
    },
    "tags": []
   },
   "outputs": [
    {
     "data": {
      "text/plain": [
       "2"
      ]
     },
     "execution_count": 13,
     "metadata": {},
     "output_type": "execute_result"
    }
   ],
   "source": [
    "la.matrix_rank(A)"
   ]
  },
  {
   "cell_type": "markdown",
   "id": "190fc54a-1595-46e2-9b30-292a05984a34",
   "metadata": {
    "jupyter": {
     "source_hidden": true
    },
    "tags": []
   },
   "source": [
    "The matrix has full rank."
   ]
  },
  {
   "cell_type": "code",
   "execution_count": 14,
   "id": "529a7f80-e9c4-424f-b9c6-2336b55909a5",
   "metadata": {
    "jupyter": {
     "source_hidden": true
    },
    "tags": []
   },
   "outputs": [
    {
     "ename": "LinAlgError",
     "evalue": "Last 2 dimensions of the array must be square",
     "output_type": "error",
     "traceback": [
      "\u001b[1;31m---------------------------------------------------------------------------\u001b[0m",
      "\u001b[1;31mLinAlgError\u001b[0m                               Traceback (most recent call last)",
      "Cell \u001b[1;32mIn[14], line 1\u001b[0m\n\u001b[1;32m----> 1\u001b[0m \u001b[43mla\u001b[49m\u001b[38;5;241;43m.\u001b[39;49m\u001b[43minv\u001b[49m\u001b[43m(\u001b[49m\u001b[43mA\u001b[49m\u001b[43m)\u001b[49m\n",
      "File \u001b[1;32mc:\\Users\\TimPr\\AppData\\Local\\Programs\\Python\\Python312\\Lib\\site-packages\\numpy\\linalg\\linalg.py:556\u001b[0m, in \u001b[0;36minv\u001b[1;34m(a)\u001b[0m\n\u001b[0;32m    554\u001b[0m a, wrap \u001b[38;5;241m=\u001b[39m _makearray(a)\n\u001b[0;32m    555\u001b[0m _assert_stacked_2d(a)\n\u001b[1;32m--> 556\u001b[0m \u001b[43m_assert_stacked_square\u001b[49m\u001b[43m(\u001b[49m\u001b[43ma\u001b[49m\u001b[43m)\u001b[49m\n\u001b[0;32m    557\u001b[0m t, result_t \u001b[38;5;241m=\u001b[39m _commonType(a)\n\u001b[0;32m    559\u001b[0m signature \u001b[38;5;241m=\u001b[39m \u001b[38;5;124m'\u001b[39m\u001b[38;5;124mD->D\u001b[39m\u001b[38;5;124m'\u001b[39m \u001b[38;5;28;01mif\u001b[39;00m isComplexType(t) \u001b[38;5;28;01melse\u001b[39;00m \u001b[38;5;124m'\u001b[39m\u001b[38;5;124md->d\u001b[39m\u001b[38;5;124m'\u001b[39m\n",
      "File \u001b[1;32mc:\\Users\\TimPr\\AppData\\Local\\Programs\\Python\\Python312\\Lib\\site-packages\\numpy\\linalg\\linalg.py:213\u001b[0m, in \u001b[0;36m_assert_stacked_square\u001b[1;34m(*arrays)\u001b[0m\n\u001b[0;32m    211\u001b[0m m, n \u001b[38;5;241m=\u001b[39m a\u001b[38;5;241m.\u001b[39mshape[\u001b[38;5;241m-\u001b[39m\u001b[38;5;241m2\u001b[39m:]\n\u001b[0;32m    212\u001b[0m \u001b[38;5;28;01mif\u001b[39;00m m \u001b[38;5;241m!=\u001b[39m n:\n\u001b[1;32m--> 213\u001b[0m     \u001b[38;5;28;01mraise\u001b[39;00m LinAlgError(\u001b[38;5;124m'\u001b[39m\u001b[38;5;124mLast 2 dimensions of the array must be square\u001b[39m\u001b[38;5;124m'\u001b[39m)\n",
      "\u001b[1;31mLinAlgError\u001b[0m: Last 2 dimensions of the array must be square"
     ]
    }
   ],
   "source": [
    "#la.inv(A)"
   ]
  },
  {
   "cell_type": "markdown",
   "id": "3e33378e-f3be-4a7a-a44e-67d6c0e6dcb3",
   "metadata": {
    "jupyter": {
     "source_hidden": true
    },
    "tags": []
   },
   "source": [
    "<div class=\"alert alert-block alert-warning\">\n",
    "<b>Warning:</b> One condition for the invertability of a matrix it that it must at least be square. \n",
    "</div>"
   ]
  },
  {
   "cell_type": "markdown",
   "id": "49c9c52e-aa72-4ea2-abf7-957576da4ed7",
   "metadata": {
    "jupyter": {
     "source_hidden": true
    },
    "tags": []
   },
   "source": [
    "### A Very Simple Example\n",
    "Let's use a square matrix with obviously independent rows."
   ]
  },
  {
   "cell_type": "code",
   "execution_count": 15,
   "id": "53ea04a8-a3c9-4925-b72b-e4d924d375c4",
   "metadata": {
    "jupyter": {
     "source_hidden": true
    },
    "tags": []
   },
   "outputs": [
    {
     "data": {
      "text/plain": [
       "2"
      ]
     },
     "execution_count": 15,
     "metadata": {},
     "output_type": "execute_result"
    }
   ],
   "source": [
    "M=np.array([[1,0],[0,1]])\n",
    "la.matrix_rank(M)"
   ]
  },
  {
   "cell_type": "code",
   "execution_count": 16,
   "id": "d1ccabd3-3fdb-405f-aad9-96d963e409cb",
   "metadata": {
    "jupyter": {
     "source_hidden": true
    },
    "tags": []
   },
   "outputs": [
    {
     "data": {
      "text/plain": [
       "array([[1., 0.],\n",
       "       [0., 1.]])"
      ]
     },
     "execution_count": 16,
     "metadata": {},
     "output_type": "execute_result"
    }
   ],
   "source": [
    "la.inv(M)"
   ]
  },
  {
   "cell_type": "markdown",
   "id": "e8454cf3-a725-4ae1-a0b2-b523a3f60de7",
   "metadata": {
    "jupyter": {
     "source_hidden": true
    },
    "tags": []
   },
   "source": [
    "### Another Simple example"
   ]
  },
  {
   "cell_type": "code",
   "execution_count": 17,
   "id": "829b08d9-30e0-4a2d-a0e2-028af16faf98",
   "metadata": {
    "jupyter": {
     "source_hidden": true
    },
    "tags": []
   },
   "outputs": [
    {
     "data": {
      "text/plain": [
       "2"
      ]
     },
     "execution_count": 17,
     "metadata": {},
     "output_type": "execute_result"
    }
   ],
   "source": [
    "M=np.array([[2,0],[0,2]])\n",
    "la.matrix_rank(M)"
   ]
  },
  {
   "cell_type": "code",
   "execution_count": 18,
   "id": "22301961-cd63-4464-8fda-ff6f110a6fc4",
   "metadata": {
    "jupyter": {
     "source_hidden": true
    },
    "tags": []
   },
   "outputs": [
    {
     "data": {
      "text/plain": [
       "array([[0.5, 0. ],\n",
       "       [0. , 0.5]])"
      ]
     },
     "execution_count": 18,
     "metadata": {},
     "output_type": "execute_result"
    }
   ],
   "source": [
    "Mi=np.linalg.inv(M)\n",
    "Mi"
   ]
  },
  {
   "cell_type": "markdown",
   "id": "5f6f7934-cf08-429a-aeab-2c1c7df09e26",
   "metadata": {
    "jupyter": {
     "source_hidden": true
    },
    "tags": []
   },
   "source": [
    "Verify the properties of the inverse:"
   ]
  },
  {
   "cell_type": "code",
   "execution_count": 19,
   "id": "beb41486-a45f-4d1d-bd36-0a36e4b6b154",
   "metadata": {
    "jupyter": {
     "source_hidden": true
    },
    "tags": []
   },
   "outputs": [
    {
     "data": {
      "text/plain": [
       "(array([[1., 0.],\n",
       "        [0., 1.]]),\n",
       " array([[1., 0.],\n",
       "        [0., 1.]]))"
      ]
     },
     "execution_count": 19,
     "metadata": {},
     "output_type": "execute_result"
    }
   ],
   "source": [
    "np.matmul(M, Mi), np.matmul(Mi,M)"
   ]
  },
  {
   "cell_type": "markdown",
   "id": "468ba48f-f3eb-41df-b294-93659a83401f",
   "metadata": {
    "jupyter": {
     "source_hidden": true
    },
    "tags": []
   },
   "source": [
    "### A Less Obvious Example"
   ]
  },
  {
   "cell_type": "code",
   "execution_count": 23,
   "id": "e61a57fc-7cb2-48e2-8576-c3d32244440c",
   "metadata": {
    "jupyter": {
     "source_hidden": true
    },
    "tags": []
   },
   "outputs": [
    {
     "data": {
      "text/plain": [
       "2"
      ]
     },
     "execution_count": 23,
     "metadata": {},
     "output_type": "execute_result"
    }
   ],
   "source": [
    "M=np.array([[2,7],[1,2]])\n",
    "la.matrix_rank(M)"
   ]
  },
  {
   "cell_type": "code",
   "execution_count": 24,
   "id": "1f1503ec-0818-4ef9-a181-5db2e821b3ff",
   "metadata": {
    "jupyter": {
     "source_hidden": true
    },
    "tags": []
   },
   "outputs": [
    {
     "data": {
      "text/plain": [
       "array([[-0.66666667,  2.33333333],\n",
       "       [ 0.33333333, -0.66666667]])"
      ]
     },
     "execution_count": 24,
     "metadata": {},
     "output_type": "execute_result"
    }
   ],
   "source": [
    "Mi=np.linalg.inv(M)\n",
    "Mi"
   ]
  },
  {
   "cell_type": "markdown",
   "id": "8a1b8430-141e-4102-8daa-c77a452f0a23",
   "metadata": {
    "jupyter": {
     "source_hidden": true
    },
    "tags": []
   },
   "source": [
    "Verify the properties of the inverse:"
   ]
  },
  {
   "cell_type": "code",
   "execution_count": 25,
   "id": "0581d7ac-f253-4447-9b9a-b6259d16625f",
   "metadata": {
    "jupyter": {
     "source_hidden": true
    },
    "tags": []
   },
   "outputs": [
    {
     "data": {
      "text/plain": [
       "(array([[ 1.00000000e+00, -3.33066907e-16],\n",
       "        [ 0.00000000e+00,  1.00000000e+00]]),\n",
       " array([[1., 0.],\n",
       "        [0., 1.]]))"
      ]
     },
     "execution_count": 25,
     "metadata": {},
     "output_type": "execute_result"
    }
   ],
   "source": [
    "np.matmul(M, Mi), np.matmul(Mi,M)"
   ]
  },
  {
   "cell_type": "markdown",
   "id": "fe3f8789-7858-4c20-9596-52c95ea6ccd3",
   "metadata": {
    "jupyter": {
     "source_hidden": true
    },
    "tags": []
   },
   "source": [
    "### A Singular Example"
   ]
  },
  {
   "cell_type": "code",
   "execution_count": 26,
   "id": "5d6380b4-3b96-48f0-83dc-ebf254a63b61",
   "metadata": {
    "jupyter": {
     "source_hidden": true
    },
    "tags": []
   },
   "outputs": [
    {
     "data": {
      "text/plain": [
       "1"
      ]
     },
     "execution_count": 26,
     "metadata": {},
     "output_type": "execute_result"
    }
   ],
   "source": [
    "M=np.array([[2,7],[1,3.5]])\n",
    "la.matrix_rank(M)"
   ]
  },
  {
   "cell_type": "code",
   "execution_count": null,
   "id": "9ad4ab43-0d6f-4c16-825d-950ae63e71be",
   "metadata": {
    "jupyter": {
     "source_hidden": true
    },
    "tags": []
   },
   "outputs": [],
   "source": [
    "#np.linalg.inv(M)"
   ]
  },
  {
   "cell_type": "markdown",
   "id": "42c112f1-913e-403d-b8a1-0679b345a232",
   "metadata": {
    "jupyter": {
     "source_hidden": true
    },
    "tags": []
   },
   "source": [
    "## Checking Linear Independence"
   ]
  },
  {
   "cell_type": "code",
   "execution_count": 27,
   "id": "47bec4f1-dd86-4743-8428-c51b759cdee2",
   "metadata": {
    "jupyter": {
     "source_hidden": true
    },
    "tags": []
   },
   "outputs": [],
   "source": [
    "a=np.array([1,1,2])\n",
    "b=np.array([3,7,2])\n",
    "c=np.array([2,10,-4])"
   ]
  },
  {
   "cell_type": "markdown",
   "id": "51649a7a-af22-4ee5-951b-388fffae6f99",
   "metadata": {
    "jupyter": {
     "source_hidden": true
    },
    "tags": []
   },
   "source": [
    "To check for independence, we have to solve the equation system $x\\cdot a + y\\cdot b + z\\cdot c = 0$.\n",
    "\n",
    "Equivalently, we can ceck whether the matrix with $a,b,c$ as rows has full rank."
   ]
  },
  {
   "cell_type": "code",
   "execution_count": 28,
   "id": "ebd6b974-53da-49f1-bb41-0b37bbd97861",
   "metadata": {
    "jupyter": {
     "source_hidden": true
    },
    "tags": []
   },
   "outputs": [
    {
     "data": {
      "text/plain": [
       "2"
      ]
     },
     "execution_count": 28,
     "metadata": {},
     "output_type": "execute_result"
    }
   ],
   "source": [
    "M=np.matrix([a,b,c])\n",
    "la.matrix_rank(M)"
   ]
  },
  {
   "cell_type": "markdown",
   "id": "d494349e-440f-486a-9c37-1dd1a55617f1",
   "metadata": {
    "jupyter": {
     "source_hidden": true
    },
    "tags": []
   },
   "source": [
    "Thus, the vectors are not linear independent!"
   ]
  },
  {
   "cell_type": "markdown",
   "id": "5063fe86-b75a-4458-a64c-8b0a67ccff33",
   "metadata": {
    "jupyter": {
     "source_hidden": true
    },
    "tags": []
   },
   "source": [
    "Indeed, we can express the zero vector with "
   ]
  },
  {
   "cell_type": "code",
   "execution_count": 29,
   "id": "b147b09a-fe6c-49d1-98ad-e05a0b2e178b",
   "metadata": {
    "jupyter": {
     "source_hidden": true
    },
    "tags": []
   },
   "outputs": [
    {
     "data": {
      "text/plain": [
       "array([0, 0, 0])"
      ]
     },
     "execution_count": 29,
     "metadata": {},
     "output_type": "execute_result"
    }
   ],
   "source": [
    "4*a-2*b +c"
   ]
  },
  {
   "cell_type": "markdown",
   "id": "154a2ef4-9299-4b3d-ac05-6de882826761",
   "metadata": {
    "jupyter": {
     "source_hidden": true
    },
    "tags": []
   },
   "source": [
    "This also means, that we can express at least one of the three vectors as linear combination of the others (in this particular case, it works for all three):"
   ]
  },
  {
   "cell_type": "code",
   "execution_count": 30,
   "id": "b320ae21-9859-4917-9274-5bd7cb508f09",
   "metadata": {
    "jupyter": {
     "source_hidden": true
    },
    "tags": []
   },
   "outputs": [
    {
     "data": {
      "text/plain": [
       "array([ True,  True,  True])"
      ]
     },
     "execution_count": 30,
     "metadata": {},
     "output_type": "execute_result"
    }
   ],
   "source": [
    "c==2*b-4*a"
   ]
  },
  {
   "cell_type": "markdown",
   "id": "15654a8f-3087-48f8-8670-a005f5bfb31a",
   "metadata": {
    "jupyter": {
     "source_hidden": true
    },
    "tags": []
   },
   "source": [
    "<div class=\"alert alert-block alert-info\">\n",
    "<b>Take Aways:</b> \n",
    "\n",
    "* Vector and Matrix operations are available through numpy (especially numpy.linalg).\n",
    "* Computing linear combinations is trivial.\n",
    "* Checking for linear independence is non-trivial. One way is using the matrix rank function in numpy.\n",
    "</div>\n",
    "\n",
    "\n",
    "\n",
    "<div class=\"alert alert-block alert-success\">\n",
    "<b>Play with:</b> \n",
    "\n",
    "* Create another set of vectors, e.g. with higher dimensionality and different numbers and check their linear independence.\n",
    "* Create deliberately linear dependen vectors.\n",
    "* Create random matrices and see if they are invertible.\n",
    "</div>\n"
   ]
  },
  {
   "cell_type": "code",
   "execution_count": null,
   "id": "36f7435c-fca5-4e74-9d79-174e92408839",
   "metadata": {
    "jupyter": {
     "source_hidden": true
    },
    "tags": []
   },
   "outputs": [],
   "source": []
  }
 ],
 "metadata": {
  "kernelspec": {
   "display_name": "Python 3",
   "language": "python",
   "name": "python3"
  },
  "language_info": {
   "codemirror_mode": {
    "name": "ipython",
    "version": 3
   },
   "file_extension": ".py",
   "mimetype": "text/x-python",
   "name": "python",
   "nbconvert_exporter": "python",
   "pygments_lexer": "ipython3",
   "version": "3.12.4"
  }
 },
 "nbformat": 4,
 "nbformat_minor": 5
}
