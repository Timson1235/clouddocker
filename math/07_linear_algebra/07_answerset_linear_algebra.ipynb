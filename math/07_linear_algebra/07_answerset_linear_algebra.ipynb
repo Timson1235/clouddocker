{
 "cells": [
  {
   "cell_type": "markdown",
   "metadata": {},
   "source": [
    "1. Write p1,2,3q as linear combination of vectors p1,0,0q,p0,1,0q,and p0,0,1q!"
   ]
  },
  {
   "cell_type": "code",
   "execution_count": 1,
   "metadata": {},
   "outputs": [],
   "source": [
    "import numpy as np"
   ]
  },
  {
   "cell_type": "code",
   "execution_count": 5,
   "metadata": {},
   "outputs": [
    {
     "data": {
      "text/plain": [
       "array([1, 2, 3])"
      ]
     },
     "execution_count": 5,
     "metadata": {},
     "output_type": "execute_result"
    }
   ],
   "source": [
    "x= np.array([1,0,0])\n",
    "y= np.array([0,1,0])\n",
    "z= np.array([0,0,1])\n",
    "\n",
    "f=1*x+2*y+3*z\n",
    "f"
   ]
  },
  {
   "cell_type": "markdown",
   "metadata": {},
   "source": [
    "2. Consider the set of three vectors 𝐴 “ t\n",
    " ̈\n",
    " ̋\n",
    "1\n",
    "0\n",
    "1\n",
    " ̨\n",
    "‚,\n",
    " ̈\n",
    " ̋\n",
    "2\n",
    "1\n",
    "1\n",
    " ̨\n",
    "‚,\n",
    " ̈\n",
    " ̋\n",
    "3\n",
    "1\n",
    "1\n",
    " ̨\n",
    "‚u. Express each of the vectors\n",
    " ̈\n",
    " ̋\n",
    "1\n",
    "0\n",
    "0\n",
    " ̨\n",
    "‚,\n",
    " ̈\n",
    " ̋\n",
    "0\n",
    "1\n",
    "0\n",
    " ̨\n",
    "‚,\n",
    " ̈\n",
    " ̋\n",
    "0\n",
    "0\n",
    "1\n",
    " ̨\n",
    "‚as linear combination of 𝐴!\n",
    "Verify your results in Python"
   ]
  },
  {
   "cell_type": "code",
   "execution_count": 12,
   "metadata": {},
   "outputs": [
    {
     "data": {
      "text/plain": [
       "(array([1, 0, 0]), array([0, 0, 1]), array([0, 1, 0]))"
      ]
     },
     "execution_count": 12,
     "metadata": {},
     "output_type": "execute_result"
    }
   ],
   "source": [
    "a1= np.array([1,0,1])\n",
    "a2= np.array([2,1,1])\n",
    "a3= np.array([3,1,1])\n",
    "\n",
    "v1= a3-a2\n",
    "v2= -1*a3+a2+a1\n",
    "v3= -1*a3-a1+2*a2\n",
    "\n",
    "v1,v2,v3"
   ]
  },
  {
   "cell_type": "markdown",
   "metadata": {},
   "source": [
    "Verify that the vectors\n",
    " ̈\n",
    " ̋\n",
    "1\n",
    "0\n",
    "1\n",
    " ̨\n",
    "‚,\n",
    " ̈\n",
    " ̋\n",
    "2\n",
    "1\n",
    "1\n",
    " ̨\n",
    "‚,\n",
    " ̈\n",
    " ̋\n",
    "3\n",
    "1\n",
    "1\n",
    " ̨\n",
    "‚form a base of the vector space R3!"
   ]
  },
  {
   "cell_type": "code",
   "execution_count": null,
   "metadata": {},
   "outputs": [],
   "source": [
    "A = np.array([[1, 2, 3], \n",
    "              [0, 1, 1], \n",
    "              [1, 1, 1]])\n",
    "\n",
    "# Define the target vectors\n",
    "b1 = np.array([0, 0, 0])\n",
    "b2 = np.array([0, 0, 0])\n",
    "b3 = np.array([0, 0, 0])\n",
    "\n",
    "# Solve for the coefficients\n",
    "coeffs_b1 = np.linalg.solve(A, b1)\n",
    "coeffs_b2 = np.linalg.solve(A, b2)\n",
    "coeffs_b3 = np.linalg.solve(A, b3)\n",
    "\n",
    "# Print the results\n",
    "print(\"Coefficients for [1, 0, 0]:\", coeffs_b1)\n",
    "print(\"Coefficients for [0, 1, 0]:\", coeffs_b2)\n",
    "print(\"Coefficients for [0, 0, 1]:\", coeffs_b3)"
   ]
  },
  {
   "cell_type": "code",
   "execution_count": 16,
   "metadata": {},
   "outputs": [
    {
     "data": {
      "text/plain": [
       "-1.0000000000000002"
      ]
     },
     "execution_count": 16,
     "metadata": {},
     "output_type": "execute_result"
    }
   ],
   "source": [
    "A = np.array([[1, 0, 1],\n",
    "              [2, 1, 1],\n",
    "              [3, 1, 1]])\n",
    "\n",
    "# Calculate the determinant\n",
    "det_A = np.linalg.det(A)\n",
    "\n",
    "det_A"
   ]
  },
  {
   "cell_type": "markdown",
   "metadata": {},
   "source": [
    "4. Compute the linear combinations 𝑟1p2,4,1,7q`𝑟2p3,2,1,6q`𝑟3p2,12,2,16q for\n",
    "• 𝑟1 “ 2,𝑟2 “ 3,𝑟3 “ 1\n",
    "• 𝑟1 “ 6,𝑟2 “ 1,𝑟3 “ 0\n",
    "• What do you observe?\n",
    "• Which conclusion can be drawn about linear (in)dependence of the three vectors?\n",
    "• Write 0as non-trivial linear combination of the three vectors."
   ]
  },
  {
   "cell_type": "code",
   "execution_count": 34,
   "metadata": {},
   "outputs": [
    {
     "data": {
      "text/plain": [
       "2"
      ]
     },
     "execution_count": 34,
     "metadata": {},
     "output_type": "execute_result"
    }
   ],
   "source": [
    "r1=np.array([2,4,1,7])\n",
    "r2=np.array([3,2,1,6])\n",
    "r3=np.array([2,12,2,16])\n",
    "\n",
    "a1= 2*r1+3*r2+1*r3\n",
    "a2= 6*r1+1*r2+0*r3\n",
    "\n",
    "a1,a2\n",
    "\n",
    "A= np.matrix([r1,r2,r3])\n",
    "la.matrix_rank(A)"
   ]
  },
  {
   "cell_type": "code",
   "execution_count": 30,
   "metadata": {},
   "outputs": [
    {
     "data": {
      "text/plain": [
       "matrix([[ 94, 106],\n",
       "        [ 49,  55],\n",
       "        [ 74,  72]])"
      ]
     },
     "execution_count": 30,
     "metadata": {},
     "output_type": "execute_result"
    }
   ],
   "source": [
    "A = np.matrix([[8, 6, 4], \n",
    "                [2, 3, 4], \n",
    "                [2, 2, 8]])\n",
    "\n",
    "B = np.matrix([[6, 5], \n",
    "                [3, 7], \n",
    "                [7, 6]])\n",
    "A.shape,B.shape\n",
    "\n",
    "C= np.matmul(A,B)\n",
    "\n",
    "C"
   ]
  },
  {
   "cell_type": "code",
   "execution_count": 32,
   "metadata": {},
   "outputs": [],
   "source": [
    "import numpy.linalg as la"
   ]
  },
  {
   "cell_type": "code",
   "execution_count": 37,
   "metadata": {},
   "outputs": [
    {
     "data": {
      "text/plain": [
       "(matrix([[1., 0., 0.],\n",
       "         [0., 1., 0.],\n",
       "         [0., 0., 1.]]),\n",
       " matrix([[1., 0., 0.],\n",
       "         [0., 1., 0.],\n",
       "         [0., 0., 1.]]))"
      ]
     },
     "execution_count": 37,
     "metadata": {},
     "output_type": "execute_result"
    }
   ],
   "source": [
    "D= np.matrix([[1,2,3],[0,1,1],[1,1,1]])\n",
    "E= la.inv(D)\n",
    "\n",
    "np.matmul(D,E), np.matmul(E,D)"
   ]
  },
  {
   "cell_type": "code",
   "execution_count": 48,
   "metadata": {},
   "outputs": [],
   "source": [
    "v=np.array([[1,2,3,4,5,1,2,3,4,5,1,2,3,4,5],\n",
    "[1,1,1,1,1,2,2,2,2,2,3,3,3,3,3]])"
   ]
  },
  {
   "cell_type": "code",
   "execution_count": 40,
   "metadata": {},
   "outputs": [],
   "source": [
    "import matplotlib.pyplot as plt\n"
   ]
  },
  {
   "cell_type": "code",
   "execution_count": 65,
   "metadata": {},
   "outputs": [],
   "source": [
    "a= np.pi\n",
    "A= ([[0,1],[1,0]])\n",
    "B= ([[0.3,0],[0,1]])\n",
    "C= ([[np.cos(a),-np.sin(a)],[np.sin(a),-np.cos(a)]])\n"
   ]
  },
  {
   "cell_type": "code",
   "execution_count": 66,
   "metadata": {},
   "outputs": [
    {
     "data": {
      "image/png": "[encoded data removed]",
      "text/plain": [
       "<Figure size 640x480 with 1 Axes>"
      ]
     },
     "metadata": {},
     "output_type": "display_data"
    }
   ],
   "source": [
    "# Multiply each point using matrix A\n",
    "transformed_points = A @ v\n",
    "transformed_points2 = B @ v\n",
    "transformed_points3 = C @ v\n",
    "\n",
    "# Plot the original points\n",
    "fig = plt.figure()\n",
    "ax = fig.add_subplot()\n",
    "ax.set_aspect('equal', adjustable='box')\n",
    "\n",
    "# Scatter plot for original points\n",
    "ax.scatter(v[0], v[1], color='blue', label='Original Points')\n",
    "\n",
    "# Scatter plot for transformed points\n",
    "ax.scatter(transformed_points[0], transformed_points[1], color='red', label='Transformed Points')\n",
    "\n",
    "# Scatter plot for transformed points2\n",
    "ax.scatter(transformed_points2[0], transformed_points2[1], color='purple', label='Transformed Points2')\n",
    "\n",
    "# Scatter plot for transformed points2\n",
    "ax.scatter(transformed_points3[0], transformed_points3[1], color='green', label='Transformed Points3')\n",
    "\n",
    "# Setting labels and title\n",
    "ax.set_xlabel('X-axis')\n",
    "ax.set_ylabel('Y-axis')\n",
    "ax.set_title('Original and Transformed Points in 2D Space')\n",
    "plt.grid(True)\n",
    "plt.xlim(-6, 6)\n",
    "plt.ylim(-6, 6)\n",
    "plt.xticks(np.arange(0, 7, 1))\n",
    "plt.yticks(np.arange(0, 5, 1))\n",
    "\n",
    "plt.legend()\n",
    "plt.show()"
   ]
  },
  {
   "cell_type": "code",
   "execution_count": 53,
   "metadata": {},
   "outputs": [
    {
     "data": {
      "image/png": "[encoded data removed]",
      "text/plain": [
       "<Figure size 640x480 with 1 Axes>"
      ]
     },
     "metadata": {},
     "output_type": "display_data"
    }
   ],
   "source": [
    "# Define the angles in radians\n",
    "angles = [np.pi/4, np.pi/2, 3*np.pi/4, np.pi]\n",
    "\n",
    "# Create the plot\n",
    "fig, ax = plt.subplots()\n",
    "ax.set_aspect('equal', adjustable='box')\n",
    "\n",
    "# Original points\n",
    "ax.scatter(v[0], v[1], color='blue', label='Original Points')\n",
    "\n",
    "# Apply transformation for each angle\n",
    "colors = ['green', 'orange', 'purple', 'red']\n",
    "for i, alpha in enumerate(angles):\n",
    "    A2 = np.array([[np.cos(alpha), -np.sin(alpha)],\n",
    "                   [np.sin(alpha), np.cos(alpha)]])\n",
    "    transformed_points_A2 = A2 @ v\n",
    "    ax.scatter(transformed_points_A2[0], transformed_points_A2[1], color=colors[i], label=f'Rotated Points (α={alpha:.2f})')\n",
    "\n",
    "# Setting labels and title\n",
    "ax.set_xlabel('X-axis')\n",
    "ax.set_ylabel('Y-axis')\n",
    "ax.set_title('Original and Rotated Points')\n",
    "plt.grid(True)\n",
    "\n",
    "# Plot limits\n",
    "plt.xlim(-2, 6)\n",
    "plt.ylim(-2, 4)\n",
    "plt.xticks(np.arange(-2, 7, 1))\n",
    "plt.yticks(np.arange(-2, 5, 1))\n",
    "\n",
    "plt.legend()\n",
    "plt.show()\n"
   ]
  }
 ],
 "metadata": {
  "kernelspec": {
   "display_name": "Python 3",
   "language": "python",
   "name": "python3"
  },
  "language_info": {
   "codemirror_mode": {
    "name": "ipython",
    "version": 3
   },
   "file_extension": ".py",
   "mimetype": "text/x-python",
   "name": "python",
   "nbconvert_exporter": "python",
   "pygments_lexer": "ipython3",
   "version": "3.12.4"
  }
 },
 "nbformat": 4,
 "nbformat_minor": 2
}
