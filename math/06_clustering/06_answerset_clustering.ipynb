{
 "cells": [
  {
   "cell_type": "markdown",
   "metadata": {},
   "source": [
    "Exercise 1. \n",
    "By clustering a dataset, we try to find groups of instances that the set is composed of. Often, these\n",
    "groups can reveal insights on the processes of how the data was created – processes that are hidden or\n",
    "unclear beforehand. Imagine the following (toy example) situation: In the dataset in the table below,\n",
    "instances are given with two features 𝑥 and 𝑦. The data is created by two processes (1 and 2). In\n",
    "a real setting, these processes would be unknown and the clustering algorithm is supposed to find\n",
    "appropriate groups. Consider the following dataset (at first without the actual process information).\n",
    "𝑥 3 3 4 4 5 6 7 7 8 9 1 2 2 3 4 5 5 6 7 7\n",
    "𝑦 1 2 2 3 3 4 4 6 5 7 3 4 5 6 6 7 8 8 8 9\n",
    "process 1 1 1 1 1 1 1 1 1 1 2 2 2 2 2 2 2 2 2 2\n",
    "1. Based only on the features, how many clusters would you expect?\n",
    "Hard to tell\n",
    "2. Knowing the generating processes, how many clusters do you expect?\n",
    "2\n",
    "3. What could be possible obstacles that might lead to clusterings that do not fit the processes?\n",
    "\n",
    "4. Cluster the dataset using 𝑘-means with 𝑘 “2, 3, 4.\n",
    "5. When clustering the data with 𝑘-means, which problems occur?\n",
    "6. Following your insight on 𝑘-means, what do expect regarding conclusions about the two\n",
    "processes?\n",
    "7. Based on the observations of 𝑘-means with 𝑘 “2, what would we recommend?"
   ]
  }
 ],
 "metadata": {
  "language_info": {
   "name": "python"
  }
 },
 "nbformat": 4,
 "nbformat_minor": 2
}
