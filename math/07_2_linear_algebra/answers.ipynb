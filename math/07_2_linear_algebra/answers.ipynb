{
 "cells": [
  {
   "cell_type": "code",
   "execution_count": 1,
   "id": "a3b47454",
   "metadata": {},
   "outputs": [],
   "source": [
    "import numpy as np"
   ]
  },
  {
   "cell_type": "code",
   "execution_count": 2,
   "id": "6516a571",
   "metadata": {},
   "outputs": [
    {
     "name": "stdout",
     "output_type": "stream",
     "text": [
      "(1,2,3) = 1(1,0,0) + 2(0,1,0) + 3(0,0,1)\n"
     ]
    }
   ],
   "source": [
    "# Define the vectors\n",
    "v = np.array([1, 2, 3])\n",
    "e1 = np.array([1, 0, 0])\n",
    "e2 = np.array([0, 1, 0])\n",
    "e3 = np.array([0, 0, 1])\n",
    "\n",
    "# In this case, the coefficients are simply the components of v\n",
    "print(f\"(1,2,3) = {v[0]}(1,0,0) + {v[1]}(0,1,0) + {v[2]}(0,0,1)\")"
   ]
  },
  {
   "cell_type": "code",
   "execution_count": 4,
   "id": "43e1ad65",
   "metadata": {},
   "outputs": [
    {
     "name": "stdout",
     "output_type": "stream",
     "text": [
      "A3-A2 = [1 0 0]\n",
      "2*A2-A1-A3 = [0 1 0]\n",
      "A1+A2-A3 = [0 0 1]\n"
     ]
    }
   ],
   "source": [
    "# Define set A\n",
    "A1 = np.array([1, 0, 1])\n",
    "A2 = np.array([2, 1, 1])\n",
    "A3 = np.array([3, 1, 1])\n",
    "\n",
    "# Calculate and print the required vectors\n",
    "print(\"A3-A2 =\", A3 - A2)\n",
    "print(\"2*A2-A1-A3 =\", 2*A2 - A1 - A3)\n",
    "print(\"A1+A2-A3 =\", A1 + A2 - A3)"
   ]
  },
  {
   "cell_type": "code",
   "execution_count": 12,
   "id": "7c532de2",
   "metadata": {},
   "outputs": [
    {
     "name": "stdout",
     "output_type": "stream",
     "text": [
      "r1 + 2r2 + 3r3 + 1 = [15 26  7 48]\n",
      "r1 + 6r2 + r3 = [15 26  7 48]\n",
      "r1 + 6r2 + r3 = [0 0 0 0]\n"
     ]
    }
   ],
   "source": [
    "r1 = np.array([2, 4, 1, 7])\n",
    "r2 = np.array([3, 2, 1, 6])\n",
    "r3 = np.array([2, 12, 2, 16])\n",
    "# First combination: r1 + 2r2 + 3r3 + 1\n",
    "comb1 = 2*r1 + 3*r2 + r3\n",
    "print(\"r1 + 2r2 + 3r3 + 1 =\", comb1)\n",
    "\n",
    "# Second combination: r1 + 6r2 + r3 + 0\n",
    "comb2 = 6*r1 + r2 + 0*r3\n",
    "print(\"r1 + 6r2 + r3 =\", comb2)\n",
    "\n",
    "# third combination: r1 + 6r2 + r3 + 0\n",
    "comb3 = 4*r1 + -2*r2 + -r3\n",
    "print(\"r1 + 6r2 + r3 =\", comb3)"
   ]
  },
  {
   "cell_type": "markdown",
   "id": "0d8282b3",
   "metadata": {},
   "source": [
    "# Exercise 2:\n",
    "\n",
    "transposing a matrix changes the rows to the columns and other way around"
   ]
  },
  {
   "cell_type": "code",
   "execution_count": 16,
   "id": "d4a5c16b",
   "metadata": {
    "vscode": {
     "languageId": "perl"
    }
   },
   "outputs": [
    {
     "data": {
      "text/plain": [
       "array([[33, 37],\n",
       "       [10, 13],\n",
       "       [16, 18]])"
      ]
     },
     "execution_count": 16,
     "metadata": {},
     "output_type": "execute_result"
    }
   ],
   "source": [
    "# Define matrices A and B\n",
    "A_new = np.array([[8, 6, 4],\n",
    "                  [2, 3, 4],\n",
    "                  [2, 2, 8]])\n",
    "\n",
    "B = np.array([[6, 5],\n",
    "              [3, 7],\n",
    "              [7, 6]])\n",
    "\n",
    "A@B\n",
    "#B@A  # Matrix multiplication of A and B in both orders"
   ]
  },
  {
   "cell_type": "code",
   "execution_count": null,
   "id": "8ffd8ccf",
   "metadata": {},
   "outputs": [],
   "source": [
    "M = np.array([[1, 2, 3],\n",
    "              [0, 1, 1],\n",
    "              [1, 1, 1]])\n",
    "\n",
    "\n"
   ]
  },
  {
   "cell_type": "code",
   "execution_count": null,
   "id": "e2c62778",
   "metadata": {
    "vscode": {
     "languageId": "perl"
    }
   },
   "outputs": [],
   "source": []
  },
  {
   "cell_type": "code",
   "execution_count": null,
   "id": "d2d2272f",
   "metadata": {
    "vscode": {
     "languageId": "perl"
    }
   },
   "outputs": [],
   "source": [
    "r"
   ]
  }
 ],
 "metadata": {
  "kernelspec": {
   "display_name": "MENV",
   "language": "python",
   "name": "python3"
  },
  "language_info": {
   "codemirror_mode": {
    "name": "ipython",
    "version": 3
   },
   "file_extension": ".py",
   "mimetype": "text/x-python",
   "name": "python",
   "nbconvert_exporter": "python",
   "pygments_lexer": "ipython3",
   "version": "3.10.0"
  }
 },
 "nbformat": 4,
 "nbformat_minor": 5
}
