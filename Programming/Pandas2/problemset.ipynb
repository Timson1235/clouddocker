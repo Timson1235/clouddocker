{
 "cells": [
  {
   "cell_type": "markdown",
   "metadata": {},
   "source": [
    "# General instructions\n",
    "-  In this problemset you will work on four datasets related to the titanic ship accident. Your task is to prepare and structure the data in a way that allows future analysis. The final dataset (it should be a single, tidy data set) may look similar to the one that we work with in previous lectures. \n",
    "- There may be multiple ways to link and clean up the data. Decide for yourself what makes sense and justify your choices.\n",
    "- If you want to better understand the meaning of certain information, then visit https://www.encyclopedia-titanica.org/. In particular, you may study the information on [passengers](https://www.encyclopedia-titanica.org/titanic-passenger-list/), [crew members](https://www.encyclopedia-titanica.org/titanic-crew-list/) and the description of [recovered bodies](https://www.encyclopedia-titanica.org/description-of-recovered-titanic-bodies.html#135).\n"
   ]
  },
  {
   "cell_type": "markdown",
   "metadata": {},
   "source": [
    "# Exercise 1"
   ]
  },
  {
   "cell_type": "markdown",
   "metadata": {},
   "source": [
    "Load the four data sets"
   ]
  },
  {
   "cell_type": "code",
   "execution_count": 106,
   "metadata": {},
   "outputs": [],
   "source": [
    "import pandas as pd"
   ]
  },
  {
   "cell_type": "code",
   "execution_count": 107,
   "metadata": {},
   "outputs": [],
   "source": [
    "bodies = pd.read_csv('bodies.csv', sep=';')\n",
    "crew = pd.read_csv('crew.csv', sep=',')\n",
    "outcomes = pd.read_csv('outcomes.csv', sep=',')\n",
    "passengers = pd.read_csv('passengers.csv', sep=',')\n"
   ]
  },
  {
   "cell_type": "markdown",
   "metadata": {},
   "source": [
    "Study important characteristics of the data (number of rows, column names, first rows, ...)"
   ]
  },
  {
   "cell_type": "code",
   "execution_count": 108,
   "metadata": {},
   "outputs": [
    {
     "name": "stdout",
     "output_type": "stream",
     "text": [
      "(330, 4)\n"
     ]
    },
    {
     "data": {
      "text/html": [
       "<div>\n",
       "<style scoped>\n",
       "    .dataframe tbody tr th:only-of-type {\n",
       "        vertical-align: middle;\n",
       "    }\n",
       "\n",
       "    .dataframe tbody tr th {\n",
       "        vertical-align: top;\n",
       "    }\n",
       "\n",
       "    .dataframe thead th {\n",
       "        text-align: right;\n",
       "    }\n",
       "</style>\n",
       "<table border=\"1\" class=\"dataframe\">\n",
       "  <thead>\n",
       "    <tr style=\"text-align: right;\">\n",
       "      <th></th>\n",
       "      <th>BODY_NO</th>\n",
       "      <th>GENDER</th>\n",
       "      <th>CLOTHING</th>\n",
       "      <th>ESTIMATED_AGE</th>\n",
       "    </tr>\n",
       "  </thead>\n",
       "  <tbody>\n",
       "    <tr>\n",
       "      <th>0</th>\n",
       "      <td>1</td>\n",
       "      <td>male</td>\n",
       "      <td>Overcoat, grey; one grey coat; one blue coat; ...</td>\n",
       "      <td>NaN</td>\n",
       "    </tr>\n",
       "    <tr>\n",
       "      <th>1</th>\n",
       "      <td>2</td>\n",
       "      <td>male</td>\n",
       "      <td>Brown tweed coat; white steward's jacket; brow...</td>\n",
       "      <td>24.0</td>\n",
       "    </tr>\n",
       "    <tr>\n",
       "      <th>2</th>\n",
       "      <td>3</td>\n",
       "      <td>female</td>\n",
       "      <td>Grey cloth jacket; red jersey jacket; blue alp...</td>\n",
       "      <td>40.0</td>\n",
       "    </tr>\n",
       "  </tbody>\n",
       "</table>\n",
       "</div>"
      ],
      "text/plain": [
       "   BODY_NO  GENDER                                           CLOTHING  \\\n",
       "0        1    male  Overcoat, grey; one grey coat; one blue coat; ...   \n",
       "1        2    male  Brown tweed coat; white steward's jacket; brow...   \n",
       "2        3  female  Grey cloth jacket; red jersey jacket; blue alp...   \n",
       "\n",
       "   ESTIMATED_AGE  \n",
       "0            NaN  \n",
       "1           24.0  \n",
       "2           40.0  "
      ]
     },
     "execution_count": 108,
     "metadata": {},
     "output_type": "execute_result"
    }
   ],
   "source": [
    "print(bodies.shape)\n",
    "bodies.head(3)"
   ]
  },
  {
   "cell_type": "code",
   "execution_count": 109,
   "metadata": {},
   "outputs": [
    {
     "name": "stdout",
     "output_type": "stream",
     "text": [
      "(1122, 13)\n"
     ]
    },
    {
     "data": {
      "text/html": [
       "<div>\n",
       "<style scoped>\n",
       "    .dataframe tbody tr th:only-of-type {\n",
       "        vertical-align: middle;\n",
       "    }\n",
       "\n",
       "    .dataframe tbody tr th {\n",
       "        vertical-align: top;\n",
       "    }\n",
       "\n",
       "    .dataframe thead th {\n",
       "        text-align: right;\n",
       "    }\n",
       "</style>\n",
       "<table border=\"1\" class=\"dataframe\">\n",
       "  <thead>\n",
       "    <tr style=\"text-align: right;\">\n",
       "      <th></th>\n",
       "      <th>person_id</th>\n",
       "      <th>first_name</th>\n",
       "      <th>family_name</th>\n",
       "      <th>departure</th>\n",
       "      <th>nationality</th>\n",
       "      <th>gender</th>\n",
       "      <th>age</th>\n",
       "      <th>marital_status</th>\n",
       "      <th>birth_date</th>\n",
       "      <th>home_location</th>\n",
       "      <th>occupation</th>\n",
       "      <th>department</th>\n",
       "      <th>works_for</th>\n",
       "    </tr>\n",
       "  </thead>\n",
       "  <tbody>\n",
       "    <tr>\n",
       "      <th>0</th>\n",
       "      <td>1420</td>\n",
       "      <td>Ernest Owen</td>\n",
       "      <td>Abbott</td>\n",
       "      <td>Southampton</td>\n",
       "      <td>English</td>\n",
       "      <td>Male</td>\n",
       "      <td>21 years</td>\n",
       "      <td>Single</td>\n",
       "      <td>1891-01-19</td>\n",
       "      <td>Southampton, Hampshire, England</td>\n",
       "      <td>Lounge Pantry Steward</td>\n",
       "      <td>Victualling Crew</td>\n",
       "      <td>White Star Line</td>\n",
       "    </tr>\n",
       "    <tr>\n",
       "      <th>1</th>\n",
       "      <td>1421</td>\n",
       "      <td>William Thomas</td>\n",
       "      <td>Abrams</td>\n",
       "      <td>Southampton</td>\n",
       "      <td>English</td>\n",
       "      <td>Male</td>\n",
       "      <td>34 years</td>\n",
       "      <td>Married</td>\n",
       "      <td>NaN</td>\n",
       "      <td>Southampton, Hampshire, England</td>\n",
       "      <td>Fireman</td>\n",
       "      <td>Engineering Crew</td>\n",
       "      <td>White Star Line</td>\n",
       "    </tr>\n",
       "    <tr>\n",
       "      <th>2</th>\n",
       "      <td>1422</td>\n",
       "      <td>Robert John</td>\n",
       "      <td>Adams</td>\n",
       "      <td>Southampton</td>\n",
       "      <td>English</td>\n",
       "      <td>Male</td>\n",
       "      <td>26 years</td>\n",
       "      <td>Single</td>\n",
       "      <td>1885-06-07</td>\n",
       "      <td>Southampton, Hampshire, England</td>\n",
       "      <td>Fireman</td>\n",
       "      <td>Engineering Crew</td>\n",
       "      <td>White Star Line</td>\n",
       "    </tr>\n",
       "  </tbody>\n",
       "</table>\n",
       "</div>"
      ],
      "text/plain": [
       "   person_id      first_name family_name    departure nationality gender  \\\n",
       "0       1420     Ernest Owen      Abbott  Southampton     English   Male   \n",
       "1       1421  William Thomas      Abrams  Southampton     English   Male   \n",
       "2       1422     Robert John       Adams  Southampton     English   Male   \n",
       "\n",
       "        age marital_status  birth_date                    home_location  \\\n",
       "0  21 years         Single  1891-01-19  Southampton, Hampshire, England   \n",
       "1  34 years        Married         NaN  Southampton, Hampshire, England   \n",
       "2  26 years         Single  1885-06-07  Southampton, Hampshire, England   \n",
       "\n",
       "              occupation        department        works_for  \n",
       "0  Lounge Pantry Steward  Victualling Crew  White Star Line  \n",
       "1                Fireman  Engineering Crew  White Star Line  \n",
       "2                Fireman  Engineering Crew  White Star Line  "
      ]
     },
     "execution_count": 109,
     "metadata": {},
     "output_type": "execute_result"
    }
   ],
   "source": [
    "print(crew.shape)\n",
    "crew.head(3)"
   ]
  },
  {
   "cell_type": "code",
   "execution_count": 110,
   "metadata": {},
   "outputs": [
    {
     "name": "stdout",
     "output_type": "stream",
     "text": [
      "(2541, 4)\n"
     ]
    },
    {
     "data": {
      "text/html": [
       "<div>\n",
       "<style scoped>\n",
       "    .dataframe tbody tr th:only-of-type {\n",
       "        vertical-align: middle;\n",
       "    }\n",
       "\n",
       "    .dataframe tbody tr th {\n",
       "        vertical-align: top;\n",
       "    }\n",
       "\n",
       "    .dataframe thead th {\n",
       "        text-align: right;\n",
       "    }\n",
       "</style>\n",
       "<table border=\"1\" class=\"dataframe\">\n",
       "  <thead>\n",
       "    <tr style=\"text-align: right;\">\n",
       "      <th></th>\n",
       "      <th>person_id</th>\n",
       "      <th>lifeboat</th>\n",
       "      <th>body_no</th>\n",
       "      <th>death_date</th>\n",
       "    </tr>\n",
       "  </thead>\n",
       "  <tbody>\n",
       "    <tr>\n",
       "      <th>0</th>\n",
       "      <td>1</td>\n",
       "      <td>NaN</td>\n",
       "      <td>NaN</td>\n",
       "      <td>1912-04-15</td>\n",
       "    </tr>\n",
       "    <tr>\n",
       "      <th>1</th>\n",
       "      <td>2</td>\n",
       "      <td>NaN</td>\n",
       "      <td>NaN</td>\n",
       "      <td>1912-04-15</td>\n",
       "    </tr>\n",
       "    <tr>\n",
       "      <th>2</th>\n",
       "      <td>3</td>\n",
       "      <td>boat A</td>\n",
       "      <td>NaN</td>\n",
       "      <td>1946-02-18</td>\n",
       "    </tr>\n",
       "    <tr>\n",
       "      <th>3</th>\n",
       "      <td>4</td>\n",
       "      <td>NaN</td>\n",
       "      <td>190.0</td>\n",
       "      <td>1912-04-15</td>\n",
       "    </tr>\n",
       "    <tr>\n",
       "      <th>4</th>\n",
       "      <td>5</td>\n",
       "      <td>boat 16</td>\n",
       "      <td>NaN</td>\n",
       "      <td>1969-07-27</td>\n",
       "    </tr>\n",
       "  </tbody>\n",
       "</table>\n",
       "</div>"
      ],
      "text/plain": [
       "   person_id lifeboat  body_no  death_date\n",
       "0          1      NaN      NaN  1912-04-15\n",
       "1          2      NaN      NaN  1912-04-15\n",
       "2          3   boat A      NaN  1946-02-18\n",
       "3          4      NaN    190.0  1912-04-15\n",
       "4          5  boat 16      NaN  1969-07-27"
      ]
     },
     "execution_count": 110,
     "metadata": {},
     "output_type": "execute_result"
    }
   ],
   "source": [
    "print(outcomes.shape)\n",
    "outcomes.head(5)"
   ]
  },
  {
   "cell_type": "code",
   "execution_count": 111,
   "metadata": {},
   "outputs": [
    {
     "name": "stdout",
     "output_type": "stream",
     "text": [
      "(1419, 16)\n"
     ]
    },
    {
     "data": {
      "text/html": [
       "<div>\n",
       "<style scoped>\n",
       "    .dataframe tbody tr th:only-of-type {\n",
       "        vertical-align: middle;\n",
       "    }\n",
       "\n",
       "    .dataframe tbody tr th {\n",
       "        vertical-align: top;\n",
       "    }\n",
       "\n",
       "    .dataframe thead th {\n",
       "        text-align: right;\n",
       "    }\n",
       "</style>\n",
       "<table border=\"1\" class=\"dataframe\">\n",
       "  <thead>\n",
       "    <tr style=\"text-align: right;\">\n",
       "      <th></th>\n",
       "      <th>person_id</th>\n",
       "      <th>first_name</th>\n",
       "      <th>family_name</th>\n",
       "      <th>ticket_number</th>\n",
       "      <th>pclass</th>\n",
       "      <th>departure</th>\n",
       "      <th>price</th>\n",
       "      <th>nationality</th>\n",
       "      <th>gender</th>\n",
       "      <th>age</th>\n",
       "      <th>marital_status</th>\n",
       "      <th>birth_date</th>\n",
       "      <th>home_location</th>\n",
       "      <th>destination</th>\n",
       "      <th>occupation</th>\n",
       "      <th>works_for</th>\n",
       "    </tr>\n",
       "  </thead>\n",
       "  <tbody>\n",
       "    <tr>\n",
       "      <th>0</th>\n",
       "      <td>1</td>\n",
       "      <td>Anthony</td>\n",
       "      <td>Abbing</td>\n",
       "      <td>5547.0</td>\n",
       "      <td>3rd Class Passengers</td>\n",
       "      <td>Southampton</td>\n",
       "      <td>7.0</td>\n",
       "      <td>American</td>\n",
       "      <td>Male</td>\n",
       "      <td>41 years</td>\n",
       "      <td>Single</td>\n",
       "      <td>1870-05-11</td>\n",
       "      <td>Cincinnati, Ohio, United States</td>\n",
       "      <td>Cincinnati, Ohio, United States</td>\n",
       "      <td>Blacksmith</td>\n",
       "      <td>NaN</td>\n",
       "    </tr>\n",
       "    <tr>\n",
       "      <th>1</th>\n",
       "      <td>2</td>\n",
       "      <td>Eugene Joseph</td>\n",
       "      <td>Abbott</td>\n",
       "      <td>2673.0</td>\n",
       "      <td>3rd Class Passengers</td>\n",
       "      <td>Southampton</td>\n",
       "      <td>20.0</td>\n",
       "      <td>American</td>\n",
       "      <td>Male</td>\n",
       "      <td>13 years</td>\n",
       "      <td>NaN</td>\n",
       "      <td>1899-03-31</td>\n",
       "      <td>East Providence, Rhode Island, United States</td>\n",
       "      <td>East Providence, Rhode Island, United States</td>\n",
       "      <td>Scholar</td>\n",
       "      <td>NaN</td>\n",
       "    </tr>\n",
       "    <tr>\n",
       "      <th>2</th>\n",
       "      <td>3</td>\n",
       "      <td>Rhoda</td>\n",
       "      <td>Abbott</td>\n",
       "      <td>2673.0</td>\n",
       "      <td>3rd Class Passengers</td>\n",
       "      <td>Southampton</td>\n",
       "      <td>20.0</td>\n",
       "      <td>English</td>\n",
       "      <td>Female</td>\n",
       "      <td>39 years</td>\n",
       "      <td>Divorced</td>\n",
       "      <td>1873-01-25</td>\n",
       "      <td>East Providence, Rhode Island, United States</td>\n",
       "      <td>East Providence, Rhode Island, United States</td>\n",
       "      <td>NaN</td>\n",
       "      <td>NaN</td>\n",
       "    </tr>\n",
       "  </tbody>\n",
       "</table>\n",
       "</div>"
      ],
      "text/plain": [
       "   person_id     first_name family_name  ticket_number                pclass  \\\n",
       "0          1        Anthony      Abbing         5547.0  3rd Class Passengers   \n",
       "1          2  Eugene Joseph      Abbott         2673.0  3rd Class Passengers   \n",
       "2          3          Rhoda      Abbott         2673.0  3rd Class Passengers   \n",
       "\n",
       "     departure  price nationality  gender       age marital_status  \\\n",
       "0  Southampton    7.0    American    Male  41 years         Single   \n",
       "1  Southampton   20.0    American    Male  13 years            NaN   \n",
       "2  Southampton   20.0     English  Female  39 years       Divorced   \n",
       "\n",
       "   birth_date                                 home_location  \\\n",
       "0  1870-05-11               Cincinnati, Ohio, United States   \n",
       "1  1899-03-31  East Providence, Rhode Island, United States   \n",
       "2  1873-01-25  East Providence, Rhode Island, United States   \n",
       "\n",
       "                                    destination  occupation works_for  \n",
       "0               Cincinnati, Ohio, United States  Blacksmith       NaN  \n",
       "1  East Providence, Rhode Island, United States     Scholar       NaN  \n",
       "2  East Providence, Rhode Island, United States         NaN       NaN  "
      ]
     },
     "execution_count": 111,
     "metadata": {},
     "output_type": "execute_result"
    }
   ],
   "source": [
    "print(passengers.shape)\n",
    "passengers.head(3)\n"
   ]
  },
  {
   "cell_type": "markdown",
   "metadata": {},
   "source": [
    "Briefly describe: (1) How are the four tables related with each other\n",
    "\n",
    "passengers and crew are the same df but for two different groups, bodies are the found dead bodies and the outcomes have the info about the persons death in them"
   ]
  },
  {
   "cell_type": "markdown",
   "metadata": {},
   "source": [
    "Briefly describe: Do you observe any potential problems or noteworthy characteristics that need further inspection/handling?\n",
    "a potential problem might be the amounts of NAs in all of the datasets and if or how to merge the datasets. the body_no has a lot of NAs in the bigger dfs because a lot of people didnt die in the water. body number is spelled differently\n"
   ]
  },
  {
   "cell_type": "code",
   "execution_count": null,
   "metadata": {},
   "outputs": [],
   "source": []
  },
  {
   "cell_type": "markdown",
   "metadata": {},
   "source": [
    "# Exercise 2"
   ]
  },
  {
   "cell_type": "markdown",
   "metadata": {},
   "source": [
    "Your task is to create a single, combined dataset suitable for data analysis. When developing your strategy, you may think about the following questions: \n",
    "- Should some datasets be merged (column-wise)? \n",
    "- If so, on which keys and using which merge types?\n",
    "- Should some datasets be concatenated (row-wise)?\n",
    "- Should some datasets be reshaped (pivoted or melted)?\n",
    "\n",
    "Implement you chosen strategy."
   ]
  },
  {
   "cell_type": "code",
   "execution_count": 112,
   "metadata": {},
   "outputs": [
    {
     "name": "stdout",
     "output_type": "stream",
     "text": [
      "(2541, 18)\n"
     ]
    },
    {
     "data": {
      "text/plain": [
       "Index(['person_id', 'first_name', 'family_name', 'ticket_number', 'pclass',\n",
       "       'departure', 'price', 'nationality', 'gender', 'age', 'marital_status',\n",
       "       'birth_date', 'home_location', 'destination', 'occupation', 'works_for',\n",
       "       'department', 'crew'],\n",
       "      dtype='object')"
      ]
     },
     "execution_count": 112,
     "metadata": {},
     "output_type": "execute_result"
    }
   ],
   "source": [
    "crew['crew'] = 1\n",
    "df = pd.concat([passengers, crew],axis = 0)\n",
    "print(df.shape)\n",
    "df.columns"
   ]
  },
  {
   "cell_type": "code",
   "execution_count": 113,
   "metadata": {},
   "outputs": [
    {
     "name": "stdout",
     "output_type": "stream",
     "text": [
      "(2541, 21)\n"
     ]
    },
    {
     "data": {
      "text/plain": [
       "Index(['person_id', 'first_name', 'family_name', 'ticket_number', 'pclass',\n",
       "       'departure', 'price', 'nationality', 'gender', 'age', 'marital_status',\n",
       "       'birth_date', 'home_location', 'destination', 'occupation', 'works_for',\n",
       "       'department', 'crew', 'lifeboat', 'body_no', 'death_date'],\n",
       "      dtype='object')"
      ]
     },
     "execution_count": 113,
     "metadata": {},
     "output_type": "execute_result"
    }
   ],
   "source": [
    "df = pd.merge( left=df, right=outcomes, on = 'person_id', how= 'outer')\n",
    "print(df.shape)\n",
    "df.columns"
   ]
  },
  {
   "cell_type": "code",
   "execution_count": 114,
   "metadata": {},
   "outputs": [
    {
     "data": {
      "text/plain": [
       "(2730, 24)"
      ]
     },
     "execution_count": 114,
     "metadata": {},
     "output_type": "execute_result"
    }
   ],
   "source": [
    "bodies.rename(columns={'BODY_NO': 'body_no'}, inplace=True)\n",
    "df_full = pd.merge(df, bodies, on='body_no', how='outer')\n",
    "df_full.shape\n"
   ]
  },
  {
   "cell_type": "code",
   "execution_count": 115,
   "metadata": {},
   "outputs": [],
   "source": [
    "df_full.drop(columns=['GENDER'], inplace=True)"
   ]
  },
  {
   "cell_type": "code",
   "execution_count": 116,
   "metadata": {},
   "outputs": [
    {
     "data": {
      "text/html": [
       "<div>\n",
       "<style scoped>\n",
       "    .dataframe tbody tr th:only-of-type {\n",
       "        vertical-align: middle;\n",
       "    }\n",
       "\n",
       "    .dataframe tbody tr th {\n",
       "        vertical-align: top;\n",
       "    }\n",
       "\n",
       "    .dataframe thead th {\n",
       "        text-align: right;\n",
       "    }\n",
       "</style>\n",
       "<table border=\"1\" class=\"dataframe\">\n",
       "  <thead>\n",
       "    <tr style=\"text-align: right;\">\n",
       "      <th></th>\n",
       "      <th>person_id</th>\n",
       "      <th>first_name</th>\n",
       "      <th>family_name</th>\n",
       "      <th>ticket_number</th>\n",
       "      <th>pclass</th>\n",
       "      <th>departure</th>\n",
       "      <th>price</th>\n",
       "      <th>nationality</th>\n",
       "      <th>gender</th>\n",
       "      <th>age</th>\n",
       "      <th>...</th>\n",
       "      <th>destination</th>\n",
       "      <th>occupation</th>\n",
       "      <th>works_for</th>\n",
       "      <th>department</th>\n",
       "      <th>crew</th>\n",
       "      <th>lifeboat</th>\n",
       "      <th>body_no</th>\n",
       "      <th>death_date</th>\n",
       "      <th>CLOTHING</th>\n",
       "      <th>ESTIMATED_AGE</th>\n",
       "    </tr>\n",
       "  </thead>\n",
       "  <tbody>\n",
       "    <tr>\n",
       "      <th>0</th>\n",
       "      <td>NaN</td>\n",
       "      <td>NaN</td>\n",
       "      <td>NaN</td>\n",
       "      <td>NaN</td>\n",
       "      <td>NaN</td>\n",
       "      <td>NaN</td>\n",
       "      <td>NaN</td>\n",
       "      <td>NaN</td>\n",
       "      <td>NaN</td>\n",
       "      <td>NaN</td>\n",
       "      <td>...</td>\n",
       "      <td>NaN</td>\n",
       "      <td>NaN</td>\n",
       "      <td>NaN</td>\n",
       "      <td>NaN</td>\n",
       "      <td>NaN</td>\n",
       "      <td>NaN</td>\n",
       "      <td>1.0</td>\n",
       "      <td>NaN</td>\n",
       "      <td>Overcoat, grey; one grey coat; one blue coat; ...</td>\n",
       "      <td>NaN</td>\n",
       "    </tr>\n",
       "    <tr>\n",
       "      <th>1</th>\n",
       "      <td>NaN</td>\n",
       "      <td>NaN</td>\n",
       "      <td>NaN</td>\n",
       "      <td>NaN</td>\n",
       "      <td>NaN</td>\n",
       "      <td>NaN</td>\n",
       "      <td>NaN</td>\n",
       "      <td>NaN</td>\n",
       "      <td>NaN</td>\n",
       "      <td>NaN</td>\n",
       "      <td>...</td>\n",
       "      <td>NaN</td>\n",
       "      <td>NaN</td>\n",
       "      <td>NaN</td>\n",
       "      <td>NaN</td>\n",
       "      <td>NaN</td>\n",
       "      <td>NaN</td>\n",
       "      <td>2.0</td>\n",
       "      <td>NaN</td>\n",
       "      <td>Brown tweed coat; white steward's jacket; brow...</td>\n",
       "      <td>24.0</td>\n",
       "    </tr>\n",
       "    <tr>\n",
       "      <th>2</th>\n",
       "      <td>NaN</td>\n",
       "      <td>NaN</td>\n",
       "      <td>NaN</td>\n",
       "      <td>NaN</td>\n",
       "      <td>NaN</td>\n",
       "      <td>NaN</td>\n",
       "      <td>NaN</td>\n",
       "      <td>NaN</td>\n",
       "      <td>NaN</td>\n",
       "      <td>NaN</td>\n",
       "      <td>...</td>\n",
       "      <td>NaN</td>\n",
       "      <td>NaN</td>\n",
       "      <td>NaN</td>\n",
       "      <td>NaN</td>\n",
       "      <td>NaN</td>\n",
       "      <td>NaN</td>\n",
       "      <td>3.0</td>\n",
       "      <td>NaN</td>\n",
       "      <td>Grey cloth jacket; red jersey jacket; blue alp...</td>\n",
       "      <td>40.0</td>\n",
       "    </tr>\n",
       "    <tr>\n",
       "      <th>3</th>\n",
       "      <td>492.0</td>\n",
       "      <td>Sidney Leslie</td>\n",
       "      <td>Goodwin</td>\n",
       "      <td>2144.0</td>\n",
       "      <td>3rd Class Passengers</td>\n",
       "      <td>Southampton</td>\n",
       "      <td>46.0</td>\n",
       "      <td>English</td>\n",
       "      <td>Male</td>\n",
       "      <td>1 years</td>\n",
       "      <td>...</td>\n",
       "      <td>Niagara Falls, New York, United States</td>\n",
       "      <td>NaN</td>\n",
       "      <td>NaN</td>\n",
       "      <td>NaN</td>\n",
       "      <td>NaN</td>\n",
       "      <td>NaN</td>\n",
       "      <td>4.0</td>\n",
       "      <td>1912-04-15</td>\n",
       "      <td>Grey coat with fur on collar and cuffs; brown ...</td>\n",
       "      <td>2.0</td>\n",
       "    </tr>\n",
       "    <tr>\n",
       "      <th>4</th>\n",
       "      <td>NaN</td>\n",
       "      <td>NaN</td>\n",
       "      <td>NaN</td>\n",
       "      <td>NaN</td>\n",
       "      <td>NaN</td>\n",
       "      <td>NaN</td>\n",
       "      <td>NaN</td>\n",
       "      <td>NaN</td>\n",
       "      <td>NaN</td>\n",
       "      <td>NaN</td>\n",
       "      <td>...</td>\n",
       "      <td>NaN</td>\n",
       "      <td>NaN</td>\n",
       "      <td>NaN</td>\n",
       "      <td>NaN</td>\n",
       "      <td>NaN</td>\n",
       "      <td>NaN</td>\n",
       "      <td>5.0</td>\n",
       "      <td>NaN</td>\n",
       "      <td>Blue waterproof; black jacket and skirt; pink ...</td>\n",
       "      <td>NaN</td>\n",
       "    </tr>\n",
       "  </tbody>\n",
       "</table>\n",
       "<p>5 rows × 23 columns</p>\n",
       "</div>"
      ],
      "text/plain": [
       "   person_id     first_name family_name  ticket_number                pclass  \\\n",
       "0        NaN            NaN         NaN            NaN                   NaN   \n",
       "1        NaN            NaN         NaN            NaN                   NaN   \n",
       "2        NaN            NaN         NaN            NaN                   NaN   \n",
       "3      492.0  Sidney Leslie     Goodwin         2144.0  3rd Class Passengers   \n",
       "4        NaN            NaN         NaN            NaN                   NaN   \n",
       "\n",
       "     departure  price nationality gender      age  ...  \\\n",
       "0          NaN    NaN         NaN    NaN      NaN  ...   \n",
       "1          NaN    NaN         NaN    NaN      NaN  ...   \n",
       "2          NaN    NaN         NaN    NaN      NaN  ...   \n",
       "3  Southampton   46.0     English   Male  1 years  ...   \n",
       "4          NaN    NaN         NaN    NaN      NaN  ...   \n",
       "\n",
       "                              destination occupation works_for department  \\\n",
       "0                                     NaN        NaN       NaN        NaN   \n",
       "1                                     NaN        NaN       NaN        NaN   \n",
       "2                                     NaN        NaN       NaN        NaN   \n",
       "3  Niagara Falls, New York, United States        NaN       NaN        NaN   \n",
       "4                                     NaN        NaN       NaN        NaN   \n",
       "\n",
       "  crew lifeboat body_no  death_date  \\\n",
       "0  NaN      NaN     1.0         NaN   \n",
       "1  NaN      NaN     2.0         NaN   \n",
       "2  NaN      NaN     3.0         NaN   \n",
       "3  NaN      NaN     4.0  1912-04-15   \n",
       "4  NaN      NaN     5.0         NaN   \n",
       "\n",
       "                                            CLOTHING  ESTIMATED_AGE  \n",
       "0  Overcoat, grey; one grey coat; one blue coat; ...            NaN  \n",
       "1  Brown tweed coat; white steward's jacket; brow...           24.0  \n",
       "2  Grey cloth jacket; red jersey jacket; blue alp...           40.0  \n",
       "3  Grey coat with fur on collar and cuffs; brown ...            2.0  \n",
       "4  Blue waterproof; black jacket and skirt; pink ...            NaN  \n",
       "\n",
       "[5 rows x 23 columns]"
      ]
     },
     "execution_count": 116,
     "metadata": {},
     "output_type": "execute_result"
    }
   ],
   "source": [
    "df_full.head()"
   ]
  },
  {
   "cell_type": "markdown",
   "metadata": {},
   "source": [
    "# Exercise 3"
   ]
  },
  {
   "cell_type": "markdown",
   "metadata": {},
   "source": [
    "Derive a boolean column that indicates whether a person (crew or passenger) survived the accident or not"
   ]
  },
  {
   "cell_type": "code",
   "execution_count": 117,
   "metadata": {},
   "outputs": [
    {
     "data": {
      "text/plain": [
       "Index(['person_id', 'first_name', 'family_name', 'ticket_number', 'pclass',\n",
       "       'departure', 'price', 'nationality', 'gender', 'age', 'marital_status',\n",
       "       'birth_date', 'home_location', 'destination', 'occupation', 'works_for',\n",
       "       'department', 'crew', 'lifeboat', 'body_no', 'death_date', 'CLOTHING',\n",
       "       'ESTIMATED_AGE'],\n",
       "      dtype='object')"
      ]
     },
     "execution_count": 117,
     "metadata": {},
     "output_type": "execute_result"
    }
   ],
   "source": [
    "df_full.columns"
   ]
  },
  {
   "cell_type": "code",
   "execution_count": 118,
   "metadata": {},
   "outputs": [
    {
     "data": {
      "text/plain": [
       "0       1.0\n",
       "1       2.0\n",
       "2       3.0\n",
       "3       4.0\n",
       "4       5.0\n",
       "       ... \n",
       "2725    NaN\n",
       "2726    NaN\n",
       "2727    NaN\n",
       "2728    NaN\n",
       "2729    NaN\n",
       "Name: body_no, Length: 2730, dtype: float64"
      ]
     },
     "execution_count": 118,
     "metadata": {},
     "output_type": "execute_result"
    }
   ],
   "source": [
    "df_full.body_no"
   ]
  },
  {
   "cell_type": "code",
   "execution_count": 119,
   "metadata": {},
   "outputs": [
    {
     "data": {
      "text/plain": [
       "0              NaN\n",
       "1              NaN\n",
       "2              NaN\n",
       "3       1912-04-15\n",
       "4              NaN\n",
       "           ...    \n",
       "2725    1939-11-18\n",
       "2726    1912-04-15\n",
       "2727    1912-04-15\n",
       "2728    1912-04-15\n",
       "2729    1912-04-15\n",
       "Name: death_date, Length: 2730, dtype: object"
      ]
     },
     "execution_count": 119,
     "metadata": {},
     "output_type": "execute_result"
    }
   ],
   "source": [
    "df_full.death_date"
   ]
  },
  {
   "cell_type": "code",
   "execution_count": 120,
   "metadata": {},
   "outputs": [],
   "source": [
    "df_full['survived_byDD'] = df_full['death_date'] == '1912-04-15'\n"
   ]
  },
  {
   "cell_type": "code",
   "execution_count": 121,
   "metadata": {},
   "outputs": [],
   "source": [
    "df_full['survived'] = df_full['body_no'].isna()"
   ]
  },
  {
   "cell_type": "code",
   "execution_count": 122,
   "metadata": {},
   "outputs": [
    {
     "data": {
      "text/html": [
       "<div>\n",
       "<style scoped>\n",
       "    .dataframe tbody tr th:only-of-type {\n",
       "        vertical-align: middle;\n",
       "    }\n",
       "\n",
       "    .dataframe tbody tr th {\n",
       "        vertical-align: top;\n",
       "    }\n",
       "\n",
       "    .dataframe thead th {\n",
       "        text-align: right;\n",
       "    }\n",
       "</style>\n",
       "<table border=\"1\" class=\"dataframe\">\n",
       "  <thead>\n",
       "    <tr style=\"text-align: right;\">\n",
       "      <th></th>\n",
       "      <th>pclass</th>\n",
       "      <th>pclass_no</th>\n",
       "    </tr>\n",
       "  </thead>\n",
       "  <tbody>\n",
       "    <tr>\n",
       "      <th>0</th>\n",
       "      <td>NaN</td>\n",
       "      <td>NaN</td>\n",
       "    </tr>\n",
       "    <tr>\n",
       "      <th>1</th>\n",
       "      <td>NaN</td>\n",
       "      <td>NaN</td>\n",
       "    </tr>\n",
       "    <tr>\n",
       "      <th>2</th>\n",
       "      <td>NaN</td>\n",
       "      <td>NaN</td>\n",
       "    </tr>\n",
       "    <tr>\n",
       "      <th>3</th>\n",
       "      <td>3rd Class Passengers</td>\n",
       "      <td>3.0</td>\n",
       "    </tr>\n",
       "    <tr>\n",
       "      <th>4</th>\n",
       "      <td>NaN</td>\n",
       "      <td>NaN</td>\n",
       "    </tr>\n",
       "  </tbody>\n",
       "</table>\n",
       "</div>"
      ],
      "text/plain": [
       "                 pclass  pclass_no\n",
       "0                   NaN        NaN\n",
       "1                   NaN        NaN\n",
       "2                   NaN        NaN\n",
       "3  3rd Class Passengers        3.0\n",
       "4                   NaN        NaN"
      ]
     },
     "execution_count": 122,
     "metadata": {},
     "output_type": "execute_result"
    }
   ],
   "source": [
    "df_full['pclass_no'] = df_full['pclass'].map({'1st Class Passengers': 1, '2nd Class Passengers': 2, '3rd Class Passengers': 3})\n",
    "df_full[['pclass', 'pclass_no']].head()"
   ]
  },
  {
   "cell_type": "markdown",
   "metadata": {},
   "source": [
    "Derive a new column `pclass_no` with numeric values 1, 2, and 3 corresponding to the three passenger classes given in column `pclass`."
   ]
  },
  {
   "cell_type": "code",
   "execution_count": 123,
   "metadata": {},
   "outputs": [],
   "source": [
    "df_full['pclass_no'] = df_full.pclass.map({'1st Class Passengers': 1, '2nd Class Passengers':2, '3rd Class Passengers':3})"
   ]
  },
  {
   "cell_type": "markdown",
   "metadata": {},
   "source": [
    "Calculate the age of a person at death and store it in a new column"
   ]
  },
  {
   "cell_type": "code",
   "execution_count": 124,
   "metadata": {},
   "outputs": [],
   "source": [
    "df_full['birth_date'] = pd.to_datetime(df_full['birth_date'])\n",
    "df_full['death_date'] = pd.to_datetime(df_full['birth_date'])\n"
   ]
  },
  {
   "cell_type": "code",
   "execution_count": 125,
   "metadata": {},
   "outputs": [],
   "source": [
    "df_full['death_age'] = df_full.birth_date - df_full.death_date"
   ]
  },
  {
   "cell_type": "code",
   "execution_count": null,
   "metadata": {},
   "outputs": [
    {
     "data": {
      "text/plain": [
       "0       NaN\n",
       "1       NaN\n",
       "2       NaN\n",
       "3       0.0\n",
       "4       NaN\n",
       "       ... \n",
       "2725    0.0\n",
       "2726    0.0\n",
       "2727    0.0\n",
       "2728    NaN\n",
       "2729    0.0\n",
       "Name: death_age, Length: 2730, dtype: float64"
      ]
     },
     "execution_count": 129,
     "metadata": {},
     "output_type": "execute_result"
    }
   ],
   "source": [
    "# df_full['death_age'] = (df_full['death_date'] - df_full['birth_date']).dt.days / 365.25"
   ]
  },
  {
   "cell_type": "markdown",
   "metadata": {},
   "source": [
    "Derive a new column `home_country` from the column `home_location`, extracting only the country name from the string"
   ]
  },
  {
   "cell_type": "code",
   "execution_count": 127,
   "metadata": {},
   "outputs": [
    {
     "data": {
      "text/plain": [
       "0                                   NaN\n",
       "1                                   NaN\n",
       "2                                   NaN\n",
       "3          Melksham, Wiltshire, England\n",
       "4                                   NaN\n",
       "                     ...               \n",
       "2725    Southampton, Hampshire, England\n",
       "2726    Southampton, Hampshire, England\n",
       "2727                    London, England\n",
       "2728    Southampton, Hampshire, England\n",
       "2729    Southampton, Hampshire, England\n",
       "Name: home_location, Length: 2730, dtype: object"
      ]
     },
     "execution_count": 127,
     "metadata": {},
     "output_type": "execute_result"
    }
   ],
   "source": [
    "df_full['home_location']"
   ]
  },
  {
   "cell_type": "code",
   "execution_count": 128,
   "metadata": {},
   "outputs": [],
   "source": [
    "df_full['home_country'] = df_full['home_location'].str.split(',').str[2]"
   ]
  },
  {
   "cell_type": "markdown",
   "metadata": {},
   "source": [
    "Which further data cleaning/processing steps would be needed/desirable?"
   ]
  },
  {
   "cell_type": "code",
   "execution_count": null,
   "metadata": {},
   "outputs": [],
   "source": []
  }
 ],
 "metadata": {
  "kernelspec": {
   "display_name": "penv",
   "language": "python",
   "name": "python3"
  },
  "language_info": {
   "codemirror_mode": {
    "name": "ipython",
    "version": 3
   },
   "file_extension": ".py",
   "mimetype": "text/x-python",
   "name": "python",
   "nbconvert_exporter": "python",
   "pygments_lexer": "ipython3",
   "version": "3.10.0"
  }
 },
 "nbformat": 4,
 "nbformat_minor": 2
}
