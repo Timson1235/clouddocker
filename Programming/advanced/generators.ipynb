{
 "cells": [
  {
   "cell_type": "markdown",
   "metadata": {},
   "source": [
    "# 1. Iterables and iterators"
   ]
  },
  {
   "cell_type": "markdown",
   "metadata": {},
   "source": [
    "## What are iterables?"
   ]
  },
  {
   "cell_type": "markdown",
   "metadata": {},
   "source": [
    "\n",
    "- Any object that you can loop over with a for loop\n",
    "- Any object that can return its members one at a time\n",
    "- For instance: lists, tuples, sets, dictionaries, strings, files, generators, etc."
   ]
  },
  {
   "cell_type": "code",
   "execution_count": 8,
   "metadata": {},
   "outputs": [
    {
     "name": "stdout",
     "output_type": "stream",
     "text": [
      "Anna\n",
      "8\n"
     ]
    }
   ],
   "source": [
    "x = ['Anna',8]\n",
    "for item in x:\n",
    "    print(item)"
   ]
  },
  {
   "cell_type": "markdown",
   "metadata": {},
   "source": [
    "## What happens in a for loop?"
   ]
  },
  {
   "cell_type": "markdown",
   "metadata": {},
   "source": [
    "In a for loop, the `iter()` function is called on the iterable object, and then the `next` function is called on the iterator object until a `StopIteration` exception is raised."
   ]
  },
  {
   "cell_type": "code",
   "execution_count": 9,
   "metadata": {},
   "outputs": [
    {
     "name": "stdout",
     "output_type": "stream",
     "text": [
      "Anna\n",
      "28\n"
     ]
    }
   ],
   "source": [
    "x = ['Anna', 28]\n",
    "x_iterator = iter(x)\n",
    "while True:\n",
    "    try:\n",
    "        print(next(x_iterator))\n",
    "    except StopIteration:\n",
    "        break"
   ]
  },
  {
   "cell_type": "markdown",
   "metadata": {},
   "source": [
    "Let's look at this process step by step:\n",
    "\n",
    "- Each iterable object has a \"double underscore\" method or dunder methos called `__iter__()` that **returns an iterator object**. \n",
    "- Alternatively, we can use the `iter()` function. It will call the `__iter__()` method of the list."
   ]
  },
  {
   "cell_type": "code",
   "execution_count": 10,
   "metadata": {},
   "outputs": [
    {
     "data": {
      "text/plain": [
       "list_iterator"
      ]
     },
     "execution_count": 10,
     "metadata": {},
     "output_type": "execute_result"
    }
   ],
   "source": [
    "x_iterator = x.__iter__() \n",
    "x_iterator = iter(x)        # Same as above, but more common\n",
    "type(x_iterator)"
   ]
  },
  {
   "cell_type": "markdown",
   "metadata": {},
   "source": [
    "- Each **iterator object** has a dunder method called `__next__()` that **returns the next item in the sequence.**\n",
    "- Alternatively, we can use the `next()` function.\n",
    "- If we reach the end of the sequence, it raises a `StopIteration` exception.\n",
    "- Since we don't want to run into this exception, the for loop automatically catches it and stops the iteration."
   ]
  },
  {
   "cell_type": "code",
   "execution_count": 11,
   "metadata": {},
   "outputs": [
    {
     "name": "stdout",
     "output_type": "stream",
     "text": [
      "Anna\n",
      "28\n"
     ]
    },
    {
     "ename": "StopIteration",
     "evalue": "",
     "output_type": "error",
     "traceback": [
      "\u001b[1;31m---------------------------------------------------------------------------\u001b[0m",
      "\u001b[1;31mStopIteration\u001b[0m                             Traceback (most recent call last)",
      "Cell \u001b[1;32mIn[11], line 5\u001b[0m\n\u001b[0;32m      3\u001b[0m \u001b[38;5;28mprint\u001b[39m(\u001b[38;5;28mnext\u001b[39m(x_iterator))\n\u001b[0;32m      4\u001b[0m \u001b[38;5;28mprint\u001b[39m(\u001b[38;5;28mnext\u001b[39m(x_iterator))\n\u001b[1;32m----> 5\u001b[0m \u001b[38;5;28mprint\u001b[39m(\u001b[38;5;28;43mnext\u001b[39;49m\u001b[43m(\u001b[49m\u001b[43mx_iterator\u001b[49m\u001b[43m)\u001b[49m)\n",
      "\u001b[1;31mStopIteration\u001b[0m: "
     ]
    }
   ],
   "source": [
    "x = ['Anna', 28]\n",
    "x_iterator = iter(x)\n",
    "print(next(x_iterator))\n",
    "print(next(x_iterator))\n",
    "print(next(x_iterator))"
   ]
  },
  {
   "cell_type": "markdown",
   "metadata": {},
   "source": [
    "# 2. Generators"
   ]
  },
  {
   "cell_type": "markdown",
   "metadata": {},
   "source": [
    "## Motivation"
   ]
  },
  {
   "cell_type": "markdown",
   "metadata": {},
   "source": [
    "**What happens if the iterable is huge?**, e.g. a list of 1 billion numbers\n",
    "\n",
    "- It will take up a lot of memory, or maybe not even fit in memory\n",
    "- It will take a long time to generate the list"
   ]
  },
  {
   "cell_type": "markdown",
   "metadata": {},
   "source": [
    "**Generators are a helpful alternative to lists in this case.**\n",
    "\n",
    "- Instead of storing all items in memory, generators produce items one at a time.\n",
    "- Generators only compute values \"on the fly\" when needed (_lazy evaluation_)."
   ]
  },
  {
   "cell_type": "code",
   "execution_count": 12,
   "metadata": {},
   "outputs": [],
   "source": [
    "def square_function(numbers):\n",
    "    result = []\n",
    "    for number in numbers:\n",
    "        result.append(number**2)\n",
    "    return result"
   ]
  },
  {
   "cell_type": "code",
   "execution_count": null,
   "metadata": {},
   "outputs": [
    {
     "ename": "TypeError",
     "evalue": "unsupported operand type(s) for ** or pow(): 'str' and 'int'",
     "output_type": "error",
     "traceback": [
      "\u001b[1;31m---------------------------------------------------------------------------\u001b[0m",
      "\u001b[1;31mTypeError\u001b[0m                                 Traceback (most recent call last)",
      "Cell \u001b[1;32mIn[17], line 1\u001b[0m\n\u001b[1;32m----> 1\u001b[0m \u001b[43msquare_function\u001b[49m\u001b[43m(\u001b[49m\u001b[43mx\u001b[49m\u001b[43m)\u001b[49m\n",
      "Cell \u001b[1;32mIn[12], line 4\u001b[0m, in \u001b[0;36msquare_function\u001b[1;34m(numbers)\u001b[0m\n\u001b[0;32m      2\u001b[0m result \u001b[38;5;241m=\u001b[39m []\n\u001b[0;32m      3\u001b[0m \u001b[38;5;28;01mfor\u001b[39;00m number \u001b[38;5;129;01min\u001b[39;00m numbers:\n\u001b[1;32m----> 4\u001b[0m     result\u001b[38;5;241m.\u001b[39mappend(\u001b[43mnumber\u001b[49m\u001b[38;5;241;43m*\u001b[39;49m\u001b[38;5;241;43m*\u001b[39;49m\u001b[38;5;241;43m2\u001b[39;49m)\n\u001b[0;32m      5\u001b[0m \u001b[38;5;28;01mreturn\u001b[39;00m result\n",
      "\u001b[1;31mTypeError\u001b[0m: unsupported operand type(s) for ** or pow(): 'str' and 'int'"
     ]
    }
   ],
   "source": []
  },
  {
   "cell_type": "code",
   "execution_count": 21,
   "metadata": {},
   "outputs": [],
   "source": [
    "def square_generator(numbers):\n",
    "    for number in numbers:\n",
    "        yield number**2"
   ]
  },
  {
   "cell_type": "markdown",
   "metadata": {},
   "source": [
    "- `square_function` first creates a list of squares and then **returns** the list. If the list is huge, it will take long to generate the list and consume a lot of memory.\n",
    "- `square_generator` is a generator function. It **yields** the square of each number one at a time. It doesn't store the squares in memory. It only computes the next square when it is needed. If we need the next square, we call `next()` on the generator object."
   ]
  },
  {
   "cell_type": "code",
   "execution_count": 22,
   "metadata": {},
   "outputs": [
    {
     "data": {
      "text/plain": [
       "[0, 1, 4, 9, 16, 25, 36, 49, 64, 81]"
      ]
     },
     "execution_count": 22,
     "metadata": {},
     "output_type": "execute_result"
    }
   ],
   "source": [
    "results = square_function(range(10))\n",
    "results"
   ]
  },
  {
   "cell_type": "code",
   "execution_count": 23,
   "metadata": {},
   "outputs": [
    {
     "name": "stdout",
     "output_type": "stream",
     "text": [
      "0\n",
      "1\n"
     ]
    }
   ],
   "source": [
    "my_generator = square_generator(range(10))\n",
    "print(next(my_generator))\n",
    "print(next(my_generator))"
   ]
  },
  {
   "cell_type": "markdown",
   "metadata": {},
   "source": [
    "## Generator functions"
   ]
  },
  {
   "cell_type": "markdown",
   "metadata": {},
   "source": [
    "- Generator functions are functions that use the `yield` keyword, typically inside a loop\n",
    "- Multiple `yield` statements are allowed\n",
    "- Generator functions are therefore suitable for more complex scenarios compared to generator expressions"
   ]
  },
  {
   "cell_type": "code",
   "execution_count": 24,
   "metadata": {},
   "outputs": [
    {
     "name": "stdout",
     "output_type": "stream",
     "text": [
      "2\n",
      "3\n",
      "4\n",
      "100\n",
      "200\n",
      "300\n"
     ]
    }
   ],
   "source": [
    "def transform(numbers):\n",
    "    for number in numbers:\n",
    "        yield number+1\n",
    "\n",
    "    for number in numbers:\n",
    "        yield number*100\n",
    "\n",
    "my_generator = transform([1,2,3])\n",
    "for item in my_generator:\n",
    "    print(item)"
   ]
  },
  {
   "cell_type": "markdown",
   "metadata": {},
   "source": [
    "## Generator expressions"
   ]
  },
  {
   "cell_type": "markdown",
   "metadata": {},
   "source": [
    "- The syntax of generator expressions are similar to list comprehensions, but with parentheses instead of square brackets\n",
    "- Generator expressions are more concise and easier to read than generator functions\n",
    "- Generator expressions are suitable for simple scenarios"
   ]
  },
  {
   "cell_type": "code",
   "execution_count": 25,
   "metadata": {},
   "outputs": [],
   "source": [
    "# List comprehension vs Generator expression\n",
    "x = [number**2 for number in range(10)]\n",
    "y = (number**2 for number in range(10))"
   ]
  },
  {
   "cell_type": "markdown",
   "metadata": {},
   "source": [
    "## Use Cases"
   ]
  },
  {
   "cell_type": "markdown",
   "metadata": {},
   "source": [
    "### A: Streaming Data"
   ]
  },
  {
   "cell_type": "code",
   "execution_count": 27,
   "metadata": {},
   "outputs": [],
   "source": [
    "import time\n",
    "import requests\n",
    "\n",
    "def iss_position_stream():\n",
    "    url = \"http://api.open-notify.org/iss-now.json\"\n",
    "    while True:\n",
    "        response = requests.get(url)\n",
    "        if response.status_code == 200:\n",
    "            data = response.json()\n",
    "            position = data['iss_position']\n",
    "            latitude = position['latitude']\n",
    "            longitude = position['longitude']\n",
    "            yield (latitude, longitude)\n",
    "        else:\n",
    "            yield None\n",
    "        time.sleep(2) \n"
   ]
  },
  {
   "cell_type": "code",
   "execution_count": null,
   "metadata": {},
   "outputs": [],
   "source": [
    "position = iss_position_stream()\n",
    "for i, position in enumerate(position): \n",
    "    print(f\"ISS Position: Latitude {position[0]}, Longitude {position[1]}\")\n",
    "    if i == 3:\n",
    "        break"
   ]
  },
  {
   "cell_type": "markdown",
   "metadata": {},
   "source": [
    "### B: Working with huge data"
   ]
  },
  {
   "cell_type": "markdown",
   "metadata": {},
   "source": [
    "- **Pandas can read data in chunks.** \n",
    "- **These chunks behave much like generators:** They only load a chunk of data into memory at a time. We can use the `next()` function to load the next chunk. Or we can use a for loop to iterate over the chunks.\n",
    "- They are useful when working with huge datasets that don't fit into memory."
   ]
  },
  {
   "cell_type": "code",
   "execution_count": 29,
   "metadata": {},
   "outputs": [],
   "source": [
    "import pandas as pd"
   ]
  },
  {
   "cell_type": "markdown",
   "metadata": {},
   "source": [
    "First, we read in the entire data set about movies at once. Afterwards we just filter out movies from before 1910. If this were a huge data set, it would take a long time to load or might even not fit into memory."
   ]
  },
  {
   "cell_type": "code",
   "execution_count": 31,
   "metadata": {},
   "outputs": [
    {
     "data": {
      "text/html": [
       "<div>\n",
       "<style scoped>\n",
       "    .dataframe tbody tr th:only-of-type {\n",
       "        vertical-align: middle;\n",
       "    }\n",
       "\n",
       "    .dataframe tbody tr th {\n",
       "        vertical-align: top;\n",
       "    }\n",
       "\n",
       "    .dataframe thead th {\n",
       "        text-align: right;\n",
       "    }\n",
       "</style>\n",
       "<table border=\"1\" class=\"dataframe\">\n",
       "  <thead>\n",
       "    <tr style=\"text-align: right;\">\n",
       "      <th></th>\n",
       "      <th>movieId</th>\n",
       "      <th>title</th>\n",
       "      <th>genres</th>\n",
       "      <th>year</th>\n",
       "    </tr>\n",
       "  </thead>\n",
       "  <tbody>\n",
       "    <tr>\n",
       "      <th>869</th>\n",
       "      <td>82337</td>\n",
       "      <td>Four Heads Are Better Than One (Un homme de tê...</td>\n",
       "      <td>Fantasy</td>\n",
       "      <td>1898.0</td>\n",
       "    </tr>\n",
       "    <tr>\n",
       "      <th>1614</th>\n",
       "      <td>129851</td>\n",
       "      <td>Dickson Greeting (1891)</td>\n",
       "      <td>(no genres listed)</td>\n",
       "      <td>1891.0</td>\n",
       "    </tr>\n",
       "    <tr>\n",
       "      <th>1830</th>\n",
       "      <td>32898</td>\n",
       "      <td>Trip to the Moon, A (Voyage dans la lune, Le) ...</td>\n",
       "      <td>Action|Adventure|Fantasy|Sci-Fi</td>\n",
       "      <td>1902.0</td>\n",
       "    </tr>\n",
       "    <tr>\n",
       "      <th>5716</th>\n",
       "      <td>140545</td>\n",
       "      <td>Fantasmagorie (1908)</td>\n",
       "      <td>(no genres listed)</td>\n",
       "      <td>1908.0</td>\n",
       "    </tr>\n",
       "    <tr>\n",
       "      <th>6415</th>\n",
       "      <td>148705</td>\n",
       "      <td>A Hand Shake (1892)</td>\n",
       "      <td>(no genres listed)</td>\n",
       "      <td>1892.0</td>\n",
       "    </tr>\n",
       "    <tr>\n",
       "      <th>6423</th>\n",
       "      <td>98981</td>\n",
       "      <td>Arrival of a Train, The (1896)</td>\n",
       "      <td>Documentary</td>\n",
       "      <td>1896.0</td>\n",
       "    </tr>\n",
       "    <tr>\n",
       "      <th>8810</th>\n",
       "      <td>94951</td>\n",
       "      <td>Dickson Experimental Sound Film (1894)</td>\n",
       "      <td>Musical</td>\n",
       "      <td>1894.0</td>\n",
       "    </tr>\n",
       "    <tr>\n",
       "      <th>8981</th>\n",
       "      <td>117909</td>\n",
       "      <td>The Kiss (1900)</td>\n",
       "      <td>Romance</td>\n",
       "      <td>1900.0</td>\n",
       "    </tr>\n",
       "  </tbody>\n",
       "</table>\n",
       "</div>"
      ],
      "text/plain": [
       "      movieId                                              title  \\\n",
       "869     82337  Four Heads Are Better Than One (Un homme de tê...   \n",
       "1614   129851                            Dickson Greeting (1891)   \n",
       "1830    32898  Trip to the Moon, A (Voyage dans la lune, Le) ...   \n",
       "5716   140545                               Fantasmagorie (1908)   \n",
       "6415   148705                                A Hand Shake (1892)   \n",
       "6423    98981                     Arrival of a Train, The (1896)   \n",
       "8810    94951             Dickson Experimental Sound Film (1894)   \n",
       "8981   117909                                    The Kiss (1900)   \n",
       "\n",
       "                               genres    year  \n",
       "869                           Fantasy  1898.0  \n",
       "1614               (no genres listed)  1891.0  \n",
       "1830  Action|Adventure|Fantasy|Sci-Fi  1902.0  \n",
       "5716               (no genres listed)  1908.0  \n",
       "6415               (no genres listed)  1892.0  \n",
       "6423                      Documentary  1896.0  \n",
       "8810                          Musical  1894.0  \n",
       "8981                          Romance  1900.0  "
      ]
     },
     "execution_count": 31,
     "metadata": {},
     "output_type": "execute_result"
    }
   ],
   "source": [
    "movies = pd.read_csv('movies.csv')\n",
    "movies['year'] = pd.to_numeric(movies.title.str[-5:-1], errors='coerce')\n",
    "movies[movies.year < 1910]"
   ]
  },
  {
   "cell_type": "markdown",
   "metadata": {},
   "source": [
    "Now, we read in the data set in single chunks. Each chunk fits decently into memory. For each chunk we can filter out the relevant movies from before 1910, and the write the filtered data to a new file. This way we can work with huge data sets that don't fit into memory."
   ]
  },
  {
   "cell_type": "code",
   "execution_count": 32,
   "metadata": {},
   "outputs": [],
   "source": [
    "chunks = pd.read_csv('movies.csv', chunksize=10)      # The small chunk size is just for demonstration purposes\n",
    "for chunk in chunks:\n",
    "    chunk['year'] = pd.to_numeric(chunk.title.str[-5:-1], errors='coerce')\n",
    "    chunk = chunk[chunk.year < 1910]\n",
    "    chunk.to_csv('movies_before_1910.csv', mode='a', header=False)"
   ]
  },
  {
   "cell_type": "markdown",
   "metadata": {},
   "source": [
    "### C: Infinite Iterators"
   ]
  },
  {
   "cell_type": "code",
   "execution_count": 33,
   "metadata": {},
   "outputs": [],
   "source": [
    "def count():\n",
    "    i = 0\n",
    "    while True:\n",
    "        yield i\n",
    "        i += 1"
   ]
  },
  {
   "cell_type": "code",
   "execution_count": 34,
   "metadata": {},
   "outputs": [
    {
     "name": "stdout",
     "output_type": "stream",
     "text": [
      "0\n",
      "1\n",
      "2\n",
      "3\n",
      "4\n",
      "5\n",
      "6\n",
      "7\n",
      "8\n",
      "9\n",
      "10\n",
      "11\n"
     ]
    }
   ],
   "source": [
    "for number in count():\n",
    "    print(number)\n",
    "    if number > 10:\n",
    "        break"
   ]
  },
  {
   "cell_type": "code",
   "execution_count": null,
   "metadata": {},
   "outputs": [],
   "source": []
  }
 ],
 "metadata": {
  "kernelspec": {
   "display_name": "Python 3",
   "language": "python",
   "name": "python3"
  },
  "language_info": {
   "codemirror_mode": {
    "name": "ipython",
    "version": 3
   },
   "file_extension": ".py",
   "mimetype": "text/x-python",
   "name": "python",
   "nbconvert_exporter": "python",
   "pygments_lexer": "ipython3",
   "version": "3.12.4"
  }
 },
 "nbformat": 4,
 "nbformat_minor": 2
}
