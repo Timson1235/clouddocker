{
 "cells": [
  {
   "cell_type": "markdown",
   "metadata": {},
   "source": [
    "Exercise 2\n",
    "Exercise 2.1\n",
    "Run the following code"
   ]
  },
  {
   "cell_type": "code",
   "execution_count": 4,
   "metadata": {},
   "outputs": [],
   "source": [
    "import pandas as pd\n",
    "\n",
    "grades_df = pd.read_csv('grades.csv', index_col=0)\n",
    "grades = grades_df.to_numpy()\n"
   ]
  },
  {
   "cell_type": "markdown",
   "metadata": {},
   "source": [
    "Display both grades_df and grades. How do they differ?\n",
    "Using your numpy array grades calculate the following statistics::\n",
    "• What is the average grade of all students and tasks?\n",
    "• What is the average grade per student?\n",
    "• What is the average grade per task?\n",
    "• What is the median grade per task?"
   ]
  },
  {
   "cell_type": "code",
   "execution_count": 5,
   "metadata": {},
   "outputs": [
    {
     "name": "stdout",
     "output_type": "stream",
     "text": [
      "[[80 60 70]\n",
      " [90 80 85]\n",
      " [70 50 70]]\n",
      "       task1  task2  task3\n",
      "name                      \n",
      "Anna      80     60     70\n",
      "Berta     90     80     85\n",
      "Chris     70     50     70\n",
      "\n",
      "Statistics:\n",
      "Average grade of all students and tasks: 72.78\n",
      "Average grade per student: [70.         85.         63.33333333]\n",
      "Average grade per task: [80.         63.33333333 75.        ]\n",
      "Median grade per task: [80. 60. 70.]\n"
     ]
    },
    {
     "ename": "",
     "evalue": "",
     "output_type": "error",
     "traceback": [
      "\u001b[1;31mThe Kernel crashed while executing code in the current cell or a previous cell. \n",
      "\u001b[1;31mPlease review the code in the cell(s) to identify a possible cause of the failure. \n",
      "\u001b[1;31mClick <a href='https://aka.ms/vscodeJupyterKernelCrash'>here</a> for more info. \n",
      "\u001b[1;31mView Jupyter <a href='command:jupyter.viewOutput'>log</a> for further details."
     ]
    }
   ],
   "source": [
    "print(grades)\n",
    "print(grades_df)\n",
    "\n",
    "# Calculate statistics\n",
    "average_grade = np.mean(grades)                  # Average grade of all students and tasks\n",
    "average_grade_per_student = np.mean(grades, axis=1)  # Average grade per student\n",
    "average_grade_per_task = np.mean(grades, axis=0)     # Average grade per task\n",
    "median_grade_per_task = np.median(grades, axis=0)    # Median grade per task\n",
    "\n",
    "# Display the statistics\n",
    "print(\"\\nStatistics:\")\n",
    "print(f\"Average grade of all students and tasks: {average_grade:.2f}\")\n",
    "print(f\"Average grade per student: {average_grade_per_student}\")\n",
    "print(f\"Average grade per task: {average_grade_per_task}\")\n",
    "print(f\"Median grade per task: {median_grade_per_task}\")"
   ]
  }
 ],
 "metadata": {
  "kernelspec": {
   "display_name": "Python 3",
   "language": "python",
   "name": "python3"
  },
  "language_info": {
   "codemirror_mode": {
    "name": "ipython",
    "version": 3
   },
   "file_extension": ".py",
   "mimetype": "text/x-python",
   "name": "python",
   "nbconvert_exporter": "python",
   "pygments_lexer": "ipython3",
   "version": "3.12.4"
  }
 },
 "nbformat": 4,
 "nbformat_minor": 2
}
