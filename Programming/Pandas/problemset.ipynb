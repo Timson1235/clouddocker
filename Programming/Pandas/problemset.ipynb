{
 "cells": [
  {
   "cell_type": "markdown",
   "metadata": {},
   "source": [
    "# General instructions\n",
    "- Install the package `Pandas` in your course-specific virtual environment, if you have not done so already.\n",
    "- Store the data file `titanic.csv` either in the same directory as the current Jupyter notebook, or in a subdirectory named `data`.\n",
    "- Read in the data set 'titanic.csv' as a Pandas DataFrame. \n",
    "- Answer the questions below, and other questions that may arise in the process.\n",
    "\n",
    "Note that the source of the data set is [Encyclopedia Titanica](https://www.encyclopedia-titanica.org/). Several preprocessing steps have been carried out on the raw dataset. Note that there is also a (less complete) variant of the data set available via the Python package `seaborn`.\n",
    "\n",
    "There may be occasional problems or errors in the data (unplausible, wrong, ...). If you find some error or strange anomaly, then please give me a hint, so that I can further curate the dataset for the future."
   ]
  },
  {
   "cell_type": "code",
   "execution_count": 13,
   "metadata": {},
   "outputs": [],
   "source": [
    "import pandas as pd"
   ]
  },
  {
   "cell_type": "code",
   "execution_count": 14,
   "metadata": {},
   "outputs": [
    {
     "data": {
      "text/html": [
       "<div>\n",
       "<style scoped>\n",
       "    .dataframe tbody tr th:only-of-type {\n",
       "        vertical-align: middle;\n",
       "    }\n",
       "\n",
       "    .dataframe tbody tr th {\n",
       "        vertical-align: top;\n",
       "    }\n",
       "\n",
       "    .dataframe thead th {\n",
       "        text-align: right;\n",
       "    }\n",
       "</style>\n",
       "<table border=\"1\" class=\"dataframe\">\n",
       "  <thead>\n",
       "    <tr style=\"text-align: right;\">\n",
       "      <th></th>\n",
       "      <th>first_name</th>\n",
       "      <th>family_name</th>\n",
       "      <th>type</th>\n",
       "      <th>ticket_number</th>\n",
       "      <th>pclass</th>\n",
       "      <th>departure</th>\n",
       "      <th>price</th>\n",
       "      <th>survived</th>\n",
       "      <th>lifeboat</th>\n",
       "      <th>body_no</th>\n",
       "      <th>...</th>\n",
       "      <th>gender</th>\n",
       "      <th>age</th>\n",
       "      <th>marital_status</th>\n",
       "      <th>number_relatives_onboard</th>\n",
       "      <th>home_location</th>\n",
       "      <th>destination</th>\n",
       "      <th>age_at_death</th>\n",
       "      <th>occupation</th>\n",
       "      <th>department</th>\n",
       "      <th>works_for</th>\n",
       "    </tr>\n",
       "  </thead>\n",
       "  <tbody>\n",
       "    <tr>\n",
       "      <th>0</th>\n",
       "      <td>Luka</td>\n",
       "      <td>Orešković</td>\n",
       "      <td>Passenger</td>\n",
       "      <td>315094.0</td>\n",
       "      <td>3rd Class Passengers</td>\n",
       "      <td>Southampton</td>\n",
       "      <td>8.0</td>\n",
       "      <td>False</td>\n",
       "      <td>NaN</td>\n",
       "      <td>NaN</td>\n",
       "      <td>...</td>\n",
       "      <td>Male</td>\n",
       "      <td>20.0</td>\n",
       "      <td>Married</td>\n",
       "      <td>3</td>\n",
       "      <td>Konjsko Brdo, Croatia [Austria-Hungary]</td>\n",
       "      <td>Chicago, Illinois, United States</td>\n",
       "      <td>20.0</td>\n",
       "      <td>Farmer</td>\n",
       "      <td>NaN</td>\n",
       "      <td>NaN</td>\n",
       "    </tr>\n",
       "    <tr>\n",
       "      <th>1</th>\n",
       "      <td>Joseph Francis</td>\n",
       "      <td>Akerman</td>\n",
       "      <td>Crew</td>\n",
       "      <td>NaN</td>\n",
       "      <td>NaN</td>\n",
       "      <td>Southampton</td>\n",
       "      <td>NaN</td>\n",
       "      <td>False</td>\n",
       "      <td>NaN</td>\n",
       "      <td>NaN</td>\n",
       "      <td>...</td>\n",
       "      <td>Male</td>\n",
       "      <td>37.0</td>\n",
       "      <td>Married</td>\n",
       "      <td>1</td>\n",
       "      <td>Southampton, Hampshire, England</td>\n",
       "      <td>NaN</td>\n",
       "      <td>37.0</td>\n",
       "      <td>Assistant Pantryman Steward</td>\n",
       "      <td>Victualling Crew</td>\n",
       "      <td>White Star Line</td>\n",
       "    </tr>\n",
       "    <tr>\n",
       "      <th>2</th>\n",
       "      <td>Mary Elizabeth</td>\n",
       "      <td>Davison</td>\n",
       "      <td>Passenger</td>\n",
       "      <td>386525.0</td>\n",
       "      <td>3rd Class Passengers</td>\n",
       "      <td>Southampton</td>\n",
       "      <td>16.0</td>\n",
       "      <td>True</td>\n",
       "      <td>boat 10</td>\n",
       "      <td>NaN</td>\n",
       "      <td>...</td>\n",
       "      <td>Female</td>\n",
       "      <td>34.0</td>\n",
       "      <td>Married</td>\n",
       "      <td>2</td>\n",
       "      <td>Liverpool, Lancashire, England</td>\n",
       "      <td>Bedford, Ohio, United States</td>\n",
       "      <td>61.0</td>\n",
       "      <td>NaN</td>\n",
       "      <td>NaN</td>\n",
       "      <td>NaN</td>\n",
       "    </tr>\n",
       "    <tr>\n",
       "      <th>3</th>\n",
       "      <td>Ernest Edward Samuel</td>\n",
       "      <td>Freeman</td>\n",
       "      <td>Crew</td>\n",
       "      <td>NaN</td>\n",
       "      <td>NaN</td>\n",
       "      <td>Belfast</td>\n",
       "      <td>NaN</td>\n",
       "      <td>False</td>\n",
       "      <td>NaN</td>\n",
       "      <td>NaN</td>\n",
       "      <td>...</td>\n",
       "      <td>Male</td>\n",
       "      <td>45.0</td>\n",
       "      <td>Married</td>\n",
       "      <td>1</td>\n",
       "      <td>Southampton, Hampshire, England</td>\n",
       "      <td>NaN</td>\n",
       "      <td>NaN</td>\n",
       "      <td>Deck Steward (1st Class)</td>\n",
       "      <td>Victualling Crew</td>\n",
       "      <td>White Star Line</td>\n",
       "    </tr>\n",
       "    <tr>\n",
       "      <th>4</th>\n",
       "      <td>George Alfred</td>\n",
       "      <td>Levett</td>\n",
       "      <td>Crew</td>\n",
       "      <td>NaN</td>\n",
       "      <td>NaN</td>\n",
       "      <td>Belfast</td>\n",
       "      <td>NaN</td>\n",
       "      <td>False</td>\n",
       "      <td>NaN</td>\n",
       "      <td>NaN</td>\n",
       "      <td>...</td>\n",
       "      <td>Male</td>\n",
       "      <td>25.0</td>\n",
       "      <td>Married</td>\n",
       "      <td>2</td>\n",
       "      <td>Southampton, Hampshire, England</td>\n",
       "      <td>NaN</td>\n",
       "      <td>25.0</td>\n",
       "      <td>Assistant Pantryman Steward (1st Class)</td>\n",
       "      <td>Victualling Crew</td>\n",
       "      <td>White Star Line</td>\n",
       "    </tr>\n",
       "  </tbody>\n",
       "</table>\n",
       "<p>5 rows × 21 columns</p>\n",
       "</div>"
      ],
      "text/plain": [
       "             first_name family_name       type  ticket_number  \\\n",
       "0                  Luka   Orešković  Passenger       315094.0   \n",
       "1        Joseph Francis     Akerman       Crew            NaN   \n",
       "2        Mary Elizabeth     Davison  Passenger       386525.0   \n",
       "3  Ernest Edward Samuel     Freeman       Crew            NaN   \n",
       "4         George Alfred      Levett       Crew            NaN   \n",
       "\n",
       "                 pclass    departure  price  survived lifeboat  body_no  ...  \\\n",
       "0  3rd Class Passengers  Southampton    8.0     False      NaN      NaN  ...   \n",
       "1                   NaN  Southampton    NaN     False      NaN      NaN  ...   \n",
       "2  3rd Class Passengers  Southampton   16.0      True  boat 10      NaN  ...   \n",
       "3                   NaN      Belfast    NaN     False      NaN      NaN  ...   \n",
       "4                   NaN      Belfast    NaN     False      NaN      NaN  ...   \n",
       "\n",
       "   gender   age  marital_status number_relatives_onboard  \\\n",
       "0    Male  20.0         Married                        3   \n",
       "1    Male  37.0         Married                        1   \n",
       "2  Female  34.0         Married                        2   \n",
       "3    Male  45.0         Married                        1   \n",
       "4    Male  25.0         Married                        2   \n",
       "\n",
       "                             home_location                       destination  \\\n",
       "0  Konjsko Brdo, Croatia [Austria-Hungary]  Chicago, Illinois, United States   \n",
       "1          Southampton, Hampshire, England                               NaN   \n",
       "2           Liverpool, Lancashire, England      Bedford, Ohio, United States   \n",
       "3          Southampton, Hampshire, England                               NaN   \n",
       "4          Southampton, Hampshire, England                               NaN   \n",
       "\n",
       "  age_at_death                               occupation        department  \\\n",
       "0         20.0                                   Farmer               NaN   \n",
       "1         37.0              Assistant Pantryman Steward  Victualling Crew   \n",
       "2         61.0                                      NaN               NaN   \n",
       "3          NaN                 Deck Steward (1st Class)  Victualling Crew   \n",
       "4         25.0  Assistant Pantryman Steward (1st Class)  Victualling Crew   \n",
       "\n",
       "         works_for  \n",
       "0              NaN  \n",
       "1  White Star Line  \n",
       "2              NaN  \n",
       "3  White Star Line  \n",
       "4  White Star Line  \n",
       "\n",
       "[5 rows x 21 columns]"
      ]
     },
     "execution_count": 14,
     "metadata": {},
     "output_type": "execute_result"
    }
   ],
   "source": [
    "df = pd.read_csv('titanic.csv')\n",
    "df.head()"
   ]
  },
  {
   "cell_type": "markdown",
   "metadata": {},
   "source": [
    "# 1. Traveler type"
   ]
  },
  {
   "cell_type": "markdown",
   "metadata": {},
   "source": [
    "How many crew members and how many passengers are recorded in the dataset?"
   ]
  },
  {
   "cell_type": "code",
   "execution_count": 20,
   "metadata": {},
   "outputs": [
    {
     "data": {
      "text/plain": [
       "(1122, 1352)"
      ]
     },
     "execution_count": 20,
     "metadata": {},
     "output_type": "execute_result"
    }
   ],
   "source": [
    "# Anzahl der Crew-Mitglieder und Passagiere\n",
    "crew_count = df[df[\"type\"] == \"Crew\"].shape[0]\n",
    "passenger_count = df[df[\"type\"] == \"Passenger\"].shape[0]\n",
    "\n",
    "crew_count, passenger_count\n"
   ]
  },
  {
   "cell_type": "markdown",
   "metadata": {},
   "source": [
    "Sort the dataset permanently according to traveler type (crew vs. passenger) and lastname?"
   ]
  },
  {
   "cell_type": "code",
   "execution_count": null,
   "metadata": {},
   "outputs": [],
   "source": []
  },
  {
   "cell_type": "markdown",
   "metadata": {},
   "source": [
    "How many crew members died?"
   ]
  },
  {
   "cell_type": "code",
   "execution_count": null,
   "metadata": {},
   "outputs": [],
   "source": []
  },
  {
   "cell_type": "markdown",
   "metadata": {},
   "source": [
    "# 2. Lifeboats"
   ]
  },
  {
   "cell_type": "markdown",
   "metadata": {},
   "source": [
    "Which were the 5 boats that saved the largest number of people?"
   ]
  },
  {
   "cell_type": "code",
   "execution_count": null,
   "metadata": {},
   "outputs": [],
   "source": []
  },
  {
   "cell_type": "markdown",
   "metadata": {
    "vscode": {
     "languageId": "plaintext"
    }
   },
   "source": [
    "How many lifeboats were there in total?"
   ]
  },
  {
   "cell_type": "code",
   "execution_count": null,
   "metadata": {},
   "outputs": [],
   "source": []
  },
  {
   "cell_type": "markdown",
   "metadata": {},
   "source": [
    "Which lifeboats saved the largest number of male passengers?"
   ]
  },
  {
   "cell_type": "code",
   "execution_count": null,
   "metadata": {},
   "outputs": [],
   "source": []
  },
  {
   "cell_type": "markdown",
   "metadata": {},
   "source": [
    "Which lifeboats saved the largest proportion of male adult passengers?"
   ]
  },
  {
   "cell_type": "code",
   "execution_count": null,
   "metadata": {},
   "outputs": [],
   "source": []
  },
  {
   "cell_type": "markdown",
   "metadata": {},
   "source": [
    "What was the average number of people saved on lifeboats?"
   ]
  },
  {
   "cell_type": "code",
   "execution_count": null,
   "metadata": {},
   "outputs": [],
   "source": []
  },
  {
   "cell_type": "markdown",
   "metadata": {},
   "source": [
    "Which boats saved in particular people from the 1st (2nd, 3rd) class?"
   ]
  },
  {
   "cell_type": "code",
   "execution_count": null,
   "metadata": {},
   "outputs": [],
   "source": []
  },
  {
   "cell_type": "markdown",
   "metadata": {},
   "source": [
    "What was the average age of rescued people, by lifeboat?"
   ]
  },
  {
   "cell_type": "code",
   "execution_count": null,
   "metadata": {},
   "outputs": [],
   "source": []
  },
  {
   "cell_type": "markdown",
   "metadata": {},
   "source": [
    "What was the (1) average age, and the number of people saved by lifeboat? (Note: Calculate this in one single query)"
   ]
  },
  {
   "cell_type": "code",
   "execution_count": null,
   "metadata": {},
   "outputs": [],
   "source": []
  },
  {
   "cell_type": "markdown",
   "metadata": {},
   "source": [
    "# 2. Investigation of ticket prices\n",
    "The prices are given in British Pounds. 1 British Pound at that time corresponds to 161 US Dollar today. And 1 US Dollar corresponds currently to 0.90 Euro. Please convert the original fares to current day Euros, and store it in a new column.  "
   ]
  },
  {
   "cell_type": "code",
   "execution_count": null,
   "metadata": {},
   "outputs": [],
   "source": []
  },
  {
   "cell_type": "markdown",
   "metadata": {},
   "source": [
    "Are the prices provided in the data the prices paid by person, or the prices paid by ticket (potentially covering multiple people)? Carry out a detailed data analysis to answer this question."
   ]
  },
  {
   "cell_type": "code",
   "execution_count": null,
   "metadata": {},
   "outputs": [],
   "source": []
  },
  {
   "cell_type": "markdown",
   "metadata": {},
   "source": [
    "What are other interesting patterns related to the prices paid? Freely explore!"
   ]
  },
  {
   "cell_type": "code",
   "execution_count": null,
   "metadata": {},
   "outputs": [],
   "source": []
  },
  {
   "cell_type": "markdown",
   "metadata": {},
   "source": [
    "# 3. Freely Explore"
   ]
  },
  {
   "cell_type": "code",
   "execution_count": null,
   "metadata": {},
   "outputs": [],
   "source": []
  }
 ],
 "metadata": {
  "kernelspec": {
   "display_name": "penv",
   "language": "python",
   "name": "python3"
  },
  "language_info": {
   "codemirror_mode": {
    "name": "ipython",
    "version": 3
   },
   "file_extension": ".py",
   "mimetype": "text/x-python",
   "name": "python",
   "nbconvert_exporter": "python",
   "pygments_lexer": "ipython3",
   "version": "3.10.0"
  }
 },
 "nbformat": 4,
 "nbformat_minor": 2
}
