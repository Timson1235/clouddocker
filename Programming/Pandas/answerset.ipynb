{
 "cells": [
  {
   "cell_type": "code",
   "execution_count": 32,
   "metadata": {},
   "outputs": [
    {
     "data": {
      "text/html": [
       "<div>\n",
       "<style scoped>\n",
       "    .dataframe tbody tr th:only-of-type {\n",
       "        vertical-align: middle;\n",
       "    }\n",
       "\n",
       "    .dataframe tbody tr th {\n",
       "        vertical-align: top;\n",
       "    }\n",
       "\n",
       "    .dataframe thead th {\n",
       "        text-align: right;\n",
       "    }\n",
       "</style>\n",
       "<table border=\"1\" class=\"dataframe\">\n",
       "  <thead>\n",
       "    <tr style=\"text-align: right;\">\n",
       "      <th></th>\n",
       "      <th>name</th>\n",
       "      <th>sex</th>\n",
       "      <th>age</th>\n",
       "      <th>embarked</th>\n",
       "      <th>home.dest</th>\n",
       "      <th>ticket</th>\n",
       "      <th>pclass</th>\n",
       "      <th>cabin</th>\n",
       "      <th>fare</th>\n",
       "      <th>sibsp</th>\n",
       "      <th>parch</th>\n",
       "      <th>survived</th>\n",
       "      <th>boat</th>\n",
       "      <th>body</th>\n",
       "    </tr>\n",
       "  </thead>\n",
       "  <tbody>\n",
       "    <tr>\n",
       "      <th>0</th>\n",
       "      <td>Allen, Miss. Elisabeth Walton</td>\n",
       "      <td>female</td>\n",
       "      <td>29.0000</td>\n",
       "      <td>Southampton</td>\n",
       "      <td>St Louis, MO</td>\n",
       "      <td>24160</td>\n",
       "      <td>1</td>\n",
       "      <td>B5</td>\n",
       "      <td>211.34</td>\n",
       "      <td>0</td>\n",
       "      <td>0</td>\n",
       "      <td>1</td>\n",
       "      <td>2</td>\n",
       "      <td>NaN</td>\n",
       "    </tr>\n",
       "    <tr>\n",
       "      <th>1</th>\n",
       "      <td>Allison, Master. Hudson Trevor</td>\n",
       "      <td>male</td>\n",
       "      <td>0.9167</td>\n",
       "      <td>Southampton</td>\n",
       "      <td>Montreal, PQ / Chesterville, ON</td>\n",
       "      <td>113781</td>\n",
       "      <td>1</td>\n",
       "      <td>C22 C26</td>\n",
       "      <td>151.55</td>\n",
       "      <td>1</td>\n",
       "      <td>2</td>\n",
       "      <td>1</td>\n",
       "      <td>11</td>\n",
       "      <td>NaN</td>\n",
       "    </tr>\n",
       "    <tr>\n",
       "      <th>2</th>\n",
       "      <td>Allison, Miss. Helen Loraine</td>\n",
       "      <td>female</td>\n",
       "      <td>2.0000</td>\n",
       "      <td>Southampton</td>\n",
       "      <td>Montreal, PQ / Chesterville, ON</td>\n",
       "      <td>113781</td>\n",
       "      <td>1</td>\n",
       "      <td>C22 C26</td>\n",
       "      <td>151.55</td>\n",
       "      <td>1</td>\n",
       "      <td>2</td>\n",
       "      <td>0</td>\n",
       "      <td>NaN</td>\n",
       "      <td>NaN</td>\n",
       "    </tr>\n",
       "    <tr>\n",
       "      <th>3</th>\n",
       "      <td>Allison, Mr. Hudson Joshua Creighton</td>\n",
       "      <td>male</td>\n",
       "      <td>30.0000</td>\n",
       "      <td>Southampton</td>\n",
       "      <td>Montreal, PQ / Chesterville, ON</td>\n",
       "      <td>113781</td>\n",
       "      <td>1</td>\n",
       "      <td>C22 C26</td>\n",
       "      <td>151.55</td>\n",
       "      <td>1</td>\n",
       "      <td>2</td>\n",
       "      <td>0</td>\n",
       "      <td>NaN</td>\n",
       "      <td>135.0</td>\n",
       "    </tr>\n",
       "    <tr>\n",
       "      <th>4</th>\n",
       "      <td>Allison, Mrs. Hudson J C (Bessie Waldo Daniels)</td>\n",
       "      <td>female</td>\n",
       "      <td>25.0000</td>\n",
       "      <td>Southampton</td>\n",
       "      <td>Montreal, PQ / Chesterville, ON</td>\n",
       "      <td>113781</td>\n",
       "      <td>1</td>\n",
       "      <td>C22 C26</td>\n",
       "      <td>151.55</td>\n",
       "      <td>1</td>\n",
       "      <td>2</td>\n",
       "      <td>0</td>\n",
       "      <td>NaN</td>\n",
       "      <td>NaN</td>\n",
       "    </tr>\n",
       "  </tbody>\n",
       "</table>\n",
       "</div>"
      ],
      "text/plain": [
       "                                              name     sex      age  \\\n",
       "0                    Allen, Miss. Elisabeth Walton  female  29.0000   \n",
       "1                   Allison, Master. Hudson Trevor    male   0.9167   \n",
       "2                     Allison, Miss. Helen Loraine  female   2.0000   \n",
       "3             Allison, Mr. Hudson Joshua Creighton    male  30.0000   \n",
       "4  Allison, Mrs. Hudson J C (Bessie Waldo Daniels)  female  25.0000   \n",
       "\n",
       "      embarked                        home.dest  ticket  pclass    cabin  \\\n",
       "0  Southampton                     St Louis, MO   24160       1       B5   \n",
       "1  Southampton  Montreal, PQ / Chesterville, ON  113781       1  C22 C26   \n",
       "2  Southampton  Montreal, PQ / Chesterville, ON  113781       1  C22 C26   \n",
       "3  Southampton  Montreal, PQ / Chesterville, ON  113781       1  C22 C26   \n",
       "4  Southampton  Montreal, PQ / Chesterville, ON  113781       1  C22 C26   \n",
       "\n",
       "     fare  sibsp  parch  survived boat   body  \n",
       "0  211.34      0      0         1    2    NaN  \n",
       "1  151.55      1      2         1   11    NaN  \n",
       "2  151.55      1      2         0  NaN    NaN  \n",
       "3  151.55      1      2         0  NaN  135.0  \n",
       "4  151.55      1      2         0  NaN    NaN  "
      ]
     },
     "execution_count": 32,
     "metadata": {},
     "output_type": "execute_result"
    }
   ],
   "source": [
    "import pandas as pd\n",
    "\n",
    "df = pd.read_csv('titanic.csv')\n",
    "\n",
    "df.head()"
   ]
  },
  {
   "cell_type": "code",
   "execution_count": 30,
   "metadata": {},
   "outputs": [
    {
     "name": "stdout",
     "output_type": "stream",
     "text": [
      "ther five boats that saved the largest amount of people are:\n",
      " boat\n",
      "13    39\n",
      "C     37\n",
      "15    37\n",
      "14    32\n",
      "4     31\n",
      "Name: survived, dtype: int64\n"
     ]
    }
   ],
   "source": [
    "# Group by the 'boat' column and sum the 'survived' column\n",
    "boat_survivors = df.groupby(\"boat\")['survived'].sum()\n",
    "\n",
    "# Display the result\n",
    "print('ther five boats that saved the largest amount of people are:\\n', boat_survivors.sort_values(ascending=False)[:5])"
   ]
  },
  {
   "cell_type": "markdown",
   "metadata": {},
   "source": [
    "How many boats where there in total?"
   ]
  },
  {
   "cell_type": "code",
   "execution_count": 41,
   "metadata": {},
   "outputs": [
    {
     "name": "stdout",
     "output_type": "stream",
     "text": [
      "there were 27 different boats saving people\n"
     ]
    }
   ],
   "source": [
    "print(f'there were {df[\"boat\"].nunique()} different boats saving people')"
   ]
  },
  {
   "cell_type": "markdown",
   "metadata": {},
   "source": [
    "which boat saved the most MAN"
   ]
  },
  {
   "cell_type": "code",
   "execution_count": 45,
   "metadata": {},
   "outputs": [
    {
     "name": "stdout",
     "output_type": "stream",
     "text": [
      "the boat with the most male survivors was the boat 24\n"
     ]
    },
    {
     "name": "stderr",
     "output_type": "stream",
     "text": [
      "C:\\Users\\TimPr\\AppData\\Local\\Temp\\ipykernel_21408\\3502324237.py:3: FutureWarning: Series.__getitem__ treating keys as positions is deprecated. In a future version, integer keys will always be treated as labels (consistent with DataFrame behavior). To access a value by position, use `ser.iloc[pos]`\n",
      "  print(f'the boat with the most male survivors was the boat {male_boat_survivors.sort_values(ascending=False)[0]}')\n"
     ]
    }
   ],
   "source": [
    "male_boat_survivors = df[df['sex'] == 'male'].groupby('boat')['survived'].sum()\n",
    "\n",
    "print(f'the boat with the most male survivors was the boat {male_boat_survivors.sort_values(ascending=False)[0]}')"
   ]
  },
  {
   "cell_type": "code",
   "execution_count": 51,
   "metadata": {},
   "outputs": [
    {
     "name": "stdout",
     "output_type": "stream",
     "text": [
      "The boat with the most male survivors was the boat 17\n"
     ]
    }
   ],
   "source": [
    "# Filter for male survivors older than 20\n",
    "male_boat_survivors = df[(df['sex'] == 'male') & (df['age'] > 20)].groupby('boat')['survived'].sum()\n",
    "\n",
    "# Sort by the number of survivors and get the first boat with the most survivors\n",
    "most_survivors_boat = male_boat_survivors.sort_values(ascending=False).iloc[0]\n",
    "\n",
    "print(f'The boat with the most male adult survivors was the boat {most_survivors_boat}')\n"
   ]
  },
  {
   "cell_type": "code",
   "execution_count": 58,
   "metadata": {},
   "outputs": [
    {
     "name": "stdout",
     "output_type": "stream",
     "text": [
      "The average number of people saved by boat is 17.67\n"
     ]
    }
   ],
   "source": [
    "# Group by 'boat' and sum the 'survived' column\n",
    "boat_survivors = df.groupby('boat')['survived'].sum()\n",
    "\n",
    "# Calculate the average number of survivors per boat\n",
    "average_survivors_per_boat = boat_survivors.mean()\n",
    "\n",
    "print(f'The average number of people saved by boat is {average_survivors_per_boat:.2f}')\n"
   ]
  },
  {
   "cell_type": "code",
   "execution_count": 69,
   "metadata": {},
   "outputs": [
    {
     "name": "stdout",
     "output_type": "stream",
     "text": [
      "The boats with the most first class survivors were:\n",
      "boat\n",
      "5     27\n",
      "3     26\n",
      "4     24\n",
      "8     23\n",
      "7     22\n",
      "6     19\n",
      "D      9\n",
      "10     8\n",
      "2      7\n",
      "11     6\n",
      "Name: survived, dtype: int64\n"
     ]
    }
   ],
   "source": [
    "# Filter for first-class passengers\n",
    "firstclass_boat_survivors = df[df['pclass'] == 1].groupby('boat')['survived'].sum()\n",
    "\n",
    "# Sort by the number of survivors and get the top 10 boats\n",
    "most_survivors_boat = firstclass_boat_survivors.sort_values(ascending=False).head(10)\n",
    "\n",
    "# Display the result\n",
    "print(f'The boats with the most first class survivors were:\\n{most_survivors_boat}')\n"
   ]
  },
  {
   "cell_type": "code",
   "execution_count": 72,
   "metadata": {},
   "outputs": [
    {
     "name": "stdout",
     "output_type": "stream",
     "text": [
      "the everage fair by boat was: boat\n",
      "1           46.980000\n",
      "10          62.155172\n",
      "11          37.648800\n",
      "12          19.688947\n",
      "13          16.143590\n",
      "13 15        7.510000\n",
      "13 15 B      7.750000\n",
      "14          32.688788\n",
      "15          11.716216\n",
      "15 16        7.750000\n",
      "16          13.293478\n",
      "2           92.127692\n",
      "3          147.133846\n",
      "4          127.922258\n",
      "5           60.287407\n",
      "5 7         52.000000\n",
      "5 9         26.550000\n",
      "6           83.375000\n",
      "7           52.948261\n",
      "8          100.560000\n",
      "8 10        26.550000\n",
      "9           26.464400\n",
      "A           24.168182\n",
      "B           24.306667\n",
      "C           19.375263\n",
      "C D         20.520000\n",
      "D           35.993000\n",
      "Name: fare, dtype: float64\n"
     ]
    }
   ],
   "source": [
    "average_fair_by_boat = df.groupby('boat')['fare'].mean()\n",
    "\n",
    "print('the everage fair by boat was:',average_fair_by_boat)"
   ]
  },
  {
   "cell_type": "markdown",
   "metadata": {},
   "source": [
    "- By boat: what was the (1) average fare, (2) the number of people with data on the paid fare, (3) the number of people saved? (Note: Please calculate this in one single query)"
   ]
  },
  {
   "cell_type": "code",
   "execution_count": 79,
   "metadata": {},
   "outputs": [
    {
     "name": "stdout",
     "output_type": "stream",
     "text": [
      "         average_fare  count_fare_data  survivors\n",
      "boat                                             \n",
      "1           46.980000                5          5\n",
      "10          62.155172               29         29\n",
      "11          37.648800               25         25\n",
      "12          19.688947               19         18\n",
      "13          16.143590               39         39\n",
      "13 15        7.510000                2          2\n",
      "13 15 B      7.750000                1          1\n",
      "14          32.688788               33         32\n",
      "15          11.716216               37         37\n",
      "15 16        7.750000                1          1\n",
      "16          13.293478               23         23\n",
      "2           92.127692               13         13\n",
      "3          147.133846               26         26\n",
      "4          127.922258               31         31\n",
      "5           60.287407               27         27\n",
      "5 7         52.000000                2          2\n",
      "5 9         26.550000                1          1\n",
      "6           83.375000               20         20\n",
      "7           52.948261               23         23\n",
      "8          100.560000               23         23\n",
      "8 10        26.550000                1          1\n",
      "9           26.464400               25         25\n",
      "A           24.168182               11          7\n",
      "B           24.306667                9          8\n",
      "C           19.375263               38         37\n",
      "C D         20.520000                2          2\n",
      "D           35.993000               20         19\n"
     ]
    }
   ],
   "source": [
    "# Group by boat and aggregate the required statistics\n",
    "boat_stats = df.groupby('boat').agg(\n",
    "    average_fare=('fare', 'mean'),             # Average fare\n",
    "    count_fare_data=('fare', 'count'),         # Count of fare entries\n",
    "    survivors=('survived', 'sum')               # Number of survivors\n",
    ")\n",
    "\n",
    "# Display the resulting DataFrame\n",
    "print(boat_stats)"
   ]
  },
  {
   "cell_type": "markdown",
   "metadata": {},
   "source": [
    "# 2. Investigation of fares\n",
    "- The fares are given in British Pounds. 1 British Pound at that time corresponds to 161 US Dollar today. And 1 US Dollar corresponds currently to 0.90 Euro. Please convert the original fares to current day Euros, and store it in a new column. \n"
   ]
  },
  {
   "cell_type": "code",
   "execution_count": 81,
   "metadata": {},
   "outputs": [
    {
     "name": "stdout",
     "output_type": "stream",
     "text": [
      "0       30623.166\n",
      "1       21959.595\n",
      "2       21959.595\n",
      "3       21959.595\n",
      "4       21959.595\n",
      "          ...    \n",
      "1304     2093.805\n",
      "1305     2093.805\n",
      "1306     1046.178\n",
      "1307     1046.178\n",
      "1308     1141.812\n",
      "Name: modern_fare, Length: 1309, dtype: float64\n"
     ]
    }
   ],
   "source": [
    "df['modern_fare'] = df['fare'] * 161 * 0.9\n",
    "\n",
    "print(df['modern_fare'])"
   ]
  },
  {
   "cell_type": "markdown",
   "metadata": {},
   "source": [
    "- Are the fares provided in the data the prices paid by person, or the prices paid by ticket (potentially covering multiple people)? Carry out a detailed data analysis to answer this question.\n"
   ]
  },
  {
   "cell_type": "code",
   "execution_count": 83,
   "metadata": {},
   "outputs": [
    {
     "data": {
      "text/plain": [
       "name           1309\n",
       "sex            1309\n",
       "age            1046\n",
       "embarked       1307\n",
       "home.dest       745\n",
       "ticket         1309\n",
       "pclass         1309\n",
       "cabin           295\n",
       "fare           1308\n",
       "sibsp          1309\n",
       "parch          1309\n",
       "survived       1309\n",
       "boat            486\n",
       "body            121\n",
       "modern_fare    1308\n",
       "dtype: int64"
      ]
     },
     "execution_count": 83,
     "metadata": {},
     "output_type": "execute_result"
    }
   ],
   "source": [
    "df.count()"
   ]
  },
  {
   "cell_type": "code",
   "execution_count": 88,
   "metadata": {},
   "outputs": [
    {
     "name": "stdout",
     "output_type": "stream",
     "text": [
      "count    1308.000000\n",
      "mean       33.295635\n",
      "std        51.758749\n",
      "min         0.000000\n",
      "25%         7.900000\n",
      "50%        14.450000\n",
      "75%        31.280000\n",
      "max       512.330000\n",
      "Name: fare, dtype: float64\n"
     ]
    }
   ],
   "source": [
    "print(df['fare'].describe())\n"
   ]
  },
  {
   "cell_type": "markdown",
   "metadata": {},
   "source": [
    "- What are other interesting patterns related to the fares paid? Freely explore!"
   ]
  },
  {
   "cell_type": "code",
   "execution_count": 92,
   "metadata": {},
   "outputs": [
    {
     "data": {
      "image/png": "[encoded data removed]",
      "text/plain": [
       "<Figure size 1000x600 with 1 Axes>"
      ]
     },
     "metadata": {},
     "output_type": "display_data"
    }
   ],
   "source": [
    "import matplotlib.pyplot as plt\n",
    "import seaborn as sns\n",
    "\n",
    "plt.figure(figsize=(10, 6))\n",
    "sns.histplot(df['modern_fare'], bins=60, kde=True)\n",
    "plt.title('Distribution of Fares')\n",
    "plt.xlabel('Fare')\n",
    "plt.ylabel('Frequency')\n",
    "plt.show()"
   ]
  },
  {
   "cell_type": "code",
   "execution_count": 93,
   "metadata": {},
   "outputs": [
    {
     "name": "stdout",
     "output_type": "stream",
     "text": [
      "pclass\n",
      "1    87.509040\n",
      "2    21.179242\n",
      "3    13.303136\n",
      "Name: fare, dtype: float64\n"
     ]
    }
   ],
   "source": [
    "average_fare_by_class = df.groupby('pclass')['fare'].mean()\n",
    "print(average_fare_by_class)\n"
   ]
  },
  {
   "cell_type": "code",
   "execution_count": 95,
   "metadata": {},
   "outputs": [
    {
     "name": "stdout",
     "output_type": "stream",
     "text": [
      "Shared tickets:\n",
      "ticket\n",
      "CA. 2343    11\n",
      "1601         8\n",
      "CA 2144      8\n",
      "PC 17608     7\n",
      "347077       7\n",
      "            ..\n",
      "13507        2\n",
      "PC 17603     2\n",
      "13050        2\n",
      "113776       2\n",
      "PC 17585     2\n",
      "Name: count, Length: 216, dtype: int64\n"
     ]
    }
   ],
   "source": [
    "ticket_counts = df['ticket'].value_counts()\n",
    "shared_tickets = ticket_counts[ticket_counts > 1]\n",
    "print(f'Shared tickets:\\n{shared_tickets}')\n"
   ]
  }
 ],
 "metadata": {
  "kernelspec": {
   "display_name": "Python 3",
   "language": "python",
   "name": "python3"
  },
  "language_info": {
   "codemirror_mode": {
    "name": "ipython",
    "version": 3
   },
   "file_extension": ".py",
   "mimetype": "text/x-python",
   "name": "python",
   "nbconvert_exporter": "python",
   "pygments_lexer": "ipython3",
   "version": "3.12.4"
  }
 },
 "nbformat": 4,
 "nbformat_minor": 2
}
