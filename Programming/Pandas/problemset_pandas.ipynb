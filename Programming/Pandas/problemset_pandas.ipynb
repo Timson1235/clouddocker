{
 "cells": [
  {
   "cell_type": "markdown",
   "metadata": {},
   "source": [
    "# General instructions\n",
    "- Install the package `Pandas` in your course-specific virtual environment, if you have not done so already.\n",
    "- Store the data file `titanic.csv` either in the same directory as the current Jupyter notebook, or in a subdirectory named `data`.\n",
    "- Read in the data set 'titanic.csv' as a Pandas DataFrame. \n",
    "- Answer the questions below, and other questions that may arise in the process.\n",
    "\n",
    "Note that the data set was downloaded from [Kaggle](https://www.kaggle.com/datasets/vinicius150987/titanic3). Only minimal preprocessing has been performed on the data set. Careful inspection shows that the likely raw source of the data is [Encyclopedia Titanica](https://www.encyclopedia-titanica.org/). Note that there is also a (less complete) variant of the data set available via the Python package `seaborn`."
   ]
  },
  {
   "cell_type": "markdown",
   "metadata": {},
   "source": [
    "# 1. Investigation of lifeboats on the Titanic\n",
    "\n",
    "- Which were the 5 boats that saved the largest number of people?\n",
    "- How many boats were there in total?\n",
    "- Which boats saved the largest number of male passengers?\n",
    "- Which boats saved the larges proportion of male adult passengers?\n",
    "- What was the average number of people saved by boat?\n",
    "- Which boats saved in particular people from the 1st (2nd, 3rd) class?\n",
    "- What was the average fare paid by boat?\n",
    "- By boat: what was the (1) average fare, (2) the number of people with data on the paid fare, (3) the number of people saved? (Note: Please calculate this in one single query)"
   ]
  },
  {
   "cell_type": "markdown",
   "metadata": {},
   "source": [
    "# 2. Investigation of fares\n",
    "- The fares are given in British Pounds. 1 British Pound at that time corresponds to 161 US Dollar today. And 1 US Dollar corresponds currently to 0.90 Euro. Please convert the original fares to current day Euros, and store it in a new column. \n",
    "- Are the fares provided in the data the prices paid by person, or the prices paid by ticket (potentially covering multiple people)? Carry out a detailed data analysis to answer this question.\n",
    "- What are other interesting patterns related to the fares paid? Freely explore!"
   ]
  },
  {
   "cell_type": "markdown",
   "metadata": {},
   "source": [
    "# 3. Questions collected in class\n",
    "- What are other interesting questions that can be answered with the data? Freely explore!\n",
    "\n",
    "## Aggregate statistics: mean, ...\n",
    "- Mean age\n",
    "- Average size of the families travelling\n",
    "\n",
    "## Number of / counts of specific attributes\n",
    "- How many peope survived, or died?\n",
    "- How many people were travelling in different passenger classes?\n",
    "- Are there more embarkation ports?\n",
    "- Where do people come from (`home_dest`)?\n",
    "- Of the people who died, how many were not found?\n",
    "\n",
    "## Data cleaning\n",
    "- Do we have duplicate values?\n",
    "- Checking the data types\n",
    "- Refactor data types: e.g. string column sex into boolean (0/1)\n",
    "\n",
    "# Relationship between two (or more variables): causality?\n",
    "- Did more woman survive than men (percentage-wise)?\n",
    "- Did more children survive than adults (percentage-wise)?\n",
    "- What is the likelihood of survival in the first/second/... class?\n",
    "\n",
    "\n",
    "# Ranking / Sorting\n",
    "- Which cabins have the least/most survivers?\n",
    "- Which boat saved the most numbers?\n"
   ]
  }
 ],
 "metadata": {
  "kernelspec": {
   "display_name": ".venv",
   "language": "python",
   "name": "python3"
  },
  "language_info": {
   "codemirror_mode": {
    "name": "ipython",
    "version": 3
   },
   "file_extension": ".py",
   "mimetype": "text/x-python",
   "name": "python",
   "nbconvert_exporter": "python",
   "pygments_lexer": "ipython3",
   "version": "3.12.5"
  }
 },
 "nbformat": 4,
 "nbformat_minor": 2
}
